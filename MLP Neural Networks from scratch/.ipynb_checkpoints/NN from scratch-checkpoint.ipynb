{
 "cells": [
  {
   "cell_type": "markdown",
   "metadata": {
    "colab_type": "text",
    "id": "N5QCLaUnrnBV"
   },
   "source": [
    "# Back Propagation"
   ]
  },
  {
   "cell_type": "code",
   "execution_count": 1,
   "metadata": {},
   "outputs": [],
   "source": [
    "import random\n",
    "import numpy as np\n",
    "from tqdm import tqdm_notebook\n",
    "from sklearn.metrics import mean_squared_error as mse\n",
    "from matplotlib import pyplot as plt"
   ]
  },
  {
   "cell_type": "markdown",
   "metadata": {
    "colab_type": "text",
    "id": "sH5jPVX-rnBd"
   },
   "source": [
    "## 1. loading of data"
   ]
  },
  {
   "cell_type": "code",
   "execution_count": 2,
   "metadata": {
    "colab": {},
    "colab_type": "code",
    "id": "y4WT0EJRrnBg",
    "outputId": "90804161-647c-4283-a8c2-27188dd451ce"
   },
   "outputs": [
    {
     "name": "stdout",
     "output_type": "stream",
     "text": [
      "(506, 6)\n",
      "(506, 5) (506,)\n"
     ]
    }
   ],
   "source": [
    "import pickle\n",
    "with open('data.pkl', 'rb') as f:\n",
    "    data = pickle.load(f)\n",
    "print(data.shape)\n",
    "X = data[:, :5]\n",
    "y = data[:, -1]\n",
    "print(X.shape, y.shape)"
   ]
  },
  {
   "cell_type": "code",
   "execution_count": 3,
   "metadata": {},
   "outputs": [
    {
     "data": {
      "text/plain": [
       "array([[-1.2879095 , -0.12001342, -1.45900038, -0.66660821, -0.14421743],\n",
       "       [-0.59338101,  0.36716642, -0.30309415, -0.98732948, -0.74026221],\n",
       "       [-0.59338101, -0.26581176, -0.30309415, -0.98732948, -0.74026221],\n",
       "       ...,\n",
       "       [ 0.11573841,  0.79744934,  1.17646583, -0.80321172,  0.15812412],\n",
       "       [ 0.11573841,  0.73699637,  1.17646583, -0.80321172,  0.15812412],\n",
       "       [ 0.11573841,  0.43473151,  1.17646583, -0.80321172,  0.15812412]])"
      ]
     },
     "execution_count": 3,
     "metadata": {},
     "output_type": "execute_result"
    }
   ],
   "source": [
    "np.array(X)"
   ]
  },
  {
   "cell_type": "code",
   "execution_count": 4,
   "metadata": {},
   "outputs": [],
   "source": [
    "seed = 3"
   ]
  },
  {
   "cell_type": "markdown",
   "metadata": {
    "colab_type": "text",
    "id": "GIkq6U0SrnBu"
   },
   "source": [
    "# 2. Computational graph"
   ]
  },
  {
   "cell_type": "markdown",
   "metadata": {
    "colab_type": "text",
    "id": "3XnJH-McrnBx"
   },
   "source": [
    "<img src='https://i.imgur.com/seSGbNS.png'>"
   ]
  },
  {
   "cell_type": "markdown",
   "metadata": {
    "colab_type": "text",
    "id": "YRQKYgJrrnB0"
   },
   "source": [
    "<pre>\n",
    "1. if you observe the graph, we are having input features [f1, f2, f3, f4, f5] and 9 weights [w1, w2, w3, w4, w5, w6,    w7, w8, w9]\n",
    "2. the final output of this graph is a value L which is computed as (Y-Y')^2\n",
    "</pre>"
   ]
  },
  {
   "cell_type": "markdown",
   "metadata": {
    "colab_type": "text",
    "id": "inW-os8IrnB3"
   },
   "source": [
    "### Task 1: Implementing backpropagation and Gradient checking\n",
    "\n",
    "\n",
    "<pre>1. <b>Check this video for better understanding of the computational graphs and back propagation:</b> <a href='https://www.youtube.com/watch?v=i94OvYb6noo#t=1m33s'>https://www.youtube.com/watch?v=i94OvYb6noo</a>\n",
    "</pre>\n",
    "\n",
    "<pre>\n",
    "2. <b>write two functions</b>\n",
    "\n",
    "#you can modify the definition of this function according to your needs\n",
    "<font color='green'>\n",
    "def forward_propagation(X, y, W):\n",
    "        <font color='grey'>\n",
    "        # X: input data point, note that in this assignment you are having 5-d data points\n",
    "        # y: output varible\n",
    "        # W: weight array, its of length 9, W[0] corresponds to w1 in graph, W[1] corresponds to w2 in graph, ..., W[8] corresponds to w9 in graph.\n",
    "        # write code to compute the value of L=(y-y')^2\n",
    "        </font>\n",
    "        return (L, any other variables which you might need to use for back propagation)\n",
    "        <font color='grey'>\n",
    "        # Hint: you can use dict type to store the required intermediate variables \n",
    "        </font>\n",
    "</font>\n",
    "</pre>\n",
    "\n",
    "<pre>\n",
    "# you can modify the definition of this function according to your needs\n",
    "<font color='blue'>\n",
    "def backward_propagation(L, Variables):\n",
    "        <font color='grey'>\n",
    "        # L: the loss we calculated for the current point\n",
    "        # Variables: the outputs of the forward_propagation() function\n",
    "        # write code to compute the gradients of each weight [w1,w2,w3,...,w9]\n",
    "        </font>\n",
    "        return dW\n",
    "        <font color='grey'>\n",
    "        # here dW can be a list, or dict or any other data type wich will have gradients of all the weights\n",
    "        # Hint: you can use dict type to store the required variables \n",
    "        </font>\n",
    "</font>\n",
    "</pre>\n",
    "3. <b> <a href='https://towardsdatascience.com/how-to-debug-a-neural-network-with-gradient-checking-41deec0357a9'>Gradient checking</a></b>:<a href='https://towardsdatascience.com/how-to-debug-a-neural-network-with-gradient-checking-41deec0357a9'>blog link</a> \n",
    "\n",
    "<pre>we know that the derivative of any function is </pre>$$\\lim_{\\epsilon\\to0}\\frac{f(x+\\epsilon)-f(x-\\epsilon)}{2\\epsilon}$$\n",
    "<pre>\n",
    "The definition above can be used as a numerical approximation of the derivative. Taking an epsilon small enough, the calculated approximation will have an error in the range of epsilon squared. \n",
    "\n",
    "In other words, if epsilon is 0.001, the approximation will be off by 0.00001.\n",
    "\n",
    "Therefore, we can use this to approximate the gradient, and in turn make sure that backpropagation is implemented properly. This forms the basis of gradient checking!\n",
    "\n",
    "</pre>\n",
    "\n",
    "<font >\n",
    "lets understand the concept with a simple example:\n",
    "$f(w1,w2,x1,x2)=w_{1}^{2} . x_{1} + w_{2} . x_{2}$ \n",
    "\n",
    "from the above function lets assume $w_{1}=1$, $w_{2}=2$, $x_{1}=3$, $x_{2}=4$ the gradient of $f$ w.r.t $w_{1}$ is\n",
    "\n",
    "\\begin{array} {lcl}\n",
    "\\frac{df}{dw_{1}} = dw_{1} &=&2.w_{1}.x_{1} \\\\& = &2.1.3\\\\& = &6\n",
    "\\end{array}\n",
    "\n",
    "\n",
    "let calculate the aproximate gradient of $w_{1}$ as mentinoned in the above formula and considering $\\epsilon=0.0001$\n",
    "\n",
    "\\begin{array} {lcl}\n",
    "dw_1^{approx} & = & \\frac{f(w1+\\epsilon,w2,x1,x2)-f(w1-\\epsilon,w2,x1,x2)}{2\\epsilon} \\\\ & = & \\frac{((1+0.0001)^{2} . 3 + 2 . 4) - ((1-0.0001)^{2} . 3 + 2 . 4)}{2\\epsilon} \\\\ & = & \\frac{(1.00020001 . 3 + 2 . 4) - (0.99980001. 3 + 2 . 4)}{2*0.0001} \\\\ & = & \\frac{(11.00060003) - (10.99940003)}{0.0002}\\\\ & = & 5.99999999999\n",
    "\\end{array}\n",
    "\n",
    "Then, we apply the following formula for gradient check: <i>gradient_check</i> = \n",
    "$\\frac{\\left\\Vert\\left (dW-dW^{approx}\\rm\\right) \\right\\Vert_2}{\\left\\Vert\\left (dW\\rm\\right) \\right\\Vert_2+\\left\\Vert\\left (dW^{approx}\\rm\\right) \\right\\Vert_2}$\n",
    "\n",
    "The equation above is basically the Euclidean distance normalized by the sum of the norm of the vectors. We use normalization in case that one of the vectors is very small.\n",
    "As a value for epsilon, we usually opt for 1e-7. Therefore, if gradient check return a value less than 1e-7, then it means that backpropagation was implemented correctly. Otherwise, there is potentially a mistake in your implementation. If the value exceeds 1e-3, then you are sure that the code is not correct.\n",
    "\n",
    "in our example: <i>gradient_check</i> $ = \\frac{(6 - 5.999999999994898)}{(6 + 5.999999999994898)} = 4.2514140356330737e^{-13}$\n",
    "\n",
    "you can mathamatically derive the same thing like this\n",
    "\n",
    "\\begin{array} {lcl}\n",
    "dw_1^{approx} & = & \\frac{f(w1+\\epsilon,w2,x1,x2)-f(w1-\\epsilon,w2,x1,x2)}{2\\epsilon} \\\\ & = & \\frac{((w_{1}+\\epsilon)^{2} . x_{1} + w_{2} . x_{2}) - ((w_{1}-\\epsilon)^{2} . x_{1} + w_{2} . x_{2})}{2\\epsilon} \\\\ & = & \\frac{4. \\epsilon.w_{1}. x_{1}}{2\\epsilon} \\\\ & = &  2.w_{1}.x_{1}\n",
    "\\end{array}\n",
    "\n",
    "to do this task you need to write a function \n",
    "<pre>\n",
    "<font color='darkblue'>\n",
    "W = initilize_randomly\n",
    "def gradient_checking(data_point, W):\n",
    "    <font color='grey'>\n",
    "    # compute the L value using forward_propagation()\n",
    "    # compute the gradients of W using backword_propagation()\n",
    "    </font>\n",
    "    approx_gradients = []\n",
    "    for each wi weight value in W:\n",
    "        <font color='grey'>\n",
    "        # add a small value to weight wi, and then find the values of L with the updated weights\n",
    "        # subtract a small value to weight wi, and then find the values of L with the updated weights\n",
    "        # compute the approximation gradients of weight wi\n",
    "        </font>\n",
    "        approx_gradients.append(approximation gradients of weight wi)\n",
    "    <font color='grey'>\n",
    "    # compare the gradient of weights W from backword_propagation() with the aproximation gradients of weights with      gradient_check formula\n",
    "    </font>\n",
    "    return gradient_check\n",
    "</font>\n",
    "NOTE: you can do sanity check by checking all the return values of gradient_checking(), they have to be zero. if not you have bug in your code\n",
    "</pre>"
   ]
  },
  {
   "cell_type": "code",
   "execution_count": null,
   "metadata": {},
   "outputs": [],
   "source": [
    "class OurNeuralNetwork:\n",
    "  '''\n",
    "  A neural network with:\n",
    "    - 2 inputs\n",
    "    - a hidden layer with 2 neurons (h1, h2)\n",
    "    - an output layer with 1 neuron (o1)\n",
    "  *** DISCLAIMER ***:\n",
    "  The code below is intended to be simple and educational, NOT optimal.\n",
    "  Real neural net code looks nothing like this. DO NOT use this code.\n",
    "  Instead, read/run it to understand how this specific network works.\n",
    "  '''\n",
    "  def __init__(self):\n",
    "    # Weights\n",
    "    self.w1 = np.random.normal()\n",
    "    self.w2 = np.random.normal()\n",
    "    self.w3 = np.random.normal()\n",
    "    self.w4 = np.random.normal()\n",
    "    self.w5 = np.random.normal()\n",
    "    self.w6 = np.random.normal()\n",
    "\n",
    "    # Biases\n",
    "    self.b1 = np.random.normal()\n",
    "    self.b2 = np.random.normal()\n",
    "    self.b3 = np.random.normal()"
   ]
  },
  {
   "cell_type": "code",
   "execution_count": 5,
   "metadata": {},
   "outputs": [],
   "source": [
    "def initialize_weights(n):\n",
    "    \"\"\"\n",
    "    Initialize weights.\n",
    "    \n",
    "    Weight matrices will be initialized to random values from uniform normal\n",
    "    distribution.\n",
    "    \n",
    "\n",
    "    Parameters\n",
    "    ----------\n",
    "    n : int\n",
    "         Size of weight vector\n",
    "\n",
    "\n",
    "    Returns\n",
    "    ------- \n",
    "    W : array_like\n",
    "        A (9 x 1) matrix of weights\n",
    "    \"\"\"\n",
    "    \n",
    "    random.seed(seed)\n",
    "    W = np.array([random.uniform(0,1) for i in range(n)])\n",
    "    \n",
    "    return W\n",
    "    \n",
    "W = initialize_weights(9)"
   ]
  },
  {
   "cell_type": "code",
   "execution_count": 163,
   "metadata": {},
   "outputs": [],
   "source": [
    "# Class writing style\n",
    "# https://github.com/KirillShmilovich/MLP-Neural-Network-From-Scratch/blob/master/MLP.ipynb\n",
    "def sigmoid(x):\n",
    "    \"\"\"\n",
    "    \n",
    "    Compute the sigmoid of `x`, calculated element-wise\n",
    "    sigmoid applied to `x` element-wise\n",
    "    \n",
    "    \n",
    "    Parameters\n",
    "    ----------\n",
    "    x : float or array_like input\n",
    "\n",
    "\n",
    "    Returns\n",
    "    -------\n",
    "    sigmoid(x) : float or array_like\n",
    "    \"\"\"\n",
    "    return 1/(1+np.exp(-x))"
   ]
  },
  {
   "cell_type": "code",
   "execution_count": 164,
   "metadata": {},
   "outputs": [],
   "source": [
    "def forward_propagation(F, y, W):\n",
    "    \"\"\"\n",
    "    Calculate loss, y_pred and intermediate variable dictionary\n",
    "    \n",
    "    \n",
    "    Parameters\n",
    "    ----------\n",
    "    F : array_like input for input features\n",
    "    y : array_like input for target labels\n",
    "    W : array_like input for weights\n",
    "    \n",
    "    \n",
    "    Returns\n",
    "    -------\n",
    "    y_pred : float prediction\n",
    "    Loss : squared loss\n",
    "    var_dict : dictionary for intermediate variables\n",
    "    \"\"\"\n",
    "    \n",
    "    q1 = W[0] * F[0]\n",
    "    q2 = W[1] * F[1]\n",
    "    q3 = q1 + q2\n",
    "    q4 = q1 + q2\n",
    "    q5 = q3 * q4\n",
    "    q6 = W[5] + q5\n",
    "    q7 = np.exp(q6)\n",
    "    q8 = W[6] + q7\n",
    "    q9 = np.tanh(q8)\n",
    "    q10 = W[2] * F[2]\n",
    "    q11 = np.sin(q10)\n",
    "    q12 = W[3] * F[3]\n",
    "    q13 = W[4] * F[4]\n",
    "    q14 = q12 + q13\n",
    "    q15 = q11 * q14\n",
    "    q16 = W[7] + q15\n",
    "    q17 = sigmoid(q16)\n",
    "    q18 = W[8] * q17\n",
    "    y_pred = q9 + q18\n",
    "    Loss = (y - y_pred)**2\n",
    "    var_dict = {\n",
    "        'q1':q1,'q2':q2,'q3':q3,'q4':q4,'q5':q5,'q6':q6,'q7':q7,'q8':q8,'q9':q9,'q10':q10,'q11':q11,'q12':q12,'q13':q13,'q14':q14,'q15':q15,'q16':q16,'q17':q17,'q18':q18\n",
    "    }\n",
    "    \n",
    "    return y_pred, Loss, var_dict"
   ]
  },
  {
   "cell_type": "code",
   "execution_count": 233,
   "metadata": {},
   "outputs": [],
   "source": [
    "def backward_propagation(X, y, W, vd):\n",
    "    \"\"\"\n",
    "    Calculating derivatives and storing frequently used derivatives using memoization\n",
    "    \n",
    "    \n",
    "    Parameters\n",
    "    ----------\n",
    "    X : array_like input for input features\n",
    "    y : array_like input for target labels\n",
    "    W : array_like input for weights\n",
    "    vd : dictionry with keys from q1 to q18\n",
    "    \n",
    "    \n",
    "    Returns\n",
    "    -------\n",
    "    derivatives_list : list with derivatives of w1 to w9\n",
    "    \"\"\"\n",
    "    \n",
    "    y_pred = vd['q9'] + vd['q18']\n",
    "    dL_dy = -2*(y-y_pred)\n",
    "    \n",
    "    \n",
    "    dqy_q18 = 1\n",
    "    dqy_q9 = 1\n",
    "    dq1 = X[0]\n",
    "    dq2 = X[1]\n",
    "    dq3 = 1\n",
    "    dq4 = 1\n",
    "    dq5 = 2 * vd['q3']\n",
    "    dq6 = 1\n",
    "    dq7 = vd['q7']\n",
    "    dq8 = 1\n",
    "    dq9 = 1 - np.tanh(vd['q8'])**2\n",
    "    dq10 = X[2]\n",
    "    dq11 = np.cos(vd['q10'])\n",
    "    dq12 = X[3]\n",
    "    dq13 = X[4]\n",
    "    dq14 = 1\n",
    "    dq15_q11 = vd['q14']\n",
    "    dq15_q14 = vd['q11']\n",
    "    dq16 = 1\n",
    "    dq17 = vd['q17']*(1 - vd['q17'])\n",
    "    dq18_w9 = vd['q17']\n",
    "    dq18_q17 = W[8]\n",
    "\n",
    "\n",
    "    dw1 = dqy_q9*dq9*dq8*dq7*dq6*dq5*dq3*dq1\n",
    "    dw2 = dqy_q9*dq9*dq8*dq7*dq6*dq5*dq4*dq2\n",
    "    dw3 = dqy_q18*dq18_q17*dq17*dq16*dq15_q11*dq11*dq10\n",
    "    dw4 = dqy_q18*dq18_q17*dq17*dq16*dq15_q14*dq14*dq12\n",
    "    dw5 = dqy_q18*dq18_q17*dq17*dq16*dq15_q14*dq14*dq13\n",
    "    dw6 = dqy_q9*dq9*dq8*dq7*dq6\n",
    "    dw7 = dqy_q9*dq9*dq8\n",
    "    dw8 = dqy_q18*dq18_q17*dq17*dq16\n",
    "    dw9 = dqy_q18*dq18_w9\n",
    "    \n",
    "    \n",
    "    grad = np.array([dw1, dw2, dw3, dw4, dw5, dw6, dw7, dw8, dw9])\n",
    "    \n",
    "    return grad"
   ]
  },
  {
   "cell_type": "code",
   "execution_count": 246,
   "metadata": {},
   "outputs": [],
   "source": [
    "#Source -  https://towardsdatascience.com/how-to-debug-a-neural-network-with-gradient-checking-41deec0357a9\n",
    "def gradient_check(X, y, W, e=1e-7):\n",
    "    y_pred, Loss, var_dict = forward_propagation(X, y, W)\n",
    "    grad = backward_propagation_2(X, y, W, var_dict)\n",
    "    approx_gradients = []\n",
    "    \n",
    "    for i, weight in enumerate(W):\n",
    "        w_plus, w_minus = W.copy(), W.copy()\n",
    "        w_plus[i] = w_plus[i] + e\n",
    "        w_minus[i] = w_minus[i] - e\n",
    "        y_pred_p, _, _ = forward_propagation(X, y, w_plus)\n",
    "        y_pred_n, _, _ = forward_propagation(X, y, w_minus)\n",
    "        grad_approx = (y_pred_p-y_pred_n)/(2*e)\n",
    "        approx_gradients.append(grad_approx)\n",
    "        \n",
    "        numerator = np.linalg.norm(grad[i] - approx_gradients[i])\n",
    "        denominator = np.linalg.norm(grad[i]) + np.linalg.norm(approx_gradients[i])\n",
    "        difference = numerator / denominator \n",
    "        \n",
    "        if difference <= 1e-7:\n",
    "            print('weight {0} is correct'.format(i+1))\n",
    "        else:\n",
    "            print('weight {0} is in-correct'.format(i+1))\n",
    "        "
   ]
  },
  {
   "cell_type": "code",
   "execution_count": 247,
   "metadata": {},
   "outputs": [
    {
     "name": "stdout",
     "output_type": "stream",
     "text": [
      "weight 1 is correct\n",
      "weight 2 is correct\n",
      "weight 3 is correct\n",
      "weight 4 is correct\n",
      "weight 5 is correct\n",
      "weight 6 is correct\n",
      "weight 7 is correct\n",
      "weight 8 is correct\n",
      "weight 9 is correct\n"
     ]
    }
   ],
   "source": [
    "gradient_check(X[0], y[0], W)"
   ]
  },
  {
   "cell_type": "markdown",
   "metadata": {
    "colab_type": "text",
    "id": "mf1fj5ZernB5"
   },
   "source": [
    "### Task 2: Optimizers\n",
    "\n",
    "1. As a part of this task, you will be implementing 3 type of optimizers(methods to update weight)\n",
    "2. check this video and blog: https://www.youtube.com/watch?v=gYpoJMlgyXA,  http://cs231n.github.io/neural-networks-3/\n",
    "3. use the same computational graph that was mentioned above to do this task\n",
    "4. initilze the 9 weights from normal distribution with mean=0 and std=0.01\n",
    "\n",
    "5. \n",
    "\n",
    "<pre>\n",
    "    for each epoch(1-100):\n",
    "        for each data point in your data:\n",
    "            using the functions forward_propagation() and backword_propagation() compute the gradients of weights\n",
    "            update the weigts with help of gradients  ex: w1 = w1-learning_rate*dw1\n",
    "</pre>\n",
    "\n",
    "6.\n",
    "\n",
    "<pre>\n",
    "<b>task 2.1</b>: you will be implementing the above algorithm with <b>Vanilla update</b> of weights\n",
    "<b>task 2.2</b>: you will be implementing the above algorithm with <b>Momentum update</b> of weights\n",
    "<b>task 2.3</b>: you will be implementing the above algorithm with <b>Adam update</b> of weights\n",
    "</pre>\n",
    "\n"
   ]
  },
  {
   "cell_type": "code",
   "execution_count": 248,
   "metadata": {},
   "outputs": [
    {
     "ename": "SyntaxError",
     "evalue": "unexpected EOF while parsing (<ipython-input-248-1c6f72b23f17>, line 1)",
     "output_type": "error",
     "traceback": [
      "\u001b[1;36m  File \u001b[1;32m\"<ipython-input-248-1c6f72b23f17>\"\u001b[1;36m, line \u001b[1;32m1\u001b[0m\n\u001b[1;33m    def SGD():\u001b[0m\n\u001b[1;37m              ^\u001b[0m\n\u001b[1;31mSyntaxError\u001b[0m\u001b[1;31m:\u001b[0m unexpected EOF while parsing\n"
     ]
    }
   ],
   "source": [
    "def SGD():\n",
    "    "
   ]
  },
  {
   "cell_type": "code",
   "execution_count": null,
   "metadata": {},
   "outputs": [],
   "source": [
    "\n",
    "        \n",
    "def momentum(x, y):\n",
    "    return w\n",
    "\n",
    "def adam(x, y):\n",
    "    return w"
   ]
  }
 ],
 "metadata": {
  "kernelspec": {
   "display_name": "Python 3",
   "language": "python",
   "name": "python3"
  },
  "language_info": {
   "codemirror_mode": {
    "name": "ipython",
    "version": 3
   },
   "file_extension": ".py",
   "mimetype": "text/x-python",
   "name": "python",
   "nbconvert_exporter": "python",
   "pygments_lexer": "ipython3",
   "version": "3.7.6"
  }
 },
 "nbformat": 4,
 "nbformat_minor": 4
}
