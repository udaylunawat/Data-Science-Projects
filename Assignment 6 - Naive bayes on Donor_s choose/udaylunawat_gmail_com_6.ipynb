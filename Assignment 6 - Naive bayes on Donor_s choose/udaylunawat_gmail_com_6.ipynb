{
 "cells": [
  {
   "cell_type": "markdown",
   "metadata": {
    "colab_type": "text",
    "id": "UzsYjHyATmpU"
   },
   "source": [
    "# Assignment 6: Apply NB"
   ]
  },
  {
   "cell_type": "markdown",
   "metadata": {
    "colab_type": "text",
    "id": "31PHhu3PTmpV"
   },
   "source": [
    "<ol>\n",
    "    <li><strong>Apply Multinomial NB on these feature sets</strong>\n",
    "        <ul>\n",
    "            <li><font color='red'>Set 1</font>: categorical, numerical features + preprocessed_eassay (BOW)</li>\n",
    "            <li><font color='red'>Set 2</font>: categorical, numerical features + preprocessed_eassay (TFIDF)</li>\n",
    "        </ul>\n",
    "    </li>\n",
    "    <li><strong>The hyper paramter tuning(find best alpha:smoothing parameter)</strong>\n",
    "        <ul>\n",
    "    <li>Find the best hyper parameter which will give the maximum <a href='https://www.appliedaicourse.com/course/applied-ai-course-online/lessons/receiver-operating-characteristic-curve-roc-curve-and-auc-1/'>AUC</a> value</li>\n",
    "    <li>find the best hyper paramter using k-fold cross validation(use GridsearchCV or RandomsearchCV)/simple cross validation data (write for loop to iterate over hyper parameter values)</li>\n",
    "    <li></li>\n",
    "        </ul>\n",
    "    </li>\n",
    "    <li>\n",
    "    <strong>Representation of results</strong>\n",
    "        <ul>\n",
    "    <li>You need to plot the performance of model both on train data and cross validation data for each hyper parameter, like shown in the figure\n",
    "    <img src='https://i.imgur.com/hUv6aEy.jpg' width=300px></li>\n",
    "    <li>Once after you found the best hyper parameter, you need to train your model with it, and find the AUC on test data and plot the ROC curve on both train and test.\n",
    "    <img src='https://i.imgur.com/wMQDTFe.jpg' width=300px></li>\n",
    "    <li>Along with plotting ROC curve, you need to print the <a href='https://www.appliedaicourse.com/course/applied-ai-course-online/lessons/confusion-matrix-tpr-fpr-fnr-tnr-1/'>confusion matrix</a> with predicted and original labels of test data points\n",
    "    <img src='https://i.imgur.com/IdN5Ctv.png' width=300px></li>\n",
    "        </ul>\n",
    "    </li>\n",
    "    <li>\n",
    "fine the top 20 features from either from feature <font color='red'>Set 1</font> or feature <font color='red'>Set 2</font> using absolute values of `feature_log_prob_ ` parameter of `MultinomialNB` \n",
    "(https://scikit-learn.org/stable/modules/generated/sklearn.naive_bayes.MultinomialNB.html) and print their corresponding feature names\n",
    "    </li>\n",
    "    <li>You need to summarize the results at the end of the notebook, summarize it in the table format\n",
    "        <img src='http://i.imgur.com/YVpIGGE.jpg' width=400px>\n",
    "    </li>\n",
    "</ol>"
   ]
  },
  {
   "cell_type": "code",
   "execution_count": 1,
   "metadata": {
    "colab": {},
    "colab_type": "code",
    "id": "Rc8rSrTvz5WJ"
   },
   "outputs": [],
   "source": [
    "import numpy as np\n",
    "import pandas as pd\n",
    "import matplotlib\n",
    "import matplotlib.pyplot as plt\n",
    "import seaborn as sns\n",
    "import pickle\n",
    "from tqdm import tqdm_notebook\n",
    "\n",
    "from scipy.sparse import hstack\n",
    "from sklearn.feature_extraction.text import TfidfTransformer, TfidfVectorizer, CountVectorizer\n",
    "\n",
    "from sklearn.preprocessing import MinMaxScaler, OneHotEncoder\n",
    "from sklearn.compose import ColumnTransformer\n",
    "from sklearn.pipeline import Pipeline, make_pipeline\n",
    "import joblib\n",
    "from sklearn.metrics import roc_curve, auc, accuracy_score, confusion_matrix,  roc_auc_score\n",
    "from sklearn import tree\n",
    "from sklearn.tree import DecisionTreeClassifier\n",
    "from sklearn.model_selection import train_test_split, GridSearchCV, KFold\n",
    "\n",
    "from scipy.stats import randint as sp_randint\n",
    "from sklearn.model_selection import RandomizedSearchCV, cross_val_predict\n",
    "from sklearn.naive_bayes import MultinomialNB\n",
    "\n",
    "%matplotlib inline\n",
    "import warnings\n",
    "warnings.filterwarnings(\"ignore\")"
   ]
  },
  {
   "cell_type": "code",
   "execution_count": 14,
   "metadata": {
    "colab": {
     "base_uri": "https://localhost:8080/",
     "height": 50
    },
    "colab_type": "code",
    "executionInfo": {
     "elapsed": 1106,
     "status": "ok",
     "timestamp": 1576763674802,
     "user": {
      "displayName": "Uday Lunawat",
      "photoUrl": "https://lh3.googleusercontent.com/a-/AAuE7mApxTeOX5a74pUPlQFOi2bKH68XOrr0Eyu26dSKzQ=s64",
      "userId": "03427549702697233924"
     },
     "user_tz": -330
    },
    "id": "q1Ewq0-2CfL_",
    "outputId": "bc0b9558-ea34-43ee-dd69-abf0713d8402"
   },
   "outputs": [
    {
     "name": "stdout",
     "output_type": "stream",
     "text": [
      "Drive already mounted at /content/drive/; to attempt to forcibly remount, call drive.mount(\"/content/drive/\", force_remount=True).\n",
      "/content/drive/My Drive/Appliedai colab/donors choose data\n"
     ]
    }
   ],
   "source": [
    "#colab\n",
    "from google.colab import drive\n",
    "drive.mount('/content/drive/')\n",
    "%cd /content/drive/My Drive/Appliedai colab/donors choose data/"
   ]
  },
  {
   "cell_type": "code",
   "execution_count": null,
   "metadata": {
    "colab": {
     "base_uri": "https://localhost:8080/",
     "height": 50
    },
    "colab_type": "code",
    "executionInfo": {
     "elapsed": 4195,
     "status": "ok",
     "timestamp": 1576572202344,
     "user": {
      "displayName": "Uday Lunawat",
      "photoUrl": "https://lh3.googleusercontent.com/a-/AAuE7mApxTeOX5a74pUPlQFOi2bKH68XOrr0Eyu26dSKzQ=s64",
      "userId": "03427549702697233924"
     },
     "user_tz": -330
    },
    "id": "hi5iZCYBFF9A",
    "outputId": "09086a69-ed59-4089-b45d-1371aaacf706"
   },
   "outputs": [
    {
     "name": "stdout",
     "output_type": "stream",
     "text": [
      "[Errno 2] No such file or directory: '/demo-mount/donors choose data/'\n",
      "/content\n"
     ]
    }
   ],
   "source": [
    "# gcp bucket\n",
    "# %cd /demo-mount/donors choose data/"
   ]
  },
  {
   "cell_type": "code",
   "execution_count": null,
   "metadata": {
    "colab": {},
    "colab_type": "code",
    "id": "3--UvzBg3uA5"
   },
   "outputs": [],
   "source": [
    "data = pd.read_csv('preprocessed_final.csv',nrows = 50000,index_col = 0) #reading locally using pandas\n",
    "data = data.drop(['teacher_id','std_price','nrm_price'], axis =1)"
   ]
  },
  {
   "cell_type": "markdown",
   "metadata": {
    "colab_type": "text",
    "id": "Vv59nsmNU8gF"
   },
   "source": [
    "# Feature Set 1 - BOW"
   ]
  },
  {
   "cell_type": "code",
   "execution_count": 16,
   "metadata": {
    "colab": {
     "base_uri": "https://localhost:8080/",
     "height": 635
    },
    "colab_type": "code",
    "executionInfo": {
     "elapsed": 1279,
     "status": "ok",
     "timestamp": 1576763685183,
     "user": {
      "displayName": "Uday Lunawat",
      "photoUrl": "https://lh3.googleusercontent.com/a-/AAuE7mApxTeOX5a74pUPlQFOi2bKH68XOrr0Eyu26dSKzQ=s64",
      "userId": "03427549702697233924"
     },
     "user_tz": -330
    },
    "id": "6GJ8I6rPCfMG",
    "outputId": "24bfaa92-d41f-4458-bab4-e0797e79e0de"
   },
   "outputs": [
    {
     "data": {
      "text/html": [
       "<div>\n",
       "<style scoped>\n",
       "    .dataframe tbody tr th:only-of-type {\n",
       "        vertical-align: middle;\n",
       "    }\n",
       "\n",
       "    .dataframe tbody tr th {\n",
       "        vertical-align: top;\n",
       "    }\n",
       "\n",
       "    .dataframe thead th {\n",
       "        text-align: right;\n",
       "    }\n",
       "</style>\n",
       "<table border=\"1\" class=\"dataframe\">\n",
       "  <thead>\n",
       "    <tr style=\"text-align: right;\">\n",
       "      <th></th>\n",
       "      <th>teacher_prefix</th>\n",
       "      <th>school_state</th>\n",
       "      <th>project_grade_category</th>\n",
       "      <th>project_subject_categories</th>\n",
       "      <th>project_subject_subcategories</th>\n",
       "      <th>project_title</th>\n",
       "      <th>project_resource_summary</th>\n",
       "      <th>teacher_number_of_previously_posted_projects</th>\n",
       "      <th>project_is_approved</th>\n",
       "      <th>essay</th>\n",
       "      <th>price</th>\n",
       "      <th>quantity</th>\n",
       "    </tr>\n",
       "  </thead>\n",
       "  <tbody>\n",
       "    <tr>\n",
       "      <th>0</th>\n",
       "      <td>mrs</td>\n",
       "      <td>in</td>\n",
       "      <td>grades_prek_2</td>\n",
       "      <td>literacy_language</td>\n",
       "      <td>esl_literacy</td>\n",
       "      <td>Educational Support for English Learners at Home</td>\n",
       "      <td>My students need opportunities to practice beg...</td>\n",
       "      <td>0</td>\n",
       "      <td>0</td>\n",
       "      <td>My students are English learners that are work...</td>\n",
       "      <td>154.60</td>\n",
       "      <td>23</td>\n",
       "    </tr>\n",
       "    <tr>\n",
       "      <th>1</th>\n",
       "      <td>mr</td>\n",
       "      <td>fl</td>\n",
       "      <td>grades_6_8</td>\n",
       "      <td>history_civics_health_sports</td>\n",
       "      <td>civics_government_teamsports</td>\n",
       "      <td>Wanted: Projector for Hungry Learners</td>\n",
       "      <td>My students need a projector to help with view...</td>\n",
       "      <td>7</td>\n",
       "      <td>1</td>\n",
       "      <td>Our students arrive to our school eager to lea...</td>\n",
       "      <td>299.00</td>\n",
       "      <td>1</td>\n",
       "    </tr>\n",
       "    <tr>\n",
       "      <th>2</th>\n",
       "      <td>ms</td>\n",
       "      <td>az</td>\n",
       "      <td>grades_6_8</td>\n",
       "      <td>health_sports</td>\n",
       "      <td>health_wellness_teamsports</td>\n",
       "      <td>Soccer Equipment for AWESOME Middle School Stu...</td>\n",
       "      <td>My students need shine guards, athletic socks,...</td>\n",
       "      <td>1</td>\n",
       "      <td>0</td>\n",
       "      <td>\\r\\n\\\"True champions aren't always the ones th...</td>\n",
       "      <td>516.85</td>\n",
       "      <td>22</td>\n",
       "    </tr>\n",
       "    <tr>\n",
       "      <th>3</th>\n",
       "      <td>mrs</td>\n",
       "      <td>ky</td>\n",
       "      <td>grades_prek_2</td>\n",
       "      <td>literacy_language_math_science</td>\n",
       "      <td>literacy_mathematics</td>\n",
       "      <td>Techie Kindergarteners</td>\n",
       "      <td>My students need to engage in Reading and Math...</td>\n",
       "      <td>4</td>\n",
       "      <td>1</td>\n",
       "      <td>I work at a unique school filled with both ESL...</td>\n",
       "      <td>232.90</td>\n",
       "      <td>4</td>\n",
       "    </tr>\n",
       "    <tr>\n",
       "      <th>4</th>\n",
       "      <td>mrs</td>\n",
       "      <td>tx</td>\n",
       "      <td>grades_prek_2</td>\n",
       "      <td>math_science</td>\n",
       "      <td>mathematics</td>\n",
       "      <td>Interactive Math Tools</td>\n",
       "      <td>My students need hands on practice in mathemat...</td>\n",
       "      <td>1</td>\n",
       "      <td>1</td>\n",
       "      <td>Our second grade classroom next year will be m...</td>\n",
       "      <td>67.98</td>\n",
       "      <td>4</td>\n",
       "    </tr>\n",
       "  </tbody>\n",
       "</table>\n",
       "</div>"
      ],
      "text/plain": [
       "  teacher_prefix school_state  ...   price quantity\n",
       "0            mrs           in  ...  154.60       23\n",
       "1             mr           fl  ...  299.00        1\n",
       "2             ms           az  ...  516.85       22\n",
       "3            mrs           ky  ...  232.90        4\n",
       "4            mrs           tx  ...   67.98        4\n",
       "\n",
       "[5 rows x 12 columns]"
      ]
     },
     "execution_count": 16,
     "metadata": {
      "tags": []
     },
     "output_type": "execute_result"
    }
   ],
   "source": [
    "data.head()"
   ]
  },
  {
   "cell_type": "code",
   "execution_count": null,
   "metadata": {
    "colab": {},
    "colab_type": "code",
    "id": "lIhq2IonCfMI"
   },
   "outputs": [],
   "source": [
    "#https://scikit-learn.org/stable/auto_examples/compose/plot_column_transformer_mixed_types.html\n",
    "#https://stackoverflow.com/a/54704747/9292995\n",
    "#https://stackoverflow.com/q/24169238/9292995 If valueError: If any column is negative\n",
    "\n",
    "text_transformer = CountVectorizer(min_df=10,ngram_range=(1,4), max_features=5000)\n",
    "\n",
    "numeric_features = ['teacher_number_of_previously_posted_projects', 'price', 'quantity']\n",
    "numeric_transformer = Pipeline(steps=[\n",
    "  ('scaler', MinMaxScaler())])\n",
    "\n",
    "categorical_features = ['school_state', 'teacher_prefix', 'project_grade_category','project_subject_categories',\\\n",
    "                      'project_subject_subcategories']\n",
    "categorical_transformer = Pipeline(steps=[\n",
    "  ('onehot', OneHotEncoder(handle_unknown='ignore'))])\n",
    "\n",
    "\n",
    "text_transformer = Pipeline(steps=[\n",
    "  ('trans', text_transformer)])\n",
    "\n",
    "preprocessor = ColumnTransformer(\n",
    "  transformers=[('num', numeric_transformer, numeric_features),\n",
    "      ('cat', categorical_transformer, categorical_features),\n",
    "      ('essay', text_transformer, \"essay\"),\n",
    "      ('title', text_transformer, \"project_title\"),\n",
    "      ('resource', text_transformer, \"project_resource_summary\")]\n",
    "  ,n_jobs=-1, verbose=True, remainder = 'drop'\n",
    "          )"
   ]
  },
  {
   "cell_type": "code",
   "execution_count": null,
   "metadata": {
    "colab": {},
    "colab_type": "code",
    "id": "_N6Gxpo6CfML",
    "scrolled": true
   },
   "outputs": [],
   "source": [
    "y = data['project_is_approved'].values\n",
    "X = data.drop(['project_is_approved'], axis=1)"
   ]
  },
  {
   "cell_type": "code",
   "execution_count": 19,
   "metadata": {
    "colab": {
     "base_uri": "https://localhost:8080/",
     "height": 50
    },
    "colab_type": "code",
    "executionInfo": {
     "elapsed": 212556,
     "status": "ok",
     "timestamp": 1576763901892,
     "user": {
      "displayName": "Uday Lunawat",
      "photoUrl": "https://lh3.googleusercontent.com/a-/AAuE7mApxTeOX5a74pUPlQFOi2bKH68XOrr0Eyu26dSKzQ=s64",
      "userId": "03427549702697233924"
     },
     "user_tz": -330
    },
    "id": "3wf-Pj_2CfMP",
    "outputId": "72df9123-eee5-484a-8c33-6a91383da136",
    "scrolled": true
   },
   "outputs": [
    {
     "name": "stdout",
     "output_type": "stream",
     "text": [
      "CPU times: user 7.94 s, sys: 1.83 s, total: 9.77 s\n",
      "Wall time: 3min 31s\n"
     ]
    }
   ],
   "source": [
    "%%time\n",
    "preprocessed_X_BOW =  preprocessor.fit_transform(X)"
   ]
  },
  {
   "cell_type": "code",
   "execution_count": 23,
   "metadata": {
    "colab": {
     "base_uri": "https://localhost:8080/",
     "height": 67
    },
    "colab_type": "code",
    "executionInfo": {
     "elapsed": 985,
     "status": "ok",
     "timestamp": 1576764377118,
     "user": {
      "displayName": "Uday Lunawat",
      "photoUrl": "https://lh3.googleusercontent.com/a-/AAuE7mApxTeOX5a74pUPlQFOi2bKH68XOrr0Eyu26dSKzQ=s64",
      "userId": "03427549702697233924"
     },
     "user_tz": -330
    },
    "id": "qHwkLsF9U_cN",
    "outputId": "e96a4002-74f1-4c67-d20c-5d8197f64cd4",
    "scrolled": true
   },
   "outputs": [
    {
     "name": "stdout",
     "output_type": "stream",
     "text": [
      "model score: 0.669\n",
      "CPU times: user 182 ms, sys: 10.8 ms, total: 193 ms\n",
      "Wall time: 192 ms\n"
     ]
    }
   ],
   "source": [
    "%%time\n",
    "model = MultinomialNB(class_prior = [0.5, 0.5])\n",
    "\n",
    "pipeline = Pipeline(steps=[('classifier',  model)])\n",
    "\n",
    "X_train, X_test, y_train, y_test = train_test_split(preprocessed_X_BOW, y, test_size=0.25, stratify=y, random_state = 42)\n",
    "\n",
    "pipeline.fit(X_train, y_train)\n",
    "print(\"model score: %.3f\" % pipeline.score(X_test, y_test))"
   ]
  },
  {
   "cell_type": "markdown",
   "metadata": {
    "colab_type": "text",
    "id": "MYP703Mccv8G"
   },
   "source": [
    "Before setting class_prior = 0.703\n",
    "\n",
    "After setting class_priors = 0.669"
   ]
  },
  {
   "cell_type": "code",
   "execution_count": 24,
   "metadata": {
    "colab": {
     "base_uri": "https://localhost:8080/",
     "height": 34
    },
    "colab_type": "code",
    "executionInfo": {
     "elapsed": 711,
     "status": "ok",
     "timestamp": 1576764378573,
     "user": {
      "displayName": "Uday Lunawat",
      "photoUrl": "https://lh3.googleusercontent.com/a-/AAuE7mApxTeOX5a74pUPlQFOi2bKH68XOrr0Eyu26dSKzQ=s64",
      "userId": "03427549702697233924"
     },
     "user_tz": -330
    },
    "id": "OZK3wnQwCfMT",
    "outputId": "9cee90b5-0887-467f-8682-26c68ac18a90"
   },
   "outputs": [
    {
     "name": "stdout",
     "output_type": "stream",
     "text": [
      "model score: 0.688\n"
     ]
    }
   ],
   "source": [
    "print(\"model score: %.3f\" % pipeline.score(X_train, y_train))"
   ]
  },
  {
   "cell_type": "code",
   "execution_count": null,
   "metadata": {
    "colab": {},
    "colab_type": "code",
    "id": "OHSYofzYSSoP"
   },
   "outputs": [],
   "source": [
    "def searchplot(gs, alpha, title):\n",
    "  # https://stackoverflow.com/a/48803361/4084039\n",
    "  results = pd.DataFrame.from_dict(gs.cv_results_)\n",
    "\n",
    "  results = results.sort_values(alpha)\n",
    "  train_auc= results['mean_train_score']\n",
    "  train_auc_std= results['std_train_score']\n",
    "  cv_auc = results['mean_test_score'] \n",
    "  cv_auc_std= results['std_test_score']\n",
    "\n",
    "  K =  results[alpha]\n",
    "\n",
    "  # plt.xkcd()\n",
    "  plt.figure()\n",
    "  plt.xscale('log')\n",
    "  plt.xlabel('$\\\\alpha$ (alpha)')\n",
    "  plt.ylabel(\"AUC\")\n",
    "  plt.title(title)\n",
    "  plt.grid()\n",
    "\n",
    "  plt.plot(K, train_auc, label='Train AUC')\n",
    "  # plt.gca().fill_between(K, train_auc - train_auc_std, \\\n",
    "  #                        train_auc + train_auc_std, alpha=0.2, \\\n",
    "  #                        color='darkblue')\n",
    "\n",
    "  plt.plot(K, cv_auc, label='CV AUC')\n",
    "  # plt.gca().fill_between(K, cv_auc - cv_auc_std, \\\n",
    "  #                        cv_auc + cv_auc_std, alpha=0.2, \\\n",
    "  #                        color='darkorange')\n",
    "\n",
    "  plt.scatter(K, train_auc, label='Train AUC points')\n",
    "  plt.scatter(K, cv_auc, label='CV AUC points')\n",
    "\n",
    "  plt.legend(loc = 'best')\n",
    "  plt.show()\n",
    "\n",
    "  results.head()"
   ]
  },
  {
   "cell_type": "code",
   "execution_count": null,
   "metadata": {
    "colab": {},
    "colab_type": "code",
    "id": "Nd9ek5aD7dNr"
   },
   "outputs": [],
   "source": [
    "# https://scikit-learn.org/stable/modules/generated/sklearn.metrics.roc_curve.html#sklearn.metrics.roc_curve\n",
    "\n",
    "def roc_auc_pipe(clf, X_train, X_test, y_train, y_test, title):\n",
    "  y_train_pred = clf.predict_proba(X_train)[:,1]\n",
    "  y_test_pred = clf.predict_proba(X_test)[:,1]\n",
    "      \n",
    "  train_fpr, train_tpr, tr_thresholds = roc_curve(y_train, y_train_pred)\n",
    "  test_fpr, test_tpr, te_thresholds = roc_curve(y_test, y_test_pred)\n",
    "\n",
    "  plt.close\n",
    "  plt.plot(train_fpr, train_tpr, label=\"train AUC =\"+str(auc(train_fpr, train_tpr)))\n",
    "  plt.plot(test_fpr, test_tpr, label=\"test AUC =\"+str(auc(test_fpr, test_tpr)))\n",
    "  plt.legend()\n",
    "  plt.plot([0, 1], [0, 1],'g--')\n",
    "  plt.xlim([0, 1])\n",
    "  plt.ylim([0, 1])\n",
    "  plt.xlabel(\"False Positive Rate(FPR)\")\n",
    "  plt.ylabel(\"True Positive Rate(TPR)\")\n",
    "  plt.title(title)\n",
    "  plt.grid()\n",
    "  plt.show()"
   ]
  },
  {
   "cell_type": "code",
   "execution_count": 42,
   "metadata": {
    "colab": {
     "base_uri": "https://localhost:8080/",
     "height": 134
    },
    "colab_type": "code",
    "executionInfo": {
     "elapsed": 6402,
     "status": "ok",
     "timestamp": 1576765812905,
     "user": {
      "displayName": "Uday Lunawat",
      "photoUrl": "https://lh3.googleusercontent.com/a-/AAuE7mApxTeOX5a74pUPlQFOi2bKH68XOrr0Eyu26dSKzQ=s64",
      "userId": "03427549702697233924"
     },
     "user_tz": -330
    },
    "id": "yH7rmFksV7Re",
    "outputId": "4c60c3c5-591a-4739-a4c0-114cfb6b58e5"
   },
   "outputs": [
    {
     "name": "stdout",
     "output_type": "stream",
     "text": [
      "Fitting 3 folds for each of 14 candidates, totalling 42 fits\n"
     ]
    },
    {
     "name": "stderr",
     "output_type": "stream",
     "text": [
      "[Parallel(n_jobs=-1)]: Using backend LokyBackend with 4 concurrent workers.\n",
      "[Parallel(n_jobs=-1)]: Done  33 tasks      | elapsed:    3.5s\n"
     ]
    },
    {
     "name": "stdout",
     "output_type": "stream",
     "text": [
      "Mean cross-validated score(AUC) of the best_estimator : 0.6992779154392871\n",
      "CPU times: user 408 ms, sys: 334 ms, total: 743 ms\n",
      "Wall time: 4.15 s\n"
     ]
    },
    {
     "name": "stderr",
     "output_type": "stream",
     "text": [
      "[Parallel(n_jobs=-1)]: Done  42 out of  42 | elapsed:    4.1s finished\n"
     ]
    }
   ],
   "source": [
    "%%time\n",
    "cv = KFold(3)\n",
    "\n",
    "param_grid = {\n",
    "    'classifier__alpha': [0.0001, 0.001, 0.01, 0.1, 1, 10, 100],\n",
    "    'classifier__fit_prior': [True, False]\n",
    "}\n",
    "\n",
    "gs = GridSearchCV(pipeline, param_grid, cv = cv, n_jobs = -1, verbose = 2, return_train_score = True, scoring = \"roc_auc\")\n",
    "\n",
    "gs.fit(X_train, y_train)\n",
    "print(\"Mean cross-validated score(AUC) of the best_estimator : {0}\".format(gs.best_score_))"
   ]
  },
  {
   "cell_type": "markdown",
   "metadata": {
    "colab_type": "text",
    "id": "COETZrM8e5Og"
   },
   "source": [
    "Before - Mean cross-validated score(AUC) of the best_estimator : 0.6992968471282798\n",
    "\n",
    "After - 6992779154392871"
   ]
  },
  {
   "cell_type": "code",
   "execution_count": 73,
   "metadata": {
    "colab": {
     "base_uri": "https://localhost:8080/",
     "height": 320
    },
    "colab_type": "code",
    "executionInfo": {
     "elapsed": 4358,
     "status": "ok",
     "timestamp": 1576767452982,
     "user": {
      "displayName": "Uday Lunawat",
      "photoUrl": "https://lh3.googleusercontent.com/a-/AAuE7mApxTeOX5a74pUPlQFOi2bKH68XOrr0Eyu26dSKzQ=s64",
      "userId": "03427549702697233924"
     },
     "user_tz": -330
    },
    "id": "XFhpKWy0GT4e",
    "outputId": "68fde229-1619-4dc9-a6bc-76f2deb69f8c"
   },
   "outputs": [
    {
     "data": {
      "image/png": "[encoded data removed]",
      "text/plain": [
       "<Figure size 432x288 with 1 Axes>"
      ]
     },
     "metadata": {
      "tags": []
     },
     "output_type": "display_data"
    }
   ],
   "source": [
    "searchplot(gs, alpha = 'param_classifier__alpha', title = 'alpha V/S ROC-AUC plot')"
   ]
  },
  {
   "cell_type": "markdown",
   "metadata": {
    "colab_type": "text",
    "id": "w-OEj4uNptAW"
   },
   "source": [
    "The best hyper parameter which seems be the best fit is c = 10\n",
    "Because the difference between train and test AUC is minimal"
   ]
  },
  {
   "cell_type": "code",
   "execution_count": 35,
   "metadata": {
    "colab": {
     "base_uri": "https://localhost:8080/",
     "height": 67
    },
    "colab_type": "code",
    "executionInfo": {
     "elapsed": 4396,
     "status": "ok",
     "timestamp": 1576764858774,
     "user": {
      "displayName": "Uday Lunawat",
      "photoUrl": "https://lh3.googleusercontent.com/a-/AAuE7mApxTeOX5a74pUPlQFOi2bKH68XOrr0Eyu26dSKzQ=s64",
      "userId": "03427549702697233924"
     },
     "user_tz": -330
    },
    "id": "Fcevk7-CKix7",
    "outputId": "9debb7c8-54cf-49a5-89dd-90b481878aff"
   },
   "outputs": [
    {
     "name": "stdout",
     "output_type": "stream",
     "text": [
      "model score: 0.703\n",
      "CPU times: user 172 ms, sys: 22.6 ms, total: 195 ms\n",
      "Wall time: 194 ms\n"
     ]
    }
   ],
   "source": [
    "%%time\n",
    "model = MultinomialNB(alpha = 1)\n",
    "\n",
    "best_pipeline_BOW = Pipeline(steps=[('classifier',  model)])\n",
    "\n",
    "X_train, X_test, y_train, y_test = train_test_split(preprocessed_X_BOW, y, test_size=0.25, stratify=y, random_state = 42)\n",
    "\n",
    "best_pipeline_BOW.fit(X_train, y_train)\n",
    "print(\"model score: %.3f\" % best_pipeline_BOW.score(X_test, y_test))"
   ]
  },
  {
   "cell_type": "code",
   "execution_count": 37,
   "metadata": {
    "colab": {
     "base_uri": "https://localhost:8080/",
     "height": 265
    },
    "colab_type": "code",
    "executionInfo": {
     "elapsed": 5139,
     "status": "ok",
     "timestamp": 1576765232679,
     "user": {
      "displayName": "Uday Lunawat",
      "photoUrl": "https://lh3.googleusercontent.com/a-/AAuE7mApxTeOX5a74pUPlQFOi2bKH68XOrr0Eyu26dSKzQ=s64",
      "userId": "03427549702697233924"
     },
     "user_tz": -330
    },
    "id": "twMyqA6XtTTu",
    "outputId": "5eaa2a3b-45c9-43ed-9600-fa76ee058aa9"
   },
   "outputs": [
    {
     "data": {
      "image/png": "[encoded data removed]",
      "text/plain": [
       "<Figure size 432x288 with 2 Axes>"
      ]
     },
     "metadata": {
      "tags": []
     },
     "output_type": "display_data"
    }
   ],
   "source": [
    "y_pred = cross_val_predict(best_pipeline_BOW, X_test, y_test, cv=3)\n",
    "cm = confusion_matrix(y_test, y_pred)\n",
    "sns.heatmap(cm,  annot=True,  cmap = 'Blues', fmt = 'g', linewidths=.5, xticklabels=['PREDICTED : NO', 'PREDICTED : YES'], yticklabels=['ACTUAL : NO', 'ACTUAL : YES']);"
   ]
  },
  {
   "cell_type": "code",
   "execution_count": 74,
   "metadata": {
    "colab": {
     "base_uri": "https://localhost:8080/",
     "height": 312
    },
    "colab_type": "code",
    "executionInfo": {
     "elapsed": 2066,
     "status": "ok",
     "timestamp": 1576767606518,
     "user": {
      "displayName": "Uday Lunawat",
      "photoUrl": "https://lh3.googleusercontent.com/a-/AAuE7mApxTeOX5a74pUPlQFOi2bKH68XOrr0Eyu26dSKzQ=s64",
      "userId": "03427549702697233924"
     },
     "user_tz": -330
    },
    "id": "Wm2Ov9ikyDhl",
    "outputId": "b193a5e6-2ccf-47b0-ab3f-97ded132d0b2",
    "scrolled": true
   },
   "outputs": [
    {
     "data": {
      "image/png": "[encoded data removed]",
      "text/plain": [
       "<Figure size 432x288 with 1 Axes>"
      ]
     },
     "metadata": {
      "tags": []
     },
     "output_type": "display_data"
    }
   ],
   "source": [
    "#Trained on Best hyperparameter alpha = 10\n",
    "roc_auc_pipe(best_pipeline_BOW, X_train, X_test, y_train, y_test, \"ROC AUC Curve BOW (best hyperparameter)\")"
   ]
  },
  {
   "cell_type": "markdown",
   "metadata": {
    "colab_type": "text",
    "id": "Nd-Omu6uBWL0"
   },
   "source": [
    "### Top 20 features"
   ]
  },
  {
   "cell_type": "code",
   "execution_count": null,
   "metadata": {
    "colab": {},
    "colab_type": "code",
    "id": "Q9NAVp_JCfMl"
   },
   "outputs": [],
   "source": [
    "#Most important features in Naive Bayes : https://stackoverflow.com/questions/26976362/how-to-get-most-informative-features-for-scikit-learn-classifier-for-different-c\n",
    "def most_informative_feature_for_binary_classification(vectorizer, classifier, n=20):\n",
    "    class_labels = classifier.classes_\n",
    "    feature_names = vectorizer.get_feature_names()\n",
    "    topn_class1 = sorted(zip(abs(classifier.feature_log_prob_[0]), feature_names))[:n]\n",
    "    topn_class2 = sorted(zip(abs(classifier.coef_[0]), feature_names))[-n:]\n",
    "    print(\"Top 20 features for class 0\")\n",
    "    print(\"\")\n",
    "    for coef, feat in topn_class1:\n",
    "        print(class_labels[0], coef, feat)\n",
    "\n",
    "    print('='*50)   \n",
    "    print(\"Top 20 features for class 1\")\n",
    "    print(\"\")\n",
    "    for coef, feat in reversed(topn_class2):\n",
    "        print (class_labels[1], coef, feat)\n"
   ]
  },
  {
   "cell_type": "code",
   "execution_count": null,
   "metadata": {
    "colab": {},
    "colab_type": "code",
    "id": "o5y3nNpUCfMo"
   },
   "outputs": [],
   "source": [
    "cat_features = preprocessor.named_transformers_['cat'][0].get_feature_names()\n",
    "title_features = preprocessor.named_transformers_['title'][0].get_feature_names()\n",
    "essay_features = preprocessor.named_transformers_['essay'][0].get_feature_names()\n",
    "resource_features = preprocessor.named_transformers_['resource'][0].get_feature_names()"
   ]
  },
  {
   "cell_type": "code",
   "execution_count": null,
   "metadata": {
    "colab": {},
    "colab_type": "code",
    "id": "izBng5aNCfMq"
   },
   "outputs": [],
   "source": [
    "all_features = [cat_features , essay_features , title_features , resource_features, ['teacher_number_of_previously_posted_projects'],['price'],['quantity']] \n",
    "feat_list = [item for sublist in all_features for item in sublist]"
   ]
  },
  {
   "cell_type": "code",
   "execution_count": null,
   "metadata": {
    "colab": {
     "base_uri": "https://localhost:8080/",
     "height": 34
    },
    "colab_type": "code",
    "id": "C9Z-SnQvCfMs",
    "outputId": "7e6cd8bd-7741-424b-bb8a-4e7c1e7dc93e"
   },
   "outputs": [
    {
     "data": {
      "text/plain": [
       "(50000, 15497)"
      ]
     },
     "execution_count": 21,
     "metadata": {
      "tags": []
     },
     "output_type": "execute_result"
    }
   ],
   "source": [
    "preprocessed_X_BOW.toarray().shape"
   ]
  },
  {
   "cell_type": "code",
   "execution_count": null,
   "metadata": {
    "colab": {},
    "colab_type": "code",
    "id": "Lx_TDL2DCfMx"
   },
   "outputs": [],
   "source": [
    "df = pd.DataFrame(data = preprocessed_X_BOW.toarray(), columns = feat_list) #Converting the csr to numpy array and creating a dataframe with feature names"
   ]
  },
  {
   "cell_type": "code",
   "execution_count": null,
   "metadata": {
    "colab": {
     "base_uri": "https://localhost:8080/",
     "height": 278
    },
    "colab_type": "code",
    "id": "X9P0f9RoFxXY",
    "outputId": "68e206ec-f7d7-47b7-9e5c-8195f0b7b02b"
   },
   "outputs": [
    {
     "data": {
      "text/html": [
       "<div>\n",
       "<style scoped>\n",
       "    .dataframe tbody tr th:only-of-type {\n",
       "        vertical-align: middle;\n",
       "    }\n",
       "\n",
       "    .dataframe tbody tr th {\n",
       "        vertical-align: top;\n",
       "    }\n",
       "\n",
       "    .dataframe thead th {\n",
       "        text-align: right;\n",
       "    }\n",
       "</style>\n",
       "<table border=\"1\" class=\"dataframe\">\n",
       "  <thead>\n",
       "    <tr style=\"text-align: right;\">\n",
       "      <th></th>\n",
       "      <th>x0_ak</th>\n",
       "      <th>x0_al</th>\n",
       "      <th>x0_ar</th>\n",
       "      <th>x0_az</th>\n",
       "      <th>x0_ca</th>\n",
       "      <th>x0_co</th>\n",
       "      <th>x0_ct</th>\n",
       "      <th>x0_dc</th>\n",
       "      <th>x0_de</th>\n",
       "      <th>x0_fl</th>\n",
       "      <th>...</th>\n",
       "      <th>yoga ball</th>\n",
       "      <th>yoga balls</th>\n",
       "      <th>yoga mats</th>\n",
       "      <th>yoga mats and</th>\n",
       "      <th>you</th>\n",
       "      <th>young</th>\n",
       "      <th>your</th>\n",
       "      <th>teacher_number_of_previously_posted_projects</th>\n",
       "      <th>price</th>\n",
       "      <th>quantity</th>\n",
       "    </tr>\n",
       "  </thead>\n",
       "  <tbody>\n",
       "    <tr>\n",
       "      <td>0</td>\n",
       "      <td>0.000000</td>\n",
       "      <td>0.015397</td>\n",
       "      <td>0.023681</td>\n",
       "      <td>0.0</td>\n",
       "      <td>0.0</td>\n",
       "      <td>0.0</td>\n",
       "      <td>0.0</td>\n",
       "      <td>0.0</td>\n",
       "      <td>0.0</td>\n",
       "      <td>0.0</td>\n",
       "      <td>...</td>\n",
       "      <td>0.0</td>\n",
       "      <td>0.0</td>\n",
       "      <td>0.0</td>\n",
       "      <td>0.0</td>\n",
       "      <td>0.0</td>\n",
       "      <td>0.0</td>\n",
       "      <td>0.0</td>\n",
       "      <td>0.0</td>\n",
       "      <td>0.0</td>\n",
       "      <td>0.0</td>\n",
       "    </tr>\n",
       "    <tr>\n",
       "      <td>1</td>\n",
       "      <td>0.016355</td>\n",
       "      <td>0.029839</td>\n",
       "      <td>0.000000</td>\n",
       "      <td>0.0</td>\n",
       "      <td>0.0</td>\n",
       "      <td>0.0</td>\n",
       "      <td>0.0</td>\n",
       "      <td>0.0</td>\n",
       "      <td>0.0</td>\n",
       "      <td>0.0</td>\n",
       "      <td>...</td>\n",
       "      <td>0.0</td>\n",
       "      <td>0.0</td>\n",
       "      <td>0.0</td>\n",
       "      <td>0.0</td>\n",
       "      <td>0.0</td>\n",
       "      <td>0.0</td>\n",
       "      <td>0.0</td>\n",
       "      <td>0.0</td>\n",
       "      <td>0.0</td>\n",
       "      <td>0.0</td>\n",
       "    </tr>\n",
       "    <tr>\n",
       "      <td>2</td>\n",
       "      <td>0.002336</td>\n",
       "      <td>0.051628</td>\n",
       "      <td>0.022605</td>\n",
       "      <td>0.0</td>\n",
       "      <td>0.0</td>\n",
       "      <td>0.0</td>\n",
       "      <td>1.0</td>\n",
       "      <td>0.0</td>\n",
       "      <td>0.0</td>\n",
       "      <td>0.0</td>\n",
       "      <td>...</td>\n",
       "      <td>0.0</td>\n",
       "      <td>0.0</td>\n",
       "      <td>0.0</td>\n",
       "      <td>0.0</td>\n",
       "      <td>0.0</td>\n",
       "      <td>0.0</td>\n",
       "      <td>0.0</td>\n",
       "      <td>0.0</td>\n",
       "      <td>0.0</td>\n",
       "      <td>0.0</td>\n",
       "    </tr>\n",
       "    <tr>\n",
       "      <td>3</td>\n",
       "      <td>0.009346</td>\n",
       "      <td>0.023228</td>\n",
       "      <td>0.003229</td>\n",
       "      <td>0.0</td>\n",
       "      <td>0.0</td>\n",
       "      <td>0.0</td>\n",
       "      <td>0.0</td>\n",
       "      <td>0.0</td>\n",
       "      <td>0.0</td>\n",
       "      <td>0.0</td>\n",
       "      <td>...</td>\n",
       "      <td>0.0</td>\n",
       "      <td>0.0</td>\n",
       "      <td>0.0</td>\n",
       "      <td>0.0</td>\n",
       "      <td>0.0</td>\n",
       "      <td>0.0</td>\n",
       "      <td>0.0</td>\n",
       "      <td>0.0</td>\n",
       "      <td>0.0</td>\n",
       "      <td>0.0</td>\n",
       "    </tr>\n",
       "    <tr>\n",
       "      <td>4</td>\n",
       "      <td>0.002336</td>\n",
       "      <td>0.006733</td>\n",
       "      <td>0.003229</td>\n",
       "      <td>0.0</td>\n",
       "      <td>0.0</td>\n",
       "      <td>0.0</td>\n",
       "      <td>0.0</td>\n",
       "      <td>0.0</td>\n",
       "      <td>0.0</td>\n",
       "      <td>0.0</td>\n",
       "      <td>...</td>\n",
       "      <td>0.0</td>\n",
       "      <td>0.0</td>\n",
       "      <td>0.0</td>\n",
       "      <td>0.0</td>\n",
       "      <td>0.0</td>\n",
       "      <td>0.0</td>\n",
       "      <td>0.0</td>\n",
       "      <td>0.0</td>\n",
       "      <td>0.0</td>\n",
       "      <td>0.0</td>\n",
       "    </tr>\n",
       "  </tbody>\n",
       "</table>\n",
       "<p>5 rows × 15497 columns</p>\n",
       "</div>"
      ],
      "text/plain": [
       "      x0_ak     x0_al     x0_ar  x0_az  x0_ca  x0_co  x0_ct  x0_dc  x0_de  \\\n",
       "0  0.000000  0.015397  0.023681    0.0    0.0    0.0    0.0    0.0    0.0   \n",
       "1  0.016355  0.029839  0.000000    0.0    0.0    0.0    0.0    0.0    0.0   \n",
       "2  0.002336  0.051628  0.022605    0.0    0.0    0.0    1.0    0.0    0.0   \n",
       "3  0.009346  0.023228  0.003229    0.0    0.0    0.0    0.0    0.0    0.0   \n",
       "4  0.002336  0.006733  0.003229    0.0    0.0    0.0    0.0    0.0    0.0   \n",
       "\n",
       "   x0_fl  ...  yoga ball  yoga balls  yoga mats  yoga mats and  you  young  \\\n",
       "0    0.0  ...        0.0         0.0        0.0            0.0  0.0    0.0   \n",
       "1    0.0  ...        0.0         0.0        0.0            0.0  0.0    0.0   \n",
       "2    0.0  ...        0.0         0.0        0.0            0.0  0.0    0.0   \n",
       "3    0.0  ...        0.0         0.0        0.0            0.0  0.0    0.0   \n",
       "4    0.0  ...        0.0         0.0        0.0            0.0  0.0    0.0   \n",
       "\n",
       "   your  teacher_number_of_previously_posted_projects  price  quantity  \n",
       "0   0.0                                           0.0    0.0       0.0  \n",
       "1   0.0                                           0.0    0.0       0.0  \n",
       "2   0.0                                           0.0    0.0       0.0  \n",
       "3   0.0                                           0.0    0.0       0.0  \n",
       "4   0.0                                           0.0    0.0       0.0  \n",
       "\n",
       "[5 rows x 15497 columns]"
      ]
     },
     "execution_count": 23,
     "metadata": {
      "tags": []
     },
     "output_type": "execute_result"
    }
   ],
   "source": [
    "df.head()"
   ]
  },
  {
   "cell_type": "code",
   "execution_count": null,
   "metadata": {
    "colab": {
     "base_uri": "https://localhost:8080/",
     "height": 773
    },
    "colab_type": "code",
    "id": "dHDQk88GCfM0",
    "outputId": "ec4adbaf-4980-4d51-a637-d270a4f813ae"
   },
   "outputs": [
    {
     "name": "stdout",
     "output_type": "stream",
     "text": [
      "Top 20 features for class 0\n",
      "\n",
      "0 6.035724163398765 working\n",
      "0 6.492990511627772 things\n",
      "0 6.502837418324775 thinking\n",
      "0 6.648457608268302 to get\n",
      "0 6.720977017736885 basics\n",
      "0 6.946259607299845 bean\n",
      "0 7.0376801453042255 be\n",
      "0 7.149264693188695 be able to\n",
      "0 7.15610862619352 variety of\n",
      "0 7.469293641225228 to the\n",
      "0 7.6287570599431325 year\n",
      "0 7.644128839990986 to provide\n",
      "0 7.658866861414502 can be\n",
      "0 7.761804308283204 challenges\n",
      "0 7.800289570746268 to work\n",
      "0 7.849784208350965 be successful\n",
      "0 7.9769931352359995 used\n",
      "0 8.067393419541157 able\n",
      "0 8.165335179811539 they can\n",
      "0 8.209786942382372 center\n",
      "==================================================\n",
      "Top 20 features for class 1\n",
      "\n",
      "1 14.089526821716202 succeed\n",
      "1 14.089526821716202 some\n",
      "1 14.089526821716202 snacks\n",
      "1 14.089526821716202 sensory\n",
      "1 14.089526821716202 reading\n",
      "1 14.089526821716202 of my students\n",
      "1 14.089526821716202 need ipads\n",
      "1 14.089526821716202 mind\n",
      "1 14.089526821716202 lunch\n",
      "1 14.089526821716202 literacy\n",
      "1 14.089526821716202 kindle\n",
      "1 14.089526821716202 it\n",
      "1 14.089526821716202 is the\n",
      "1 14.089526821716202 is\n",
      "1 14.089526821716202 how\n",
      "1 14.089526821716202 hear\n",
      "1 14.089526821716202 healthy\n",
      "1 14.089526821716202 health\n",
      "1 14.089526821716202 hard\n",
      "1 14.089526821716202 group\n"
     ]
    }
   ],
   "source": [
    "word_vectorizer = CountVectorizer(min_df = 10, ngram_range=(1,4))\n",
    "word_vectorizer.fit_transform(df)\n",
    "most_informative_feature_for_binary_classification(word_vectorizer, best_pipeline_BOW.named_steps['classifier'])"
   ]
  },
  {
   "cell_type": "markdown",
   "metadata": {
    "colab_type": "text",
    "id": "-0wBYG_jJbQu"
   },
   "source": [
    "# Feature Set 2 - TFIDF"
   ]
  },
  {
   "cell_type": "code",
   "execution_count": null,
   "metadata": {
    "colab": {},
    "colab_type": "code",
    "id": "cEXDHE9mCfM5"
   },
   "outputs": [],
   "source": [
    "#https://scikit-learn.org/stable/auto_examples/compose/plot_column_transformer_mixed_types.html\n",
    "#https://stackoverflow.com/a/54704747/9292995\n",
    "# #https://stackoverflow.com/q/24169238/9292995 If valueError: If any column is negative\n",
    "\n",
    "numeric_features = ['teacher_number_of_previously_posted_projects', 'price', 'quantity']\n",
    "numeric_transformer = Pipeline(steps=[('scaler', MinMaxScaler())])\n",
    "\n",
    "categorical_features = ['school_state', 'teacher_prefix', 'project_grade_category','project_subject_categories',\\\n",
    "                      'project_subject_subcategories']\n",
    "categorical_transformer = Pipeline(steps=[\n",
    "    ('onehot', OneHotEncoder(handle_unknown='ignore'))])\n",
    "\n",
    "# text_features = ['essay','project_title']\n",
    "text_transformer = Pipeline(steps=[\n",
    "    ('tfidf', TfidfVectorizer(stop_words = 'english', min_df=10, ngram_range=(1,4), max_features=5000))])\n",
    "\n",
    "preprocessor = ColumnTransformer(\n",
    "    transformers=[('num', numeric_transformer, numeric_features),\n",
    "        ('cat', categorical_transformer, categorical_features),\n",
    "        ('essay', text_transformer, \"essay\"),\n",
    "        ('title', text_transformer, \"project_title\"),\n",
    "        ('resource', text_transformer, \"project_resource_summary\")]\n",
    "    ,n_jobs=-1, verbose=True, remainder = 'passthrough'\n",
    "            )"
   ]
  },
  {
   "cell_type": "code",
   "execution_count": null,
   "metadata": {
    "colab": {},
    "colab_type": "code",
    "id": "J7ybA6Z1CfM8",
    "outputId": "575605c1-5a78-43e8-a47f-808886e5f4e7",
    "scrolled": true
   },
   "outputs": [
    {
     "name": "stdout",
     "output_type": "stream",
     "text": [
      "CPU times: user 17.1 s, sys: 4.64 s, total: 21.7 s\n",
      "Wall time: 5min 17s\n"
     ]
    }
   ],
   "source": [
    "%%time\n",
    "preprocessor.fit(X)\n",
    "preprocessed_X_TFIDF =  preprocessor.fit_transform(X)"
   ]
  },
  {
   "cell_type": "code",
   "execution_count": null,
   "metadata": {
    "colab": {},
    "colab_type": "code",
    "id": "Tci9TdpkCpMn"
   },
   "outputs": [],
   "source": [
    "%%time\n",
    "\n",
    "# Append classifier to preprocessing pipeline.\n",
    "# Now we have a full prediction pipeline.\n",
    "pipeline = Pipeline(steps=[('classifier',  MultinomialNB())])\n",
    "\n",
    "y = data['project_is_approved'].values\n",
    "X = data.drop(['project_is_approved'], axis=1)\n",
    "\n",
    "X_train, X_test, y_train, y_test = train_test_split(preprocessed_X_TFIDF, y, test_size=0.25, stratify=y)\n",
    "\n",
    "pipeline.fit(X_train, y_train)\n",
    "print(\"model score: %.3f\" % pipeline.score(X_test, y_test))\n",
    "\n",
    "#Note - we're including the preprocessing step in the pipeline too as it will fit the vocab for the Tfidfvectorizer"
   ]
  },
  {
   "cell_type": "code",
   "execution_count": null,
   "metadata": {
    "colab": {},
    "colab_type": "code",
    "id": "5oo8jymZxTsz"
   },
   "outputs": [],
   "source": [
    "print(\"model score: %.3f\" % pipeline.score(X_train, y_train))"
   ]
  },
  {
   "cell_type": "code",
   "execution_count": null,
   "metadata": {
    "colab": {},
    "colab_type": "code",
    "id": "h2CTngdP2OIQ"
   },
   "outputs": [],
   "source": [
    "%%time\n",
    "cv = KFold(3)\n",
    "\n",
    "param_grid = {\n",
    "    'classifier__alpha': [0.0001, 0.001, 0.01, 0.1, 1, 10, 100],\n",
    "    'classifier__fit_prior': [True, False]\n",
    "}\n",
    "\n",
    "gs = GridSearchCV(pipeline, param_grid, cv = cv, n_jobs = -1, verbose = 2, return_train_score = True, scoring = \"roc_auc\", \n",
    "                  refit = True)\n",
    "\n",
    "gs.fit(X_train, y_train)\n",
    "print(\"Mean cross-validated score(AUC) of the best_estimator : {0}\".format(gs.best_score_))"
   ]
  },
  {
   "cell_type": "code",
   "execution_count": null,
   "metadata": {
    "colab": {},
    "colab_type": "code",
    "id": "H_lCCKA92aKT"
   },
   "outputs": [],
   "source": [
    "gs.best_params_"
   ]
  },
  {
   "cell_type": "code",
   "execution_count": null,
   "metadata": {
    "colab": {},
    "colab_type": "code",
    "id": "X5hl9xat5ANS"
   },
   "outputs": [],
   "source": [
    "searchplot(gs, alpha = 'param_classifier__alpha', title = 'alpha V/S ROC-AUC plot')"
   ]
  },
  {
   "cell_type": "markdown",
   "metadata": {
    "colab_type": "text",
    "id": "ExEwx4NFBWMq"
   },
   "source": [
    "Best hyperparameter seems to be 1 as the test AUC isn't too low and the difference between train AUC and train AUC is less"
   ]
  },
  {
   "cell_type": "code",
   "execution_count": null,
   "metadata": {
    "colab": {},
    "colab_type": "code",
    "id": "wgFqN39-BWMq",
    "outputId": "6c0ff6fd-d3ab-4d3e-f7d2-113cae8a793b"
   },
   "outputs": [
    {
     "name": "stdout",
     "output_type": "stream",
     "text": [
      "model score: 0.819\n",
      "CPU times: user 44.3 s, sys: 2.93 s, total: 47.2 s\n",
      "Wall time: 2min 44s\n"
     ]
    }
   ],
   "source": [
    "%%time\n",
    "best_pipeline_tfidf = Pipeline(steps=[('classifier',  MultinomialNB(alpha = 1))])\n",
    "\n",
    "y = data['project_is_approved'].values\n",
    "X = data.drop(['project_is_approved'], axis=1)\n",
    "\n",
    "X_train, X_test, y_train, y_test = train_test_split(preprocessed_X_TFIDF, y, test_size=0.25, stratify=y)\n",
    "\n",
    "best_pipeline_tfidf.fit(X_train, y_train)\n",
    "print(\"model score: %.3f\" % best_pipeline_tfidf.score(X_test, y_test))"
   ]
  },
  {
   "cell_type": "code",
   "execution_count": null,
   "metadata": {
    "colab": {},
    "colab_type": "code",
    "id": "93gtS33BhSeC",
    "outputId": "f1aff58f-9c38-4914-cb31-e22223c72988"
   },
   "outputs": [
    {
     "data": {
      "image/png": "[encoded data removed]",
      "text/plain": [
       "<Figure size 432x288 with 2 Axes>"
      ]
     },
     "metadata": {
      "needs_background": "light",
      "tags": []
     },
     "output_type": "display_data"
    }
   ],
   "source": [
    "y_pred = cross_val_predict(best_pipeline_tfidf, X_test, y_test, cv=3)\n",
    "conf_mat = confusion_matrix(y_test, y_pred)\n",
    "sns.heatmap(conf_mat,  annot=True, cmap = 'Blues', fmt = 'g', linewidths=.5);"
   ]
  },
  {
   "cell_type": "code",
   "execution_count": null,
   "metadata": {
    "colab": {},
    "colab_type": "code",
    "id": "9TBuIyDste6k",
    "outputId": "927d58db-61d1-4374-9a11-313fff836439"
   },
   "outputs": [
    {
     "data": {
      "image/png": "[encoded data removed]",
      "text/plain": [
       "<Figure size 432x288 with 1 Axes>"
      ]
     },
     "metadata": {
      "needs_background": "light",
      "tags": []
     },
     "output_type": "display_data"
    }
   ],
   "source": [
    "roc_auc_pipe(best_pipeline_tfidf, X_train, X_test, y_train, y_test, \"ROC AUC Curve TFIDF (best hyperparameter)\")"
   ]
  },
  {
   "cell_type": "code",
   "execution_count": null,
   "metadata": {
    "colab": {
     "base_uri": "https://localhost:8080/",
     "height": 124
    },
    "colab_type": "code",
    "id": "twBGft9t9b9s",
    "outputId": "6bc59a4e-bbfb-40d8-fe08-7ee1f466895b"
   },
   "outputs": [
    {
     "name": "stdout",
     "output_type": "stream",
     "text": [
      "+------------+-------+----------------+-------+\n",
      "| Vectorizer | Model | Hyperparameter |  AUC  |\n",
      "+------------+-------+----------------+-------+\n",
      "|    BOW     | Brute |       10       | 0.699 |\n",
      "|   TFIDF    | Brute |       1        | 0.687 |\n",
      "+------------+-------+----------------+-------+\n"
     ]
    }
   ],
   "source": [
    "from prettytable import PrettyTable\n",
    "t = PrettyTable(['Vectorizer', 'Model','Hyperparameter','AUC'])\n",
    "t.add_row(['BOW', 'Brute', 10, 0.699])\n",
    "t.add_row(['TFIDF', 'Brute', 1, 0.687])\n",
    "print(t)"
   ]
  },
  {
   "cell_type": "code",
   "execution_count": null,
   "metadata": {
    "colab": {},
    "colab_type": "code",
    "id": "lFSBJhg_C6Ts"
   },
   "outputs": [],
   "source": []
  }
 ],
 "metadata": {
  "colab": {
   "collapsed_sections": [],
   "machine_shape": "hm",
   "name": "udaylunawat_gmail_com_6.ipynb",
   "provenance": []
  },
  "kernelspec": {
   "display_name": "Python 3",
   "language": "python",
   "name": "python3"
  },
  "language_info": {
   "codemirror_mode": {
    "name": "ipython",
    "version": 3
   },
   "file_extension": ".py",
   "mimetype": "text/x-python",
   "name": "python",
   "nbconvert_exporter": "python",
   "pygments_lexer": "ipython3",
   "version": "3.7.6"
  }
 },
 "nbformat": 4,
 "nbformat_minor": 4
}
