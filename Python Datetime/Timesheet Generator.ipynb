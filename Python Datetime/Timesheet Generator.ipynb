{
 "cells": [
  {
   "cell_type": "code",
   "execution_count": null,
   "id": "hispanic-mailman",
   "metadata": {},
   "outputs": [],
   "source": [
    "from datetime import datetime, timedelta\n",
    "import pandas as pd"
   ]
  },
  {
   "cell_type": "code",
   "execution_count": null,
   "id": "maritime-appeal",
   "metadata": {},
   "outputs": [],
   "source": [
    "hour_difference = 2.5"
   ]
  },
  {
   "cell_type": "code",
   "execution_count": null,
   "id": "parallel-boundary",
   "metadata": {},
   "outputs": [],
   "source": [
    "f = open(\"data.txt\", \"r\")\n",
    "txt_data = f.read()\n",
    "print(txt_data)"
   ]
  },
  {
   "cell_type": "code",
   "execution_count": null,
   "id": "seven-april",
   "metadata": {},
   "outputs": [],
   "source": [
    "def stringtodate(string):\n",
    "    datetime_object = datetime.strptime(string, '%d/%m')\n",
    "    datetime_object = datetime_object.replace(year = datetime.now().year).date()\n",
    "    return datetime_object"
   ]
  },
  {
   "cell_type": "code",
   "execution_count": null,
   "id": "joined-brave",
   "metadata": {},
   "outputs": [],
   "source": [
    "def stringtotime(time, date):\n",
    "    date = stringtodate(date)\n",
    "    time = datetime.strptime(time, '%H:%M').time()\n",
    "    date_time = datetime.combine(date, time)\n",
    "    return date_time"
   ]
  },
  {
   "cell_type": "code",
   "execution_count": null,
   "id": "portable-bradley",
   "metadata": {},
   "outputs": [],
   "source": [
    "def days_hours_minutes(td):\n",
    "    return td.total_seconds() / 60"
   ]
  },
  {
   "cell_type": "code",
   "execution_count": null,
   "id": "logical-hacker",
   "metadata": {
    "tags": []
   },
   "outputs": [],
   "source": [
    "data = pd.DataFrame(columns = [\"Date\",\"Start Time\", \"End Time\", \"Comment\"])\n",
    "\n",
    "with open(\"data.txt\", \"r\") as f:\n",
    "    lines = f.readlines()\n",
    "    for line in lines:\n",
    "        if '/' in line:\n",
    "            date = line.rstrip('\\n')\n",
    "        elif line == '\\n':\n",
    "            continue\n",
    "        else:\n",
    "            start_time, end_time = line.split('-')\n",
    "            start_time, end_time = start_time.strip(), end_time.strip()\n",
    "            \n",
    "            if '(' in end_time:\n",
    "                end_time, comment = end_time.split('(')\n",
    "                end_time = end_time.strip()\n",
    "                comment = comment.strip('()')\n",
    "            else:\n",
    "                end_time, comment = end_time, None\n",
    "\n",
    "            row = {\"Date\":date, \"Start Time\":stringtotime(start_time, date), \"End Time\":stringtotime(end_time, date), \"Comment\":comment}\n",
    "            data = data.append(row, ignore_index = True)\n",
    "\n",
    "data['Date'] = data['Date'].apply(stringtodate)\n",
    "data = data.sort_values(['Date'])\n",
    "data['Total Time'] = data['End Time'] - data['Start Time']\n",
    "data['Total Minutes'] = data['Total Time'].apply(days_hours_minutes)\n",
    "data['Client Start Time'] = data['Start Time'] + pd.to_timedelta(hour_difference, unit='h')\n",
    "data['Client End Time'] = data['End Time'] + pd.to_timedelta(hour_difference, unit='h')\n",
    "\n",
    "data = data[data.Comment != 'break']\n",
    "\n",
    "data['Start Time'] = data['Start Time'].dt.strftime('%H:%M')\n",
    "data['End Time'] = data['End Time'].dt.strftime('%H:%M')\n",
    "data['Client Start Time'] = data['Client Start Time'].dt.strftime('%H:%M')\n",
    "data['Client End Time'] = data['Client End Time'].dt.strftime('%H:%M')"
   ]
  },
  {
   "cell_type": "code",
   "execution_count": null,
   "id": "limiting-transcript",
   "metadata": {},
   "outputs": [],
   "source": [
    "total_minutes_by_date = data.groupby(by='Date').sum()\n",
    "total_minutes_by_date"
   ]
  },
  {
   "cell_type": "code",
   "execution_count": null,
   "id": "automotive-surrey",
   "metadata": {},
   "outputs": [],
   "source": [
    "data"
   ]
  },
  {
   "cell_type": "code",
   "execution_count": null,
   "id": "thick-shield",
   "metadata": {},
   "outputs": [],
   "source": [
    "data['Total Time'].sum()"
   ]
  },
  {
   "cell_type": "code",
   "execution_count": null,
   "id": "conservative-harvey",
   "metadata": {},
   "outputs": [],
   "source": []
  }
 ],
 "metadata": {
  "kernelspec": {
   "display_name": "Python 3",
   "language": "python",
   "name": "python3"
  },
  "language_info": {
   "codemirror_mode": {
    "name": "ipython",
    "version": 3
   },
   "file_extension": ".py",
   "mimetype": "text/x-python",
   "name": "python",
   "nbconvert_exporter": "python",
   "pygments_lexer": "ipython3",
   "version": "3.8.5"
  },
  "metadata": {
   "interpreter": {
    "hash": "63fd5069d213b44bf678585dea6b12cceca9941eaf7f819626cde1f2670de90d"
   }
  }
 },
 "nbformat": 4,
 "nbformat_minor": 5
}
