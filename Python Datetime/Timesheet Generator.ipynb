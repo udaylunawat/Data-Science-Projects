{
 "cells": [
  {
   "cell_type": "markdown",
   "id": "c9394107-4293-4651-9bd8-2b22b6842072",
   "metadata": {},
   "source": [
    "# Instructions\n",
    "- Don't use \"-\" in comments\n",
    "- Only use / for dates, or Name date format\n",
    "- Use - to seperate time\n",
    "- Don't use dash (-) in lines other than to seperate times"
   ]
  },
  {
   "cell_type": "code",
   "execution_count": null,
   "id": "ef862c47-a276-4cb4-b579-698686b9fa29",
   "metadata": {},
   "outputs": [
    {
     "name": "stdout",
     "output_type": "stream",
     "text": [
      "usage: generate_timesheet.py [-h] -f FILE [-r RATE] [-d DISCOUNTED_RATE]\n",
      "                             [-t THRESHOLD] [-tz TIMEZONE] [-hrs HRS_DIFF]\n",
      "\n",
      "Generate timesheet\n",
      "\n",
      "optional arguments:\n",
      "  -h, --help            show this help message and exit\n",
      "  -f FILE, --file FILE  file path\n",
      "  -r RATE, --rate RATE  base rate\n",
      "  -d DISCOUNTED_RATE, --discounted_rate DISCOUNTED_RATE\n",
      "                        discounted rate\n",
      "  -t THRESHOLD, --threshold THRESHOLD\n",
      "                        discount threshold\n",
      "  -tz TIMEZONE, --timezone TIMEZONE\n",
      "                        timezone\n",
      "  -hrs HRS_DIFF, --hrs_diff HRS_DIFF\n",
      "                        hours difference\n"
     ]
    }
   ],
   "source": [
    "!python generate_timesheet.py -h"
   ]
  },
  {
   "cell_type": "code",
   "execution_count": null,
   "id": "4c866ec2-e692-4d5d-8e70-32d7d11b6332",
   "metadata": {},
   "outputs": [
    {
     "name": "stdout",
     "output_type": "stream",
     "text": [
      "Invoice Oct-2022\n",
      "\n",
      "Note:- Time in GMT +8.0\n",
      "\n",
      "##################################################\n",
      "\n",
      "\u001b[1mOct Week 3\u001b[0m\n",
      "\n",
      "Actual Total time for the week:- 292 mins or 4.87 hours.\n",
      "Total time below 14 hrs, hence billing at $30/hr.\n",
      "\n",
      "##################################################\n",
      "\n",
      "Total time in Oct 2022:- 4.867 hours.\n",
      "\n",
      "##################################################\n",
      "\n",
      "\n",
      "\n",
      "Daily breakdown:-\n",
      "\n",
      "\n",
      "\n",
      "\n",
      "2022-10-16, Week 3\n",
      "\n",
      "Actual Total time     :- 108 mins or 1.80 hours.\n",
      "Discounted Total time :- []  mins or []   hours.\n",
      "\n",
      "Breakdown\n",
      "14:40 - 16:28 (108 mins) (planning, rest 5mins)\n",
      "\n",
      "##################################################\n",
      "\n",
      "2022-10-17, Week 3\n",
      "\n",
      "Actual Total time     :- 110 mins or 1.83 hours.\n",
      "Discounted Total time :- []  mins or []   hours.\n",
      "\n",
      "Breakdown\n",
      "16:40 - 18:30 (110 mins) (plan 1)\n",
      "\n",
      "##################################################\n",
      "\n",
      "2022-10-21, Week 3\n",
      "\n",
      "Actual Total time     :- 74 mins or 1.23 hours.\n",
      "Discounted Total time :- []  mins or []   hours.\n",
      "\n",
      "Breakdown\n",
      "14:16 - 15:30 (74 mins) (plan)\n",
      "\n",
      "##################################################\n"
     ]
    }
   ],
   "source": [
    "!python generate_timesheet.py --file 2022/October.txt \\\n",
    "    --rate 30 \\\n",
    "    --discounted_rate 25 \\\n",
    "    --threshold 14 \\\n",
    "    -tz 8.0 \\\n",
    "    -hrs 0"
   ]
  },
  {
   "cell_type": "markdown",
   "id": "686b97b3-76ec-431c-9736-a4b8fe8a68bf",
   "metadata": {},
   "source": [
    "# Detailed Exploratory Notebook"
   ]
  },
  {
   "cell_type": "markdown",
   "id": "65f65f3c-9b0e-4571-a59a-d0c5b30aee5c",
   "metadata": {},
   "source": [
    "## Tips\n",
    "- Only use / for dates, or Name date format\n",
    "- Use - to seperate time\n",
    "- Don't use dash (-) in lines other than to seperate times"
   ]
  },
  {
   "cell_type": "code",
   "execution_count": null,
   "id": "hispanic-mailman",
   "metadata": {},
   "outputs": [],
   "source": [
    "from datetime import datetime, timedelta\n",
    "from dateutil.parser import parse\n",
    "import pandas as pd\n",
    "import math"
   ]
  },
  {
   "cell_type": "code",
   "execution_count": null,
   "id": "4b60e3ff-774d-472d-85ac-3bf1b8b5299f",
   "metadata": {},
   "outputs": [],
   "source": [
    "file_name = \"2021/Nov.txt\""
   ]
  },
  {
   "cell_type": "code",
   "execution_count": null,
   "id": "6b8da920-93e1-4657-8920-a677b2060338",
   "metadata": {},
   "outputs": [],
   "source": [
    "time_zone = 5.5\n",
    "hour_difference = 2.5\n",
    "hour_sign = '+'\n",
    "\n",
    "base_rate = 30\n",
    "discount_threshold = 14 # in hours\n",
    "discounted_rate = 25"
   ]
  },
  {
   "cell_type": "code",
   "execution_count": null,
   "id": "parallel-boundary",
   "metadata": {},
   "outputs": [],
   "source": [
    "f = open(file_name, \"r\")\n",
    "txt_data = f.read()\n",
    "print(txt_data)"
   ]
  },
  {
   "cell_type": "code",
   "execution_count": null,
   "id": "seven-april",
   "metadata": {},
   "outputs": [],
   "source": [
    "# sample_date = '8th April'\n",
    "# print(parse(sample_date, dayfirst=True).date())\n",
    "# sample_date = '08/05'\n",
    "# print(parse(sample_date, dayfirst=True).date())"
   ]
  },
  {
   "cell_type": "code",
   "execution_count": null,
   "id": "joined-brave",
   "metadata": {},
   "outputs": [],
   "source": [
    "def stringtodate(string):\n",
    "    datetime_object = parse(string, dayfirst=True).date()\n",
    "    return datetime_object\n",
    "\n",
    "def stringtotime(time, date):\n",
    "    date = stringtodate(date)\n",
    "    time = datetime.strptime(time, '%H:%M').time()\n",
    "    date_time = datetime.combine(date, time)\n",
    "    return date_time\n",
    "\n",
    "def days_hours_minutes(td):\n",
    "    return td.total_seconds() / 60"
   ]
  },
  {
   "cell_type": "code",
   "execution_count": null,
   "id": "logical-hacker",
   "metadata": {},
   "outputs": [],
   "source": [
    "data = pd.DataFrame(columns = [\"Date\",\"Start Time\", \"End Time\", \"Comment\"])\n",
    "\n",
    "with open(file_name, \"r\") as f:\n",
    "    lines = f.readlines()\n",
    "    \n",
    "    for line in lines:\n",
    "        if ':' not in line:\n",
    "            date = line.rstrip('\\n').strip()\n",
    "        elif line == '\\n':\n",
    "            continue\n",
    "        else:\n",
    "            start_time, end_time = line.split('-')\n",
    "            start_time, end_time = start_time.strip(), end_time.strip()\n",
    "            \n",
    "            if '(' in end_time:\n",
    "                end_time, comment = end_time.split('(')\n",
    "                end_time = end_time.strip()\n",
    "                comment = comment.strip('()')\n",
    "            else:\n",
    "                end_time, comment = end_time, None\n",
    "\n",
    "            row = {\"Date\":date, \"Start Time\":stringtotime(start_time, date), \"End Time\":stringtotime(end_time, date), \"Comment\":comment}\n",
    "            row = pd.DataFrame(row, index=[0])\n",
    "            data = pd.concat([data, row], axis=0)\n",
    "\n",
    "data['Date'] = data['Date'].apply(lambda x:parse(x, dayfirst=True).date())\n",
    "data = data.sort_values(['Date'])\n",
    "data['Total Time'] = data['End Time'] - data['Start Time']\n",
    "data['Total Minutes'] = data['Total Time'].apply(days_hours_minutes)\n",
    "data['Client Start Time'] = data['Start Time'] + pd.to_timedelta(hour_difference, unit='h')\n",
    "data['Client End Time'] = data['End Time'] + pd.to_timedelta(hour_difference, unit='h')\n",
    "\n",
    "data = data[data.Comment != 'break']\n",
    "\n",
    "data['Start Time'] = data['Start Time'].dt.strftime('%H:%M')\n",
    "data['End Time'] = data['End Time'].dt.strftime('%H:%M')\n",
    "data['Client Start Time'] = data['Client Start Time'].dt.strftime('%H:%M')\n",
    "data['Client End Time'] = data['Client End Time'].dt.strftime('%H:%M')\n",
    "print(data)"
   ]
  },
  {
   "cell_type": "code",
   "execution_count": null,
   "id": "8264a86e-49db-4fea-bb58-b3bc10c57934",
   "metadata": {},
   "outputs": [],
   "source": [
    "def get_week(day):\n",
    "    week = day/7\n",
    "    if week > 1:\n",
    "        week = math.ceil(week)\n",
    "    elif week < 1:\n",
    "        week = 1\n",
    "    return int(week)"
   ]
  },
  {
   "cell_type": "code",
   "execution_count": null,
   "id": "limiting-transcript",
   "metadata": {},
   "outputs": [],
   "source": [
    "total_minutes_by_date = data.groupby(by='Date', as_index=False).sum() # data[data['Comment']!='call']\n",
    "total_minutes_by_date['Week'] = total_minutes_by_date['Date'].apply(lambda x:get_week(x.day))\n",
    "total_minutes_by_date"
   ]
  },
  {
   "cell_type": "code",
   "execution_count": null,
   "id": "6ee51847-b6a2-4119-9463-54f2cb5105f6",
   "metadata": {},
   "outputs": [],
   "source": [
    "total_minutes_by_date.groupby(by='Week').sum()"
   ]
  },
  {
   "cell_type": "code",
   "execution_count": null,
   "id": "a10fadba-4cf6-4d7c-a09b-9c6e6ae79bd0",
   "metadata": {},
   "outputs": [],
   "source": [
    "print('Total time in minutes: {}\\nTotal time in days: {}.'.format(data['Total Minutes'].sum(), data['Total Time'].sum()))"
   ]
  },
  {
   "cell_type": "code",
   "execution_count": null,
   "id": "12475c53-0bca-4627-8c59-6a51f18feeb3",
   "metadata": {},
   "outputs": [],
   "source": [
    "all_dates = sorted(list(set(row.Date for index, row in data.iterrows())))\n",
    "all_dates"
   ]
  },
  {
   "cell_type": "code",
   "execution_count": null,
   "id": "87641777-0f1d-40a6-80b1-bd7b67f22f49",
   "metadata": {},
   "outputs": [],
   "source": [
    "data[['Date','Total Minutes']]"
   ]
  },
  {
   "cell_type": "code",
   "execution_count": null,
   "id": "8d738801-5d5f-4098-80b9-e72633498c91",
   "metadata": {},
   "outputs": [],
   "source": [
    "total_minutes_by_date['Total Minutes'].sum()"
   ]
  },
  {
   "cell_type": "code",
   "execution_count": null,
   "id": "conservative-harvey",
   "metadata": {},
   "outputs": [],
   "source": [
    "def main():\n",
    "    print(f\"Invoicely\\n\")\n",
    "    print(f\"\\nNote:- Time in GMT {hour_sign}{hour_difference + time_zone}\\n\")\n",
    "\n",
    "    print(f\"{file_name.split('.txt')[0].replace('_',' ').upper()} ({all_dates[0]} to {all_dates[0] + timedelta(days=6)})\") #  all_dates[-1]\n",
    "\n",
    "    print('Actual Total time for the week:- {} mins or {:.2f} hours'.format(int(data['Total Minutes'].sum()),\n",
    "                                                                            int(data['Total Minutes'].sum()) / 60))\n",
    "    # print('\\n14-hour week discount calculations:- \\nP.S:- It excludes solo time,\n",
    "    # as it\\'s already charged at discounted rate/hr\\n\\n')\n",
    "    if total_minutes_by_date['Total Minutes'].sum() > discount_threshold * 60:\n",
    "        print(f\"Total time greater than {discount_threshold} hrs, hence billing at ${discounted_rate}/hr.\")\n",
    "    else:\n",
    "        print(f\"Total time below 14 hrs, hence billing at ${base_rate}/hr\")\n",
    "\n",
    "\n",
    "    print('#' * 50)\n",
    "\n",
    "    for index, (date, tm, week) in total_minutes_by_date.iterrows():\n",
    "\n",
    "        print(f'\\n{date}, Week {int(week)}\\n')\n",
    "        print(f'Actual Total time     :- {int(tm)} mins or {tm / 60:.2f} hours.')\n",
    "        print('Discounted Total time :- []  mins or []   hours.\\n')\n",
    "        current_date = data[data['Date'] == date]\n",
    "        print(\"Breakdown\")\n",
    "        for index, row in current_date.iterrows():\n",
    "            if row['Comment'] is None:  # or row['Comment'].strip() == 'call'\n",
    "                print('{} - {} ({} mins)'\n",
    "                      .format(row['Client Start Time'],\n",
    "                              row['Client End Time'],\n",
    "                              int(row['Total Minutes'])))\n",
    "            else:\n",
    "                print('{} - {} ({} mins)'\n",
    "                      .format(row['Client Start Time'],\n",
    "                              row['Client End Time'],\n",
    "                              int(row['Total Minutes'])),\n",
    "                      end=' ({})\\n'.format(row['Comment']))\n",
    "    #         if row['Comment'] != None:\n",
    "    #             print('({})\\n'.format(row['Comment']))\n",
    "        print('\\n' + '#' * 50)"
   ]
  },
  {
   "cell_type": "code",
   "execution_count": null,
   "id": "df2e50f3-2470-444d-9c4d-9420d58afdb7",
   "metadata": {},
   "outputs": [],
   "source": [
    "main()"
   ]
  },
  {
   "cell_type": "code",
   "execution_count": null,
   "id": "8d3258a2-4224-4770-b3ea-dbfd39bbca43",
   "metadata": {},
   "outputs": [],
   "source": []
  },
  {
   "cell_type": "code",
   "execution_count": null,
   "id": "cd592368-853c-4b48-bca9-eb67c2a69e79",
   "metadata": {},
   "outputs": [],
   "source": []
  },
  {
   "cell_type": "code",
   "execution_count": null,
   "id": "77a3585b-1cd4-4823-9e7c-129b0b08c111",
   "metadata": {},
   "outputs": [],
   "source": []
  }
 ],
 "metadata": {
  "kernelspec": {
   "display_name": "Python 3 (ipykernel)",
   "language": "python",
   "name": "python3"
  }
 },
 "nbformat": 4,
 "nbformat_minor": 5
}
