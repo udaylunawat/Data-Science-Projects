{
 "cells": [
  {
   "cell_type": "markdown",
   "id": "65f65f3c-9b0e-4571-a59a-d0c5b30aee5c",
   "metadata": {},
   "source": [
    "## Tips\n",
    "- Only use / for dates, or Name date format\n",
    "- Use - to seperate time\n",
    "- Don't use dash (-) in lines other than to seperate times"
   ]
  },
  {
   "cell_type": "code",
   "execution_count": null,
   "id": "hispanic-mailman",
   "metadata": {
    "tags": []
   },
   "outputs": [],
   "source": [
    "from datetime import datetime, timedelta\n",
    "from dateutil.parser import parse\n",
    "import pandas as pd"
   ]
  },
  {
   "cell_type": "code",
   "execution_count": null,
   "id": "908c7d3a-7557-4400-8316-263af664b40c",
   "metadata": {},
   "outputs": [],
   "source": [
    "time_zone = 5.5"
   ]
  },
  {
   "cell_type": "code",
   "execution_count": null,
   "id": "maritime-appeal",
   "metadata": {},
   "outputs": [],
   "source": [
    "hour_sign = '+'\n",
    "hour_difference = 2.5"
   ]
  },
  {
   "cell_type": "code",
   "execution_count": null,
   "id": "0082d4e5-ff04-4fc2-bbc4-d9ca9187ea44",
   "metadata": {},
   "outputs": [],
   "source": [
    "file_name = \"April week 5.txt\""
   ]
  },
  {
   "cell_type": "code",
   "execution_count": null,
   "id": "7b639e19-11a2-443b-97b7-8f54a480708c",
   "metadata": {},
   "outputs": [],
   "source": [
    "base_rate = 25\n",
    "discount_threshold = 14 # in hours\n",
    "discounted_rate = 20"
   ]
  },
  {
   "cell_type": "code",
   "execution_count": null,
   "id": "parallel-boundary",
   "metadata": {},
   "outputs": [],
   "source": [
    "f = open(file_name, \"r\")\n",
    "txt_data = f.read()\n",
    "print(txt_data)"
   ]
  },
  {
   "cell_type": "code",
   "execution_count": null,
   "id": "seven-april",
   "metadata": {},
   "outputs": [],
   "source": [
    "sample_date = '8th April'\n",
    "print(parse(sample_date, dayfirst=True).date())\n",
    "sample_date = '08/05'\n",
    "print(parse(sample_date, dayfirst=True).date())"
   ]
  },
  {
   "cell_type": "code",
   "execution_count": null,
   "id": "joined-brave",
   "metadata": {},
   "outputs": [],
   "source": [
    "def stringtodate(string):\n",
    "    datetime_object = parse(string, dayfirst=True).date()\n",
    "    return datetime_object\n",
    "\n",
    "def stringtotime(time, date):\n",
    "    date = stringtodate(date)\n",
    "    time = datetime.strptime(time, '%H:%M').time()\n",
    "    date_time = datetime.combine(date, time)\n",
    "    return date_time"
   ]
  },
  {
   "cell_type": "code",
   "execution_count": null,
   "id": "portable-bradley",
   "metadata": {},
   "outputs": [],
   "source": [
    "def days_hours_minutes(td):\n",
    "    return td.total_seconds() / 60"
   ]
  },
  {
   "cell_type": "code",
   "execution_count": null,
   "id": "logical-hacker",
   "metadata": {
    "tags": []
   },
   "outputs": [],
   "source": [
    "data = pd.DataFrame(columns = [\"Date\",\"Start Time\", \"End Time\", \"Comment\"])\n",
    "\n",
    "with open(file_name, \"r\") as f:\n",
    "    lines = f.readlines()\n",
    "    \n",
    "    for line in lines:\n",
    "        if ':' not in line:\n",
    "            date = line.rstrip('\\n').strip()\n",
    "        elif line == '\\n':\n",
    "            continue\n",
    "        else:\n",
    "            start_time, end_time = line.split('-')\n",
    "            start_time, end_time = start_time.strip(), end_time.strip()\n",
    "            \n",
    "            if '(' in end_time:\n",
    "                end_time, comment = end_time.split('(')\n",
    "                end_time = end_time.strip()\n",
    "                comment = comment.strip('()')\n",
    "            else:\n",
    "                end_time, comment = end_time, None\n",
    "\n",
    "            row = {\"Date\":date, \"Start Time\":stringtotime(start_time, date), \"End Time\":stringtotime(end_time, date), \"Comment\":comment}\n",
    "            data = data.append(row, ignore_index = True)\n",
    "\n",
    "data['Date'] = data['Date'].apply(lambda x:parse(x, dayfirst=True).date())\n",
    "data = data.sort_values(['Date'])\n",
    "data['Total Time'] = data['End Time'] - data['Start Time']\n",
    "data['Total Minutes'] = data['Total Time'].apply(days_hours_minutes)\n",
    "data['Client Start Time'] = data['Start Time'] + pd.to_timedelta(hour_difference, unit='h')\n",
    "data['Client End Time'] = data['End Time'] + pd.to_timedelta(hour_difference, unit='h')\n",
    "\n",
    "data = data[data.Comment != 'break']\n",
    "\n",
    "data['Start Time'] = data['Start Time'].dt.strftime('%H:%M')\n",
    "data['End Time'] = data['End Time'].dt.strftime('%H:%M')\n",
    "data['Client Start Time'] = data['Client Start Time'].dt.strftime('%H:%M')\n",
    "data['Client End Time'] = data['Client End Time'].dt.strftime('%H:%M')\n",
    "print(data)"
   ]
  },
  {
   "cell_type": "code",
   "execution_count": null,
   "id": "39c5524b-a1d6-4fef-9dd8-51c6b8adb5e7",
   "metadata": {},
   "outputs": [],
   "source": [
    "data"
   ]
  },
  {
   "cell_type": "code",
   "execution_count": null,
   "id": "limiting-transcript",
   "metadata": {},
   "outputs": [],
   "source": [
    "total_minutes_by_date = data.groupby(by='Date', as_index=False).sum()\n",
    "total_minutes_by_date"
   ]
  },
  {
   "cell_type": "code",
   "execution_count": null,
   "id": "automotive-surrey",
   "metadata": {},
   "outputs": [],
   "source": [
    "data"
   ]
  },
  {
   "cell_type": "code",
   "execution_count": null,
   "id": "a10fadba-4cf6-4d7c-a09b-9c6e6ae79bd0",
   "metadata": {},
   "outputs": [],
   "source": [
    "total_minutes_by_date['Total Minutes'].sum()"
   ]
  },
  {
   "cell_type": "code",
   "execution_count": null,
   "id": "thick-shield",
   "metadata": {},
   "outputs": [],
   "source": [
    "data['Total Time'].sum()"
   ]
  },
  {
   "cell_type": "code",
   "execution_count": null,
   "id": "12475c53-0bca-4627-8c59-6a51f18feeb3",
   "metadata": {},
   "outputs": [],
   "source": [
    "all_dates = [row.Date for index, row in total_minutes_by_date.iterrows()]"
   ]
  },
  {
   "cell_type": "code",
   "execution_count": null,
   "id": "conservative-harvey",
   "metadata": {},
   "outputs": [],
   "source": [
    "print(\"Invoicely\\nTime in GMT {}{}\\n\".format(hour_sign,hour_difference+time_zone))\n",
    "\n",
    "print(\"{} ({} to {})\".format(file_name.split('.txt')[0], all_dates[0], all_dates[-1]))\n",
    "\n",
    "print('Actual Total time for the week:- {} mins or {:.2f} hours'.format(int(total_minutes_by_date['Total Minutes'].sum()), \\\n",
    "                                              int(total_minutes_by_date['Total Minutes'].sum())/60))\n",
    "# print('\\n14-hour week discount calculations:- \\nP.S:- It excludes solo time, as it\\'s already charged at $20/hr\\n\\n')\n",
    "if total_minutes_by_date['Total Minutes'].sum() > discount_threshold*60:\n",
    "    print(\"Total time greater than 14 hrs, hence billing at ${}/hr.\".format(discounted_rate))\n",
    "else:\n",
    "    print(\"Total time below 14 hrs, hence billing at ${}/hr\".format(base_rate))\n",
    "print('#'*50)\n",
    "\n",
    "for index, (date, tm) in total_minutes_by_date.iterrows():\n",
    "    print('\\n{}'.format(date))\n",
    "    print('Actual Total time:- {} mins. or {:.2f} hours.'.format(int(tm), tm/60))\n",
    "    print('Discounted Total time:- [] mins or [] hours.\\n')\n",
    "    current_date = data[data['Date']==date]\n",
    "    print(\"Breakdown\")\n",
    "    for index, row in current_date.iterrows():\n",
    "        print('{} - {} ({} mins)'.format(row['Client Start Time'], row['Client End Time'], int(row['Total Minutes'])  ))\n",
    "        if row['Comment'] != None:\n",
    "            print('Description: {}.\\n'.format(row['Comment']))\n",
    "    print('#'*50)"
   ]
  }
 ],
 "metadata": {
  "kernelspec": {
   "display_name": "Python 3",
   "language": "python",
   "name": "python3"
  },
  "language_info": {
   "codemirror_mode": {
    "name": "ipython",
    "version": 3
   },
   "file_extension": ".py",
   "mimetype": "text/x-python",
   "name": "python",
   "nbconvert_exporter": "python",
   "pygments_lexer": "ipython3",
   "version": "3.8.5"
  },
  "metadata": {
   "interpreter": {
    "hash": "63fd5069d213b44bf678585dea6b12cceca9941eaf7f819626cde1f2670de90d"
   }
  }
 },
 "nbformat": 4,
 "nbformat_minor": 5
}
