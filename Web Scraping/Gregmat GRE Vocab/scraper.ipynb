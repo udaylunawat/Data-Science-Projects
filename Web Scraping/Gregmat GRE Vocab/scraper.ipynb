{
 "cells": [
  {
   "cell_type": "code",
   "execution_count": 1,
   "id": "coordinate-record",
   "metadata": {},
   "outputs": [],
   "source": [
    "import pandas as pd\n",
    "import requests\n",
    "import lxml\n",
    "from lxml import html\n",
    "import time\n",
    "import json\n",
    "from tqdm.notebook import tqdm"
   ]
  },
  {
   "cell_type": "code",
   "execution_count": 2,
   "id": "f60362ef-f57f-40e7-9257-a134c6dd242b",
   "metadata": {},
   "outputs": [],
   "source": [
    "from utilities import *"
   ]
  },
  {
   "cell_type": "code",
   "execution_count": 15,
   "id": "distinct-rachel",
   "metadata": {},
   "outputs": [],
   "source": [
    "words = pd.read_excel('Words from GRE Vocabulary Assessment Videos.xlsx', header=None)\n",
    "words = words.applymap(lambda x: x.strip() if isinstance(x, str) else x)"
   ]
  },
  {
   "cell_type": "code",
   "execution_count": 27,
   "id": "a92aa4f8-19b1-46ad-ae9c-4757889b7ff3",
   "metadata": {},
   "outputs": [],
   "source": [
    "# # Create new\n",
    "# ankified = pd.DataFrame(columns=['words','definition','synonyms','mnemonics','image_url'])\n",
    "\n",
    "ankified = pd.read_csv('anki_mnemonics.csv')"
   ]
  },
  {
   "cell_type": "code",
   "execution_count": 28,
   "id": "c317c0e3-1f3f-478d-8500-b3a5c8ace1ed",
   "metadata": {},
   "outputs": [],
   "source": [
    "max_groups = 28\n",
    "max_set_words = 30"
   ]
  },
  {
   "cell_type": "code",
   "execution_count": 29,
   "id": "d78677cd-4e31-47cb-af90-b743d5c1a315",
   "metadata": {},
   "outputs": [
    {
     "data": {
      "text/html": [
       "<div>\n",
       "<style scoped>\n",
       "    .dataframe tbody tr th:only-of-type {\n",
       "        vertical-align: middle;\n",
       "    }\n",
       "\n",
       "    .dataframe tbody tr th {\n",
       "        vertical-align: top;\n",
       "    }\n",
       "\n",
       "    .dataframe thead th {\n",
       "        text-align: right;\n",
       "    }\n",
       "</style>\n",
       "<table border=\"1\" class=\"dataframe\">\n",
       "  <thead>\n",
       "    <tr style=\"text-align: right;\">\n",
       "      <th></th>\n",
       "      <th>words</th>\n",
       "      <th>definition</th>\n",
       "      <th>synonyms</th>\n",
       "      <th>mnemonics</th>\n",
       "      <th>image_url</th>\n",
       "      <th>sets</th>\n",
       "    </tr>\n",
       "  </thead>\n",
       "  <tbody>\n",
       "    <tr>\n",
       "      <th>0</th>\n",
       "      <td>abound</td>\n",
       "      <td>(verb) be abundant or plentiful; exist in larg...</td>\n",
       "      <td>bristle,burst</td>\n",
       "      <td>Mnemonic 1: Bounded means limited. Abound mean...</td>\n",
       "      <td>NaN</td>\n",
       "      <td>Set_1</td>\n",
       "    </tr>\n",
       "    <tr>\n",
       "      <th>1</th>\n",
       "      <td>amorphous</td>\n",
       "      <td>(adj) having no definite form or distinct shape</td>\n",
       "      <td>formless,shapeless,unstructured,uncrystallised...</td>\n",
       "      <td>Mnemonic 1: In Greek 'morphe' means shape/form...</td>\n",
       "      <td>NaN</td>\n",
       "      <td>Set_1</td>\n",
       "    </tr>\n",
       "    <tr>\n",
       "      <th>2</th>\n",
       "      <td>austere</td>\n",
       "      <td>(adj) severely simple</td>\n",
       "      <td>severe,stark,stern,stern,ascetic,ascetical,spa...</td>\n",
       "      <td>Mnemonic 1: AUS-australia TERE-tear(sorrow). l...</td>\n",
       "      <td>NaN</td>\n",
       "      <td>Set_1</td>\n",
       "    </tr>\n",
       "    <tr>\n",
       "      <th>3</th>\n",
       "      <td>belie</td>\n",
       "      <td>(verb) be in contradiction with</td>\n",
       "      <td>contradict,negate,misrepresent</td>\n",
       "      <td>Mnemonic 1: belie ~ lie means something false....</td>\n",
       "      <td>NaN</td>\n",
       "      <td>Set_1</td>\n",
       "    </tr>\n",
       "    <tr>\n",
       "      <th>4</th>\n",
       "      <td>capricious</td>\n",
       "      <td>(adj) changeable</td>\n",
       "      <td>freakish,impulsive,whimsical</td>\n",
       "      <td>Mnemonic 1: ca(CAR) + PRIC(PRICE)...PRICE OF c...</td>\n",
       "      <td>NaN</td>\n",
       "      <td>Set_1</td>\n",
       "    </tr>\n",
       "    <tr>\n",
       "      <th>...</th>\n",
       "      <td>...</td>\n",
       "      <td>...</td>\n",
       "      <td>...</td>\n",
       "      <td>...</td>\n",
       "      <td>...</td>\n",
       "      <td>...</td>\n",
       "    </tr>\n",
       "    <tr>\n",
       "      <th>835</th>\n",
       "      <td>sophistry</td>\n",
       "      <td>(noun) a deliberately invalid argument display...</td>\n",
       "      <td>sophism,sophistication</td>\n",
       "      <td>Mnemonic 1: so physics is = chemistry.. its a ...</td>\n",
       "      <td>NaN</td>\n",
       "      <td>Set_28</td>\n",
       "    </tr>\n",
       "    <tr>\n",
       "      <th>836</th>\n",
       "      <td>penchant</td>\n",
       "      <td>(noun) a strong liking</td>\n",
       "      <td>predilection,preference,taste</td>\n",
       "      <td>Mnemonic 1: p+enchant- something that enchants...</td>\n",
       "      <td>&lt;img src=\"https://dailyvocab.com/wp-content/up...</td>\n",
       "      <td>Set_28</td>\n",
       "    </tr>\n",
       "    <tr>\n",
       "      <th>837</th>\n",
       "      <td>gauche</td>\n",
       "      <td>(adj) lacking social polish</td>\n",
       "      <td>graceless,unpolished</td>\n",
       "      <td>Mnemonic 1: Ghochu\\nMnemonic 2: gauchy sounds ...</td>\n",
       "      <td>NaN</td>\n",
       "      <td>Set_28</td>\n",
       "    </tr>\n",
       "    <tr>\n",
       "      <th>838</th>\n",
       "      <td>deprecate</td>\n",
       "      <td>(verb) express strong disapproval of; deplore</td>\n",
       "      <td>depreciate,vilipend</td>\n",
       "      <td>Mnemonic 1: You can think of it as the opposit...</td>\n",
       "      <td>NaN</td>\n",
       "      <td>Set_28</td>\n",
       "    </tr>\n",
       "    <tr>\n",
       "      <th>839</th>\n",
       "      <td>affront</td>\n",
       "      <td>(noun) a deliberately offensive act or somethi...</td>\n",
       "      <td>insult,diss,insult</td>\n",
       "      <td>Mnemonic 1: Affront=A(Aao)+front means if u co...</td>\n",
       "      <td>&lt;img src=\"https://dailyvocab.com/wp-content/up...</td>\n",
       "      <td>Set_28</td>\n",
       "    </tr>\n",
       "  </tbody>\n",
       "</table>\n",
       "<p>840 rows × 6 columns</p>\n",
       "</div>"
      ],
      "text/plain": [
       "          words                                         definition  \\\n",
       "0        abound  (verb) be abundant or plentiful; exist in larg...   \n",
       "1     amorphous    (adj) having no definite form or distinct shape   \n",
       "2       austere                              (adj) severely simple   \n",
       "3         belie                    (verb) be in contradiction with   \n",
       "4    capricious                                   (adj) changeable   \n",
       "..          ...                                                ...   \n",
       "835   sophistry  (noun) a deliberately invalid argument display...   \n",
       "836    penchant                             (noun) a strong liking   \n",
       "837      gauche                        (adj) lacking social polish   \n",
       "838   deprecate      (verb) express strong disapproval of; deplore   \n",
       "839     affront  (noun) a deliberately offensive act or somethi...   \n",
       "\n",
       "                                              synonyms  \\\n",
       "0                                        bristle,burst   \n",
       "1    formless,shapeless,unstructured,uncrystallised...   \n",
       "2    severe,stark,stern,stern,ascetic,ascetical,spa...   \n",
       "3                       contradict,negate,misrepresent   \n",
       "4                         freakish,impulsive,whimsical   \n",
       "..                                                 ...   \n",
       "835                             sophism,sophistication   \n",
       "836                      predilection,preference,taste   \n",
       "837                               graceless,unpolished   \n",
       "838                                depreciate,vilipend   \n",
       "839                                 insult,diss,insult   \n",
       "\n",
       "                                             mnemonics  \\\n",
       "0    Mnemonic 1: Bounded means limited. Abound mean...   \n",
       "1    Mnemonic 1: In Greek 'morphe' means shape/form...   \n",
       "2    Mnemonic 1: AUS-australia TERE-tear(sorrow). l...   \n",
       "3    Mnemonic 1: belie ~ lie means something false....   \n",
       "4    Mnemonic 1: ca(CAR) + PRIC(PRICE)...PRICE OF c...   \n",
       "..                                                 ...   \n",
       "835  Mnemonic 1: so physics is = chemistry.. its a ...   \n",
       "836  Mnemonic 1: p+enchant- something that enchants...   \n",
       "837  Mnemonic 1: Ghochu\\nMnemonic 2: gauchy sounds ...   \n",
       "838  Mnemonic 1: You can think of it as the opposit...   \n",
       "839  Mnemonic 1: Affront=A(Aao)+front means if u co...   \n",
       "\n",
       "                                             image_url    sets  \n",
       "0                                                  NaN   Set_1  \n",
       "1                                                  NaN   Set_1  \n",
       "2                                                  NaN   Set_1  \n",
       "3                                                  NaN   Set_1  \n",
       "4                                                  NaN   Set_1  \n",
       "..                                                 ...     ...  \n",
       "835                                                NaN  Set_28  \n",
       "836  <img src=\"https://dailyvocab.com/wp-content/up...  Set_28  \n",
       "837                                                NaN  Set_28  \n",
       "838                                                NaN  Set_28  \n",
       "839  <img src=\"https://dailyvocab.com/wp-content/up...  Set_28  \n",
       "\n",
       "[840 rows x 6 columns]"
      ]
     },
     "execution_count": 29,
     "metadata": {},
     "output_type": "execute_result"
    }
   ],
   "source": [
    "ankified"
   ]
  },
  {
   "cell_type": "code",
   "execution_count": 30,
   "id": "2eec9c4c-3a8b-45c6-84a5-9fb68e66f6a4",
   "metadata": {},
   "outputs": [],
   "source": [
    "# ankified['mnemonics'][2].strip('[]')\n",
    "# ankified['mnemonics'] = ankified['mnemonics'].apply(lambda x: None if x == '[]' else x)\n",
    "# ankified['mnemonics'] = ankified['mnemonics'].apply(lambda x: x.strip('[]').split(',') if reset_index None else None) # String to list\n",
    "# ankified['mnemonics'] = ankified['mnemonics'].apply(lambda x: mnemo_list_to_string(x) if x != 'NaN' else x) # list to mnemonics"
   ]
  },
  {
   "cell_type": "code",
   "execution_count": 36,
   "id": "968d27af-0b54-446d-815b-284dec5058f6",
   "metadata": {
    "tags": []
   },
   "outputs": [],
   "source": [
    "total_sets = 28\n",
    "for set_no in range(1, total_sets+1):\n",
    "    word_list = list(get_my_set(words, set_no))\n",
    "    ankified = add_set(ankified, word_list, set_no, sleep = False)"
   ]
  },
  {
   "cell_type": "code",
   "execution_count": 37,
   "id": "df63c6bb-11d3-4794-b531-f622c887dc88",
   "metadata": {},
   "outputs": [
    {
     "data": {
      "text/plain": [
       "'Mnemonic 1: Bounded means limited. Abound means not limited, that is plentiful.\\nMnemonic 2: Abound sounds like abundant which means in plenty...so ABOUND means to exist in large number'"
      ]
     },
     "execution_count": 37,
     "metadata": {},
     "output_type": "execute_result"
    }
   ],
   "source": [
    "ankified['mnemonics'][0]"
   ]
  },
  {
   "cell_type": "code",
   "execution_count": 38,
   "id": "cc3eaf1c-7e92-45e1-a515-7eb1a46e0d7b",
   "metadata": {},
   "outputs": [
    {
     "data": {
      "text/plain": [
       "0                                                    NaN\n",
       "1                                                    NaN\n",
       "2                                                    NaN\n",
       "3                                                    NaN\n",
       "4                                                    NaN\n",
       "                             ...                        \n",
       "835                                                  NaN\n",
       "836    <img src=\"https://dailyvocab.com/wp-content/up...\n",
       "837                                                  NaN\n",
       "838                                                  NaN\n",
       "839    <img src=\"https://dailyvocab.com/wp-content/up...\n",
       "Name: image_url, Length: 840, dtype: object"
      ]
     },
     "execution_count": 38,
     "metadata": {},
     "output_type": "execute_result"
    }
   ],
   "source": [
    "ankified['image_url']"
   ]
  },
  {
   "cell_type": "code",
   "execution_count": 39,
   "id": "7f3dc0e8-48a3-4097-ba98-8de637205c9c",
   "metadata": {},
   "outputs": [
    {
     "data": {
      "text/plain": [
       "<img src=\"https://dailyvocab.com/wp-content/uploads/2021/01/Burnish.gif\">                    1\n",
       "<img src=\"https://dailyvocab.com/wp-content/uploads/2013/10/ebulliant.and-exuberant.jpg\">    1\n",
       "<img src=\"https://dailyvocab.com/wp-content/uploads/2020/12/Feeble-1.gif\">                   1\n",
       "<img src=\"https://dailyvocab.com/wp-content/uploads/2016/04/adroit2.jpg\">                    1\n",
       "<img src=\"https://dailyvocab.com/wp-content/uploads/2013/08/facetious-1.png\">                1\n",
       "                                                                                            ..\n",
       "<img src=\"https://dailyvocab.com/wp-content/uploads/2017/01/Mundane.jpg\">                    1\n",
       "<img src=\"https://dailyvocab.com/wp-content/uploads/2020/03/Neophyte.gif\">                   1\n",
       "<img src=\"https://dailyvocab.com/wp-content/uploads/2016/09/Gaffe.jpg\">                      1\n",
       "<img src=\"https://dailyvocab.com/wp-content/uploads/2013/05/unscrupulous-1.png\">             1\n",
       "<img src=\"https://dailyvocab.com/wp-content/uploads/2015/05/Abject.jpg\">                     1\n",
       "Name: image_url, Length: 257, dtype: int64"
      ]
     },
     "execution_count": 39,
     "metadata": {},
     "output_type": "execute_result"
    }
   ],
   "source": [
    "ankified['image_url'].value_counts()"
   ]
  },
  {
   "cell_type": "code",
   "execution_count": 41,
   "id": "7df601df-4fe1-4332-8b08-30c7af3835b2",
   "metadata": {},
   "outputs": [
    {
     "name": "stdout",
     "output_type": "stream",
     "text": [
      "['Set_1', 'Set_10', 'Set_11', 'Set_12', 'Set_13', 'Set_14', 'Set_15', 'Set_16', 'Set_17', 'Set_18', 'Set_19', 'Set_2', 'Set_20', 'Set_21', 'Set_22', 'Set_23', 'Set_24', 'Set_25', 'Set_26', 'Set_27', 'Set_28', 'Set_3', 'Set_4', 'Set_5', 'Set_6', 'Set_7', 'Set_8', 'Set_9']\n"
     ]
    }
   ],
   "source": [
    "print(sorted(ankified['sets'].value_counts().keys()))"
   ]
  },
  {
   "cell_type": "code",
   "execution_count": 42,
   "id": "dd160380-aac6-412d-acdf-cdadf978fa15",
   "metadata": {},
   "outputs": [
    {
     "data": {
      "text/html": [
       "<div>\n",
       "<style scoped>\n",
       "    .dataframe tbody tr th:only-of-type {\n",
       "        vertical-align: middle;\n",
       "    }\n",
       "\n",
       "    .dataframe tbody tr th {\n",
       "        vertical-align: top;\n",
       "    }\n",
       "\n",
       "    .dataframe thead th {\n",
       "        text-align: right;\n",
       "    }\n",
       "</style>\n",
       "<table border=\"1\" class=\"dataframe\">\n",
       "  <thead>\n",
       "    <tr style=\"text-align: right;\">\n",
       "      <th></th>\n",
       "      <th>words</th>\n",
       "      <th>definition</th>\n",
       "      <th>synonyms</th>\n",
       "      <th>mnemonics</th>\n",
       "      <th>image_url</th>\n",
       "      <th>sets</th>\n",
       "    </tr>\n",
       "  </thead>\n",
       "  <tbody>\n",
       "    <tr>\n",
       "      <th>0</th>\n",
       "      <td>abound</td>\n",
       "      <td>(verb) be abundant or plentiful; exist in larg...</td>\n",
       "      <td>bristle,burst</td>\n",
       "      <td>Mnemonic 1: Bounded means limited. Abound mean...</td>\n",
       "      <td>NaN</td>\n",
       "      <td>Set_1</td>\n",
       "    </tr>\n",
       "    <tr>\n",
       "      <th>1</th>\n",
       "      <td>amorphous</td>\n",
       "      <td>(adj) having no definite form or distinct shape</td>\n",
       "      <td>formless,shapeless,unstructured,uncrystallised...</td>\n",
       "      <td>Mnemonic 1: In Greek 'morphe' means shape/form...</td>\n",
       "      <td>NaN</td>\n",
       "      <td>Set_1</td>\n",
       "    </tr>\n",
       "    <tr>\n",
       "      <th>2</th>\n",
       "      <td>austere</td>\n",
       "      <td>(adj) severely simple</td>\n",
       "      <td>severe,stark,stern,stern,ascetic,ascetical,spa...</td>\n",
       "      <td>Mnemonic 1: AUS-australia TERE-tear(sorrow). l...</td>\n",
       "      <td>NaN</td>\n",
       "      <td>Set_1</td>\n",
       "    </tr>\n",
       "    <tr>\n",
       "      <th>3</th>\n",
       "      <td>belie</td>\n",
       "      <td>(verb) be in contradiction with</td>\n",
       "      <td>contradict,negate,misrepresent</td>\n",
       "      <td>Mnemonic 1: belie ~ lie means something false....</td>\n",
       "      <td>NaN</td>\n",
       "      <td>Set_1</td>\n",
       "    </tr>\n",
       "    <tr>\n",
       "      <th>4</th>\n",
       "      <td>capricious</td>\n",
       "      <td>(adj) changeable</td>\n",
       "      <td>freakish,impulsive,whimsical</td>\n",
       "      <td>Mnemonic 1: ca(CAR) + PRIC(PRICE)...PRICE OF c...</td>\n",
       "      <td>NaN</td>\n",
       "      <td>Set_1</td>\n",
       "    </tr>\n",
       "    <tr>\n",
       "      <th>...</th>\n",
       "      <td>...</td>\n",
       "      <td>...</td>\n",
       "      <td>...</td>\n",
       "      <td>...</td>\n",
       "      <td>...</td>\n",
       "      <td>...</td>\n",
       "    </tr>\n",
       "    <tr>\n",
       "      <th>835</th>\n",
       "      <td>sophistry</td>\n",
       "      <td>(noun) a deliberately invalid argument display...</td>\n",
       "      <td>sophism,sophistication</td>\n",
       "      <td>Mnemonic 1: so physics is = chemistry.. its a ...</td>\n",
       "      <td>NaN</td>\n",
       "      <td>Set_28</td>\n",
       "    </tr>\n",
       "    <tr>\n",
       "      <th>836</th>\n",
       "      <td>penchant</td>\n",
       "      <td>(noun) a strong liking</td>\n",
       "      <td>predilection,preference,taste</td>\n",
       "      <td>Mnemonic 1: p+enchant- something that enchants...</td>\n",
       "      <td>&lt;img src=\"https://dailyvocab.com/wp-content/up...</td>\n",
       "      <td>Set_28</td>\n",
       "    </tr>\n",
       "    <tr>\n",
       "      <th>837</th>\n",
       "      <td>gauche</td>\n",
       "      <td>(adj) lacking social polish</td>\n",
       "      <td>graceless,unpolished</td>\n",
       "      <td>Mnemonic 1: Ghochu\\nMnemonic 2: gauchy sounds ...</td>\n",
       "      <td>NaN</td>\n",
       "      <td>Set_28</td>\n",
       "    </tr>\n",
       "    <tr>\n",
       "      <th>838</th>\n",
       "      <td>deprecate</td>\n",
       "      <td>(verb) express strong disapproval of; deplore</td>\n",
       "      <td>depreciate,vilipend</td>\n",
       "      <td>Mnemonic 1: You can think of it as the opposit...</td>\n",
       "      <td>NaN</td>\n",
       "      <td>Set_28</td>\n",
       "    </tr>\n",
       "    <tr>\n",
       "      <th>839</th>\n",
       "      <td>affront</td>\n",
       "      <td>(noun) a deliberately offensive act or somethi...</td>\n",
       "      <td>insult,diss,insult</td>\n",
       "      <td>Mnemonic 1: Affront=A(Aao)+front means if u co...</td>\n",
       "      <td>&lt;img src=\"https://dailyvocab.com/wp-content/up...</td>\n",
       "      <td>Set_28</td>\n",
       "    </tr>\n",
       "  </tbody>\n",
       "</table>\n",
       "<p>840 rows × 6 columns</p>\n",
       "</div>"
      ],
      "text/plain": [
       "          words                                         definition  \\\n",
       "0        abound  (verb) be abundant or plentiful; exist in larg...   \n",
       "1     amorphous    (adj) having no definite form or distinct shape   \n",
       "2       austere                              (adj) severely simple   \n",
       "3         belie                    (verb) be in contradiction with   \n",
       "4    capricious                                   (adj) changeable   \n",
       "..          ...                                                ...   \n",
       "835   sophistry  (noun) a deliberately invalid argument display...   \n",
       "836    penchant                             (noun) a strong liking   \n",
       "837      gauche                        (adj) lacking social polish   \n",
       "838   deprecate      (verb) express strong disapproval of; deplore   \n",
       "839     affront  (noun) a deliberately offensive act or somethi...   \n",
       "\n",
       "                                              synonyms  \\\n",
       "0                                        bristle,burst   \n",
       "1    formless,shapeless,unstructured,uncrystallised...   \n",
       "2    severe,stark,stern,stern,ascetic,ascetical,spa...   \n",
       "3                       contradict,negate,misrepresent   \n",
       "4                         freakish,impulsive,whimsical   \n",
       "..                                                 ...   \n",
       "835                             sophism,sophistication   \n",
       "836                      predilection,preference,taste   \n",
       "837                               graceless,unpolished   \n",
       "838                                depreciate,vilipend   \n",
       "839                                 insult,diss,insult   \n",
       "\n",
       "                                             mnemonics  \\\n",
       "0    Mnemonic 1: Bounded means limited. Abound mean...   \n",
       "1    Mnemonic 1: In Greek 'morphe' means shape/form...   \n",
       "2    Mnemonic 1: AUS-australia TERE-tear(sorrow). l...   \n",
       "3    Mnemonic 1: belie ~ lie means something false....   \n",
       "4    Mnemonic 1: ca(CAR) + PRIC(PRICE)...PRICE OF c...   \n",
       "..                                                 ...   \n",
       "835  Mnemonic 1: so physics is = chemistry.. its a ...   \n",
       "836  Mnemonic 1: p+enchant- something that enchants...   \n",
       "837  Mnemonic 1: Ghochu\\nMnemonic 2: gauchy sounds ...   \n",
       "838  Mnemonic 1: You can think of it as the opposit...   \n",
       "839  Mnemonic 1: Affront=A(Aao)+front means if u co...   \n",
       "\n",
       "                                             image_url    sets  \n",
       "0                                                  NaN   Set_1  \n",
       "1                                                  NaN   Set_1  \n",
       "2                                                  NaN   Set_1  \n",
       "3                                                  NaN   Set_1  \n",
       "4                                                  NaN   Set_1  \n",
       "..                                                 ...     ...  \n",
       "835                                                NaN  Set_28  \n",
       "836  <img src=\"https://dailyvocab.com/wp-content/up...  Set_28  \n",
       "837                                                NaN  Set_28  \n",
       "838                                                NaN  Set_28  \n",
       "839  <img src=\"https://dailyvocab.com/wp-content/up...  Set_28  \n",
       "\n",
       "[840 rows x 6 columns]"
      ]
     },
     "execution_count": 42,
     "metadata": {},
     "output_type": "execute_result"
    }
   ],
   "source": [
    "ankified"
   ]
  },
  {
   "cell_type": "code",
   "execution_count": 14,
   "id": "6c5533ca-411b-45f5-9930-b8a736385623",
   "metadata": {},
   "outputs": [],
   "source": [
    "# ENable Final Permission to update\n",
    "\n",
    "# ankified.to_csv('anki_mnemonics.csv', index = None)"
   ]
  },
  {
   "cell_type": "markdown",
   "id": "b83318b9-db99-451c-b631-9841a7e3c18c",
   "metadata": {},
   "source": [
    "# Requests and BS4"
   ]
  },
  {
   "cell_type": "code",
   "execution_count": 172,
   "id": "purple-circulation",
   "metadata": {},
   "outputs": [
    {
     "data": {
      "text/plain": [
       "200"
      ]
     },
     "execution_count": 172,
     "metadata": {},
     "output_type": "execute_result"
    }
   ],
   "source": [
    "page = requests.get(url)\n",
    "page.status_code"
   ]
  },
  {
   "cell_type": "code",
   "execution_count": 175,
   "id": "005044e6-08e3-4b9d-a3e4-de8cb5ff9f0a",
   "metadata": {},
   "outputs": [],
   "source": [
    "from bs4 import BeautifulSoup\n",
    "\n",
    "soup = BeautifulSoup(page.text, 'html.parser')\n",
    "\n",
    "print(soup.prettify())\n",
    "\n",
    "soup.find_all('p')\n",
    "\n",
    "soup.find_all('p')[2].get_text()"
   ]
  },
  {
   "cell_type": "markdown",
   "id": "7f78e7dd-5a7c-4689-b83e-c4a05b675c72",
   "metadata": {},
   "source": [
    "## Testing Section"
   ]
  },
  {
   "cell_type": "code",
   "execution_count": 38,
   "id": "ee34f304-15e2-4535-bc3f-559b4aa12768",
   "metadata": {},
   "outputs": [],
   "source": [
    "word = 'abjure'"
   ]
  },
  {
   "cell_type": "code",
   "execution_count": 39,
   "id": "4530bf17-9f54-44c0-bdf1-b7be0ff5f249",
   "metadata": {},
   "outputs": [],
   "source": [
    "url = 'https://mnemonicdictionary.com/?word='+ word\n",
    "\n",
    "page = requests.get(url)\n",
    "tree = html.fromstring(page.content)\n",
    "definition = tree.xpath('//li[@class=\"media list-group-item p-4\"]/div[1]//text()')[12].strip()"
   ]
  },
  {
   "cell_type": "code",
   "execution_count": 40,
   "id": "01aed196-38a0-45dd-b435-83a70755366a",
   "metadata": {},
   "outputs": [
    {
     "data": {
      "text/plain": [
       "' (verb) formally reject or disavow a formerly held belief, usually under pressure\\n                              '"
      ]
     },
     "execution_count": 40,
     "metadata": {},
     "output_type": "execute_result"
    }
   ],
   "source": [
    "tree.xpath('//li[@class=\"media list-group-item p-4\"]/div/div//text()')[10]"
   ]
  },
  {
   "cell_type": "code",
   "execution_count": 13,
   "id": "6766fd1e-aaf6-4e89-86ee-f04871274f25",
   "metadata": {},
   "outputs": [],
   "source": [
    "from bs4 import BeautifulSoup\n",
    "\n",
    "soup = BeautifulSoup(page.text, 'html.parser')\n",
    "\n",
    "print(soup.prettify())"
   ]
  },
  {
   "cell_type": "code",
   "execution_count": null,
   "id": "4afebc68-c2f2-433b-871f-c16aa7a0f31f",
   "metadata": {},
   "outputs": [],
   "source": [
    "soup.find_all('p')\n",
    "\n",
    "soup.find_all('p')[2].get_text()"
   ]
  }
 ],
 "metadata": {
  "kernelspec": {
   "display_name": "Python 3",
   "language": "python",
   "name": "python3"
  },
  "language_info": {
   "codemirror_mode": {
    "name": "ipython",
    "version": 3
   },
   "file_extension": ".py",
   "mimetype": "text/x-python",
   "name": "python",
   "nbconvert_exporter": "python",
   "pygments_lexer": "ipython3",
   "version": "3.8.5"
  }
 },
 "nbformat": 4,
 "nbformat_minor": 5
}
