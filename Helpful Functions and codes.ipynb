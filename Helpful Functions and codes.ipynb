{
 "cells": [
  {
   "cell_type": "markdown",
   "metadata": {
    "colab_type": "text",
    "id": "VBxf3dRehEQS"
   },
   "source": [
    "## Hide warnings"
   ]
  },
  {
   "cell_type": "code",
   "execution_count": null,
   "metadata": {
    "colab_type": "text",
    "id": "VBxf3dRehEQS"
   },
   "outputs": [],
   "source": [
    "import warnings\n",
    "\n",
    "warnings.filterwarnings(\"ignore\")"
   ]
  },
  {
   "cell_type": "markdown",
   "metadata": {
    "colab_type": "text",
    "id": "1_1UtZzKhLcl"
   },
   "source": [
    "# xkcd font\n"
   ]
  },
  {
   "cell_type": "code",
   "execution_count": null,
   "metadata": {
    "colab": {},
    "colab_type": "code",
    "id": "fVE4MQDyhTA9"
   },
   "outputs": [],
   "source": [
    "!sudo apt-get install fonts-humor-sans\n",
    "\n",
    "with plt.xkcd():\n",
    "    # This figure will be in XKCD-style\n",
    "    fig1 = plt.figure()\n",
    "    # ...\n",
    "\n",
    "# This figure will be in regular style\n",
    "fig2 = plt.figure()"
   ]
  },
  {
   "cell_type": "markdown",
   "metadata": {
    "colab_type": "text",
    "id": "Oobg5TYINfI7"
   },
   "source": [
    "## Grid search plotting for single parameter"
   ]
  },
  {
   "cell_type": "code",
   "execution_count": null,
   "metadata": {
    "colab": {},
    "colab_type": "code",
    "id": "rW_Pys5U8Usm"
   },
   "outputs": [],
   "source": [
    "#When grid search using single hyperparameters\n",
    "\n",
    "def singleplot(rs, alpha, title):\n",
    "  '''Helps in plotting single parameter GridSearch/RandomSearch plots'''\n",
    "\n",
    "  print((\"best from search: %.3f\"\n",
    "        % rs.score(X_test, y_test)))\n",
    "\n",
    "  results = pd.DataFrame.from_dict(rs.cv_results_)\n",
    "\n",
    "  results = results.sort_values(alpha)\n",
    "  train_auc= results['mean_train_score']\n",
    "  train_auc_std= results['std_train_score']\n",
    "  cv_auc = results['mean_test_score'] \n",
    "  cv_auc_std= results['std_test_score']\n",
    "\n",
    "  K =  results[alpha]\n",
    "\n",
    "  plt.plot(K, train_auc, label='Train AUC')\n",
    "  # https://stackoverflow.com/a/48803361/4084039\n",
    "  # plt.gca().fill_between(K, train_auc - train_auc_std,train_auc + train_auc_std,alpha=0.2,color='darkblue')\n",
    "\n",
    "  plt.plot(K, cv_auc, label='CV AUC')\n",
    "\n",
    "  plt.scatter(K, train_auc, label='Train AUC points')\n",
    "  plt.scatter(K, cv_auc, label='CV AUC points')\n",
    "\n",
    "\n",
    "  plt.legend()\n",
    "  plt.xscale('log')\n",
    "  plt.xlabel(\"Alpha\")\n",
    "  plt.ylabel(\"AUC\")\n",
    "  plt.title(title)\n",
    "  plt.grid()\n",
    "  plt.show()\n",
    "\n",
    "  results.head()"
   ]
  },
  {
   "cell_type": "markdown",
   "metadata": {
    "colab_type": "text",
    "id": "sBnwKs-ANcnn"
   },
   "source": [
    "## Pandas display options"
   ]
  },
  {
   "cell_type": "code",
   "execution_count": null,
   "metadata": {
    "colab": {},
    "colab_type": "code",
    "id": "lauu0bbP8lYE"
   },
   "outputs": [],
   "source": [
    "# Pandas display options\n",
    "\n",
    "# https://stackoverflow.com/a/11711637/9292995\n",
    "import pandas as pd\n",
    "pd.options.display.width = 0"
   ]
  },
  {
   "cell_type": "markdown",
   "metadata": {
    "colab_type": "text",
    "id": "Tu7jQfJyoHpL"
   },
   "source": [
    "## Faster and better pandas"
   ]
  },
  {
   "cell_type": "code",
   "execution_count": null,
   "metadata": {
    "colab": {},
    "colab_type": "code",
    "id": "A2Qz-HIjoGPJ"
   },
   "outputs": [],
   "source": [
    "import modin.pandas as pd"
   ]
  },
  {
   "cell_type": "markdown",
   "metadata": {
    "colab_type": "text",
    "id": "oFOcytiONV5M"
   },
   "source": [
    "## Audio Notification"
   ]
  },
  {
   "cell_type": "code",
   "execution_count": null,
   "metadata": {
    "colab": {},
    "colab_type": "code",
    "id": "aktwOzIG88Rh"
   },
   "outputs": [],
   "source": [
    "# Audio Notification\n",
    "# https://stackoverflow.com/a/54295274/9292995\n",
    "\n",
    "\n",
    "# Sleep for a few seconds.\n",
    "import time\n",
    "time.sleep(2)\n",
    "\n",
    "# Play an audio beep. Any audio URL will do.\n",
    "from google.colab import output\n",
    "output.eval_js('new Audio(\"https://upload.wikimedia.org/wikipedia/commons/0/05/Beep-09.ogg\").play()')"
   ]
  },
  {
   "cell_type": "code",
   "execution_count": null,
   "metadata": {
    "colab": {},
    "colab_type": "code",
    "id": "QSoTpf3qPcOS"
   },
   "outputs": [],
   "source": [
    "#really good ROCAUC plot\n",
    "\n",
    "# plt.figure()\n",
    "# lw = 2\n",
    "# plt.plot(fpr[0], tpr[0], color='darkorange',\n",
    "#          lw=lw, label='ROC curve (area = %0.2f)' % roc_auc[0])\n",
    "# plt.plot([0, 1], [0, 1], color='navy', lw=lw, linestyle='--')\n",
    "# plt.xlim([0.0, 1.0])\n",
    "# plt.ylim([0.0, 1.05])\n",
    "# plt.xlabel('False Positive Rate')\n",
    "# plt.ylabel('True Positive Rate')\n",
    "# plt.title('Receiver operating characteristic example')\n",
    "# plt.legend(loc=\"lower right\")\n",
    "# plt.show()"
   ]
  },
  {
   "cell_type": "markdown",
   "metadata": {
    "colab_type": "text",
    "id": "mzOA3WddfyRO"
   },
   "source": [
    "## Catboost"
   ]
  },
  {
   "cell_type": "code",
   "execution_count": null,
   "metadata": {
    "colab": {},
    "colab_type": "code",
    "id": "W2zyHcmxIcz9"
   },
   "outputs": [],
   "source": [
    "!pip install catboost\n"
   ]
  },
  {
   "cell_type": "code",
   "execution_count": null,
   "metadata": {
    "colab": {},
    "colab_type": "code",
    "id": "8R5-EHYCIQd8"
   },
   "outputs": [],
   "source": [
    "\n",
    "from catboost import CatBoostClassifier\n",
    "import timeit\n",
    "\n",
    "def train_on_cpu():  \n",
    "  model = CatBoostClassifier(\n",
    "    iterations=100,\n",
    "    learning_rate=0.03\n",
    "  )\n",
    "  \n",
    "  model.fit(\n",
    "      X_train, y_train,\n",
    "      eval_set=(X_test, y_test),\n",
    "      verbose=10\n",
    "  );   \n",
    "      \n",
    "cpu_time = timeit.timeit('train_on_cpu()', \n",
    "                         setup=\"from __main__ import train_on_cpu\", \n",
    "                         number=1)\n",
    "\n",
    "print('Time to fit model on CPU: {} sec'.format(int(cpu_time)))\n",
    "\n",
    "\n"
   ]
  },
  {
   "cell_type": "code",
   "execution_count": null,
   "metadata": {
    "colab": {},
    "colab_type": "code",
    "id": "fZzSU07ZIgTZ"
   },
   "outputs": [],
   "source": [
    "\n",
    "def train_on_gpu():  \n",
    "  model = CatBoostClassifier(\n",
    "    iterations = 200,\n",
    "    depth = 3,\n",
    "    learning_rate=1,\n",
    "    task_type='GPU',\n",
    "    verbose=True,\n",
    "    eval_metric='NormalizedGini',\n",
    "  )\n",
    "  \n",
    "  model.fit(\n",
    "      X_train, y_train,\n",
    "      eval_set=(X_test, y_test),\n",
    "      verbose=10,\n",
    "      plot=True\n",
    "  )     \n",
    "      \n",
    "gpu_time = timeit.timeit('train_on_gpu()', \n",
    "                         setup=\"from __main__ import train_on_gpu\", \n",
    "                         number=1)\n",
    "\n",
    "print('Time to fit model on GPU: {} sec'.format(int(gpu_time)))\n",
    "print('GPU speedup over CPU: ' + '%.2f' % (cpu_time/gpu_time) + 'x')"
   ]
  },
  {
   "cell_type": "markdown",
   "metadata": {
    "colab_type": "text",
    "id": "2qdlSxEsfqTA"
   },
   "source": [
    "# GCloud"
   ]
  },
  {
   "cell_type": "markdown",
   "metadata": {
    "colab_type": "text",
    "id": "3py55m8TgApm"
   },
   "source": [
    "## Mounting GCP bucket to a directory"
   ]
  },
  {
   "cell_type": "markdown",
   "metadata": {
    "colab_type": "text",
    "id": "3py55m8TgApm"
   },
   "source": [
    "!gcloud auth login\n",
    "!gcsfuse gs://dracarys3_databucket /home/udaylunawat/bucket"
   ]
  },
  {
   "cell_type": "markdown",
   "metadata": {
    "colab_type": "text",
    "id": "32WBhIKrgQhJ"
   },
   "source": [
    "## copying files to and from bucket"
   ]
  },
  {
   "cell_type": "markdown",
   "metadata": {
    "colab_type": "text",
    "id": "32WBhIKrgQhJ"
   },
   "source": [
    "!gsutil -m cp -R gs://dracarys3_databucket/bucket/files/. /home/udaylunawat/aa/"
   ]
  },
  {
   "cell_type": "markdown",
   "metadata": {
    "colab_type": "text",
    "id": "gPcPv2VtgvEW"
   },
   "source": [
    "# Linux Commands"
   ]
  },
  {
   "cell_type": "code",
   "execution_count": null,
   "metadata": {
    "colab": {},
    "colab_type": "code",
    "id": "mEuGh6oYf4WY"
   },
   "outputs": [],
   "source": [
    "remove file\n",
    "rm\n",
    "\n",
    "remove folder\n",
    "rm -rf\n",
    "\n",
    "copy\n",
    "cp\n",
    "\n",
    "unzip\n",
    "\n",
    "edit text usin nano and cat\n",
    "\n",
    "history\n",
    "\n",
    "wget and curl to download files from net\n",
    "\n",
    "du - directory info size"
   ]
  },
  {
   "cell_type": "markdown",
   "metadata": {},
   "source": [
    "# Tensorflow good practices"
   ]
  },
  {
   "cell_type": "code",
   "execution_count": null,
   "metadata": {},
   "outputs": [],
   "source": [
    "import os\n",
    "os.environ['PYTHONHASHSEED'] = '0'\n",
    "\n",
    "##https://keras.io/getting-started/faq/#how-can-i-obtain-reproducible-results-using-keras-during-development\n",
    "## Have to clear the session. If you are not clearing, Graph will create again and again and graph size will increses. \n",
    "## Varibles will also set to some value from before session\n",
    "tf.keras.backend.clear_session()\n",
    "\n",
    "## Set the random seed values to regenerate the model.\n",
    "np.random.seed(0)\n",
    "rn.seed(0)"
   ]
  }
 ],
 "metadata": {
  "colab": {
   "collapsed_sections": [
    "Oobg5TYINfI7"
   ],
   "name": "Helpful Functions and codes.ipynb",
   "provenance": []
  },
  "kernelspec": {
   "display_name": "Python 3",
   "language": "python",
   "name": "python3"
  },
  "language_info": {
   "codemirror_mode": {
    "name": "ipython",
    "version": 3
   },
   "file_extension": ".py",
   "mimetype": "text/x-python",
   "name": "python",
   "nbconvert_exporter": "python",
   "pygments_lexer": "ipython3",
   "version": "3.7.6"
  }
 },
 "nbformat": 4,
 "nbformat_minor": 4
}
