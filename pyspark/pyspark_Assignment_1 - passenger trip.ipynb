{
  "cells": [
    {
      "cell_type": "markdown",
      "metadata": {
        "id": "AEFNm_gGCOi_"
      },
      "source": [
        "## Setting up Kaggle and downloading data"
      ]
    },
    {
      "cell_type": "code",
      "execution_count": null,
      "metadata": {
        "id": "D4XvqMysMNXz"
      },
      "outputs": [],
      "source": [
        "!rm -rf\n",
        "!mkdir data"
      ]
    },
    {
      "cell_type": "code",
      "execution_count": null,
      "metadata": {
        "colab": {
          "base_uri": "https://localhost:8080/",
          "height": 90,
          "resources": {
            "http://localhost:8080/nbextensions/google.colab/files.js": {
              "data": "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",
              "headers": [
                [
                  "content-type",
                  "application/javascript"
                ]
              ],
              "ok": true,
              "status": 200,
              "status_text": ""
            }
          }
        },
        "id": "1Jkkx6pzPgzS",
        "outputId": "2a3e868a-3828-4b14-ed1e-3ba6791d03ab"
      },
      "outputs": [
        {
          "data": {
            "text/html": [
              "\n",
              "     <input type=\"file\" id=\"files-fa2c8b4e-5cea-4308-b6f7-7249ba91ad3a\" name=\"files[]\" multiple disabled\n",
              "        style=\"border:none\" />\n",
              "     <output id=\"result-fa2c8b4e-5cea-4308-b6f7-7249ba91ad3a\">\n",
              "      Upload widget is only available when the cell has been executed in the\n",
              "      current browser session. Please rerun this cell to enable.\n",
              "      </output>\n",
              "      <script src=\"/nbextensions/google.colab/files.js\"></script> "
            ],
            "text/plain": [
              "<IPython.core.display.HTML object>"
            ]
          },
          "metadata": {},
          "output_type": "display_data"
        },
        {
          "name": "stdout",
          "output_type": "stream",
          "text": [
            "Saving kaggle.json to kaggle.json\n",
            "User uploaded file \"kaggle.json\" with length 67 bytes\n"
          ]
        }
      ],
      "source": [
        "from google.colab import files\n",
        "\n",
        "uploaded = files.upload()\n",
        "\n",
        "for fn in uploaded.keys():\n",
        "  print('User uploaded file \"{name}\" with length {length} bytes'.format(\n",
        "      name=fn, length=len(uploaded[fn])))"
      ]
    },
    {
      "cell_type": "code",
      "execution_count": null,
      "metadata": {
        "colab": {
          "base_uri": "https://localhost:8080/"
        },
        "id": "U0YaygTiPHSc",
        "outputId": "a2b805ea-f0d4-4cf7-b34a-f1e58cb94f5f"
      },
      "outputs": [
        {
          "name": "stdout",
          "output_type": "stream",
          "text": [
            "Looking in indexes: https://pypi.org/simple, https://us-python.pkg.dev/colab-wheels/public/simple/\n",
            "Requirement already satisfied: kaggle in /usr/local/lib/python3.7/dist-packages (1.5.12)\n",
            "Requirement already satisfied: six>=1.10 in /usr/local/lib/python3.7/dist-packages (from kaggle) (1.15.0)\n",
            "Requirement already satisfied: urllib3 in /usr/local/lib/python3.7/dist-packages (from kaggle) (1.24.3)\n",
            "Requirement already satisfied: python-slugify in /usr/local/lib/python3.7/dist-packages (from kaggle) (6.1.2)\n",
            "Requirement already satisfied: requests in /usr/local/lib/python3.7/dist-packages (from kaggle) (2.23.0)\n",
            "Requirement already satisfied: certifi in /usr/local/lib/python3.7/dist-packages (from kaggle) (2022.6.15)\n",
            "Requirement already satisfied: tqdm in /usr/local/lib/python3.7/dist-packages (from kaggle) (4.64.0)\n",
            "Requirement already satisfied: python-dateutil in /usr/local/lib/python3.7/dist-packages (from kaggle) (2.8.2)\n",
            "Requirement already satisfied: text-unidecode>=1.3 in /usr/local/lib/python3.7/dist-packages (from python-slugify->kaggle) (1.3)\n",
            "Requirement already satisfied: chardet<4,>=3.0.2 in /usr/local/lib/python3.7/dist-packages (from requests->kaggle) (3.0.4)\n",
            "Requirement already satisfied: idna<3,>=2.5 in /usr/local/lib/python3.7/dist-packages (from requests->kaggle) (2.10)\n"
          ]
        }
      ],
      "source": [
        "%pip install kaggle"
      ]
    },
    {
      "cell_type": "code",
      "execution_count": null,
      "metadata": {
        "colab": {
          "base_uri": "https://localhost:8080/"
        },
        "id": "RVHSNdv-PJ5Y",
        "outputId": "82050314-eb1c-49a7-f472-a8723e243196"
      },
      "outputs": [
        {
          "name": "stdout",
          "output_type": "stream",
          "text": [
            "Downloading 99littleorange.zip to data\n",
            "\n"
          ]
        },
        {
          "name": "stderr",
          "output_type": "stream",
          "text": [
            "\r  0%|          | 0.00/87.7M [00:00<?, ?B/s]\r  6%|▌         | 5.00M/87.7M [00:00<00:02, 38.3MB/s]\r 23%|██▎       | 20.0M/87.7M [00:00<00:00, 97.7MB/s]\r 35%|███▌      | 31.0M/87.7M [00:00<00:00, 67.2MB/s]\r 56%|█████▌    | 49.0M/87.7M [00:00<00:00, 99.8MB/s]\r 70%|██████▉   | 61.0M/87.7M [00:01<00:00, 54.3MB/s]\r 93%|█████████▎| 82.0M/87.7M [00:01<00:00, 82.0MB/s]\r100%|██████████| 87.7M/87.7M [00:01<00:00, 80.3MB/s]\n"
          ]
        }
      ],
      "source": [
        "%%bash\n",
        "mkdir -p ~/.kaggle\n",
        "mv kaggle.json ~/.kaggle\n",
        "chmod 600 /root/.kaggle/kaggle.json\n",
        "kaggle datasets download ivanchvez/99littleorange --path data/\n",
        "unzip -q data/99littleorange.zip -d data/"
      ]
    },
    {
      "cell_type": "markdown",
      "metadata": {
        "id": "NG0xL40uDXk9"
      },
      "source": [
        "## Pyspark setup"
      ]
    },
    {
      "cell_type": "code",
      "execution_count": null,
      "metadata": {
        "colab": {
          "base_uri": "https://localhost:8080/"
        },
        "id": "y1-G5-cBEgax",
        "outputId": "ae270bf6-dd54-46f7-c190-6514241a38a4"
      },
      "outputs": [
        {
          "name": "stdout",
          "output_type": "stream",
          "text": [
            "--2022-08-24 18:20:44--  https://dlcdn.apache.org/spark/spark-3.3.0/spark-3.3.0-bin-hadoop3.tgz\n",
            "Resolving dlcdn.apache.org (dlcdn.apache.org)... 151.101.2.132, 2a04:4e42::644\n",
            "Connecting to dlcdn.apache.org (dlcdn.apache.org)|151.101.2.132|:443... connected.\n",
            "HTTP request sent, awaiting response... 200 OK\n",
            "Length: 299321244 (285M) [application/x-gzip]\n",
            "Saving to: ‘spark-3.3.0-bin-hadoop3.tgz’\n",
            "\n",
            "spark-3.3.0-bin-had 100%[===================>] 285.45M   197MB/s    in 1.4s    \n",
            "\n",
            "2022-08-24 18:20:45 (197 MB/s) - ‘spark-3.3.0-bin-hadoop3.tgz’ saved [299321244/299321244]\n",
            "\n",
            "\u001b[K     |████████████████████████████████| 281.3 MB 50 kB/s \n",
            "\u001b[K     |████████████████████████████████| 199 kB 47.8 MB/s \n",
            "\u001b[?25h  Building wheel for pyspark (setup.py) ... \u001b[?25l\u001b[?25hdone\n"
          ]
        }
      ],
      "source": [
        "# innstall java\n",
        "!apt-get install openjdk-8-jdk-headless -qq > /dev/null\n",
        "\n",
        "# install spark (change the version number if needed)\n",
        "!wget https://dlcdn.apache.org/spark/spark-3.3.0/spark-3.3.0-bin-hadoop3.tgz\n",
        "\n",
        "# unzip the spark file to the current folder\n",
        "!tar xf spark-3.3.0-bin-hadoop3.tgz\n",
        "\n",
        "# set your spark folder to your system path environment. \n",
        "import os\n",
        "os.environ[\"JAVA_HOME\"] = \"/usr/lib/jvm/java-8-openjdk-amd64\"\n",
        "os.environ[\"SPARK_HOME\"] = \"/content/spark-3.3.0-bin-hadoop3\"\n",
        "\n",
        "# install findspark and pyspark using pip\n",
        "%pip install -q findspark pyspark"
      ]
    },
    {
      "cell_type": "code",
      "execution_count": null,
      "metadata": {
        "colab": {
          "base_uri": "https://localhost:8080/",
          "height": 37
        },
        "id": "SbnnydiGD6PR",
        "outputId": "46e42191-9d5a-4e10-84f1-57c547b5601c"
      },
      "outputs": [
        {
          "data": {
            "application/vnd.google.colaboratory.intrinsic+json": {
              "type": "string"
            },
            "text/plain": [
              "'/content/spark-3.3.0-bin-hadoop3'"
            ]
          },
          "execution_count": 6,
          "metadata": {},
          "output_type": "execute_result"
        }
      ],
      "source": [
        "# We need to locate Spark in the system. For that, we import findspark and use the findspark.init() method.\n",
        "\n",
        "import findspark\n",
        "findspark.init()\n",
        "# Bonus – If you want to know the location where Spark is installed, use findspark.find()\n",
        "findspark.find()"
      ]
    },
    {
      "cell_type": "code",
      "execution_count": null,
      "metadata": {
        "colab": {
          "base_uri": "https://localhost:8080/",
          "height": 216
        },
        "id": "athp-FErEFap",
        "outputId": "a07ec4c9-b60d-476d-8e5f-cc4d11288eef"
      },
      "outputs": [
        {
          "data": {
            "text/html": [
              "\n",
              "            <div>\n",
              "                <p><b>SparkSession - in-memory</b></p>\n",
              "                \n",
              "        <div>\n",
              "            <p><b>SparkContext</b></p>\n",
              "\n",
              "            <p><a href=\"http://4bccfc420fd6:4050\">Spark UI</a></p>\n",
              "\n",
              "            <dl>\n",
              "              <dt>Version</dt>\n",
              "                <dd><code>v3.3.0</code></dd>\n",
              "              <dt>Master</dt>\n",
              "                <dd><code>local</code></dd>\n",
              "              <dt>AppName</dt>\n",
              "                <dd><code>Colab</code></dd>\n",
              "            </dl>\n",
              "        </div>\n",
              "        \n",
              "            </div>\n",
              "        "
            ],
            "text/plain": [
              "<pyspark.sql.session.SparkSession at 0x7f7cca277890>"
            ]
          },
          "execution_count": 7,
          "metadata": {},
          "output_type": "execute_result"
        }
      ],
      "source": [
        "# Now, we can import SparkSession from pyspark.sql and create a SparkSession, \n",
        "# which is the entry point to Spark.\n",
        "\n",
        "# You can give a name to the session using appName() and add some configurations with config() if you wish.\n",
        "\n",
        "import pyspark\n",
        "import pyspark.sql.functions as F\n",
        "from pyspark.sql import SparkSession\n",
        "\n",
        "spark = SparkSession.builder\\\n",
        "        .master(\"local\")\\\n",
        "        .appName(\"Colab\")\\\n",
        "        .config('spark.ui.port', '4050')\\\n",
        "        .getOrCreate()\n",
        "# Finally, print the SparkSession variable.\n",
        "spark"
      ]
    },
    {
      "cell_type": "markdown",
      "metadata": {
        "id": "SFLl8J-vS2FM"
      },
      "source": [
        "## 1.1 Data Preparation and Loading (5%)"
      ]
    },
    {
      "cell_type": "code",
      "execution_count": null,
      "metadata": {
        "colab": {
          "base_uri": "https://localhost:8080/"
        },
        "id": "Ab_0mA33PzBp",
        "outputId": "96489b76-b86d-438f-fdd1-4d2be298bf73"
      },
      "outputs": [
        {
          "name": "stdout",
          "output_type": "stream",
          "text": [
            "root\n",
            " |-- id: string (nullable = true)\n",
            " |-- driver_id: string (nullable = true)\n",
            " |-- passenger_id: string (nullable = true)\n",
            " |-- city_id: string (nullable = true)\n",
            " |-- call_time: string (nullable = true)\n",
            " |-- finish_time: string (nullable = true)\n",
            " |-- surge_rate: string (nullable = true)\n",
            " |-- trip_distance: string (nullable = true)\n",
            " |-- trip_fare: string (nullable = true)\n",
            "\n",
            "+--------+---------+------------+-------+--------------------+--------------------+----------+-------------+---------+\n",
            "|      id|driver_id|passenger_id|city_id|           call_time|         finish_time|surge_rate|trip_distance|trip_fare|\n",
            "+--------+---------+------------+-------+--------------------+--------------------+----------+-------------+---------+\n",
            "|a84c0db2| cb64172e|    2ea4359d|  43006|9/8/2019 10:01:28 PM|9/8/2019 10:15:54 PM|       0.3|         1.92|     4.36|\n",
            "|a84c2d10| 3034e6fe|    e1bd0c8d|  43006| 7/1/2019 8:56:28 PM| 7/1/2019 9:22:09 PM|         0|         9.36|     6.91|\n",
            "|a84c3e75| 93fb6802|    75e6d450|  43050|8/20/2019 9:30:46 PM|8/20/2019 9:46:48 PM|         0|         4.39|     3.48|\n",
            "|a84c3f6f| 25fc9273|    5ba48e89|  43020| 9/8/2019 2:42:41 AM| 9/8/2019 2:59:56 AM|         0|         2.04|     1.54|\n",
            "|a84c5ce2| 484c4d0c|    fdb2ef59|  43006|6/10/2019 9:29:18 AM|6/10/2019 9:55:36 AM|         0|         7.37|     5.83|\n",
            "|a84c7980| 4ae02c4b|    f9cbc467|  43179|8/26/2019 10:20:3...|8/26/2019 10:33:3...|         0|         2.14|     3.31|\n",
            "|a84ca16d| c4b85240|    8030fcc0|  43050|6/21/2019 8:27:10 PM|6/21/2019 8:37:05 PM|         0|         2.05|     1.28|\n",
            "|a84cc24a| 0fe2603a|    32f96337|  43278| 8/3/2019 9:30:58 AM| 8/3/2019 9:55:58 AM|         0|         6.89|     5.55|\n",
            "|a84cd4a7| fdb18901|    93be5cbe|  43116|5/18/2019 6:39:19 PM|5/18/2019 7:12:48 PM|         0|         9.05|        4|\n",
            "|a84cd524| a9788733|    08ca0600|  43179|7/14/2019 6:13:04 AM|7/14/2019 6:47:53 AM|         0|        11.73|     9.47|\n",
            "+--------+---------+------------+-------+--------------------+--------------------+----------+-------------+---------+\n",
            "only showing top 10 rows\n",
            "\n"
          ]
        },
        {
          "data": {
            "text/plain": [
              "(2318357, 9)"
            ]
          },
          "execution_count": 8,
          "metadata": {},
          "output_type": "execute_result"
        }
      ],
      "source": [
        "trip_df = spark.read.csv(\"data/trip.csv\", header=True)\n",
        "trip_df.printSchema()\n",
        "trip_df.show(10)\n",
        "trip_df.count(), len(trip_df.columns)"
      ]
    },
    {
      "cell_type": "code",
      "execution_count": null,
      "metadata": {
        "colab": {
          "base_uri": "https://localhost:8080/"
        },
        "id": "aMJSoyk-M06y",
        "outputId": "5fdc1c14-ab00-41f9-d9a7-78a6bfd17431"
      },
      "outputs": [
        {
          "name": "stdout",
          "output_type": "stream",
          "text": [
            "root\n",
            " |-- id: string (nullable = true)\n",
            " |-- first_call_time: string (nullable = true)\n",
            "\n",
            "+--------+--------------------+\n",
            "|      id|     first_call_time|\n",
            "+--------+--------------------+\n",
            "|00000fab|5/11/2019 8:23:54 PM|\n",
            "|0000149d|12/24/2018 9:21:3...|\n",
            "|00002b66|9/20/2018 9:08:24 PM|\n",
            "|00002bc7|7/28/2019 11:27:5...|\n",
            "|0000332e|2/21/2019 11:34:2...|\n",
            "+--------+--------------------+\n",
            "only showing top 5 rows\n",
            "\n"
          ]
        },
        {
          "data": {
            "text/plain": [
              "(1235782, 2)"
            ]
          },
          "execution_count": 9,
          "metadata": {},
          "output_type": "execute_result"
        }
      ],
      "source": [
        "passenger_df = spark.read.csv(\"data/passenger.csv\", header=True)\n",
        "passenger_df.printSchema()\n",
        "passenger_df.show(5)\n",
        "passenger_df.count(), len(passenger_df.columns)"
      ]
    },
    {
      "cell_type": "markdown",
      "metadata": {
        "id": "gE9xO5WRrinC"
      },
      "source": [
        "## 1.2 Data Partitioning in RDD (10%)"
      ]
    },
    {
      "cell_type": "code",
      "execution_count": null,
      "metadata": {
        "colab": {
          "base_uri": "https://localhost:8080/"
        },
        "id": "Q51lNyqkSpU1",
        "outputId": "c017ec98-6ab2-4433-f9e4-b5138494d902"
      },
      "outputs": [
        {
          "data": {
            "text/plain": [
              "1"
            ]
          },
          "execution_count": 10,
          "metadata": {},
          "output_type": "execute_result"
        }
      ],
      "source": [
        "passenger_df.rdd.getNumPartitions()"
      ]
    },
    {
      "cell_type": "code",
      "execution_count": null,
      "metadata": {
        "colab": {
          "base_uri": "https://localhost:8080/"
        },
        "id": "I-bOJw_7TLFR",
        "outputId": "145822a4-a267-4870-a4ed-1117a86fca05"
      },
      "outputs": [
        {
          "data": {
            "text/plain": [
              "2"
            ]
          },
          "execution_count": 11,
          "metadata": {},
          "output_type": "execute_result"
        }
      ],
      "source": [
        "trip_df.rdd.getNumPartitions()"
      ]
    },
    {
      "cell_type": "markdown",
      "metadata": {
        "id": "hhXb1x6RU32Y"
      },
      "source": [
        "By default, Spark/PySpark creates partitions that are equal to the number of CPU cores in the machine.\n",
        "\n",
        "https://sparkbyexamples.com/spark/spark-partitioning-understanding/"
      ]
    },
    {
      "cell_type": "code",
      "execution_count": null,
      "metadata": {
        "colab": {
          "base_uri": "https://localhost:8080/"
        },
        "id": "dycMb-jnTwhN",
        "outputId": "a8f24515-3945-4b6d-85a8-8ee8c40f3e68"
      },
      "outputs": [
        {
          "name": "stdout",
          "output_type": "stream",
          "text": [
            "Architecture:        x86_64\n",
            "CPU op-mode(s):      32-bit, 64-bit\n",
            "Byte Order:          Little Endian\n",
            "CPU(s):              2\n",
            "On-line CPU(s) list: 0,1\n",
            "Thread(s) per core:  2\n",
            "Core(s) per socket:  1\n",
            "Socket(s):           1\n",
            "NUMA node(s):        1\n",
            "Vendor ID:           GenuineIntel\n",
            "CPU family:          6\n",
            "Model:               79\n",
            "Model name:          Intel(R) Xeon(R) CPU @ 2.20GHz\n",
            "Stepping:            0\n",
            "CPU MHz:             2199.998\n",
            "BogoMIPS:            4399.99\n",
            "Hypervisor vendor:   KVM\n",
            "Virtualization type: full\n",
            "L1d cache:           32K\n",
            "L1i cache:           32K\n",
            "L2 cache:            256K\n",
            "L3 cache:            56320K\n",
            "NUMA node0 CPU(s):   0,1\n",
            "Flags:               fpu vme de pse tsc msr pae mce cx8 apic sep mtrr pge mca cmov pat pse36 clflush mmx fxsr sse sse2 ss ht syscall nx pdpe1gb rdtscp lm constant_tsc rep_good nopl xtopology nonstop_tsc cpuid tsc_known_freq pni pclmulqdq ssse3 fma cx16 pcid sse4_1 sse4_2 x2apic movbe popcnt aes xsave avx f16c rdrand hypervisor lahf_lm abm 3dnowprefetch invpcid_single ssbd ibrs ibpb stibp fsgsbase tsc_adjust bmi1 hle avx2 smep bmi2 erms invpcid rtm rdseed adx smap xsaveopt arat md_clear arch_capabilities\n"
          ]
        }
      ],
      "source": [
        "!lscpu"
      ]
    },
    {
      "cell_type": "code",
      "execution_count": null,
      "metadata": {
        "colab": {
          "base_uri": "https://localhost:8080/"
        },
        "id": "HsLJe6jzWhZo",
        "outputId": "080cb0c4-8b04-443d-fba1-5d5927b9f71e"
      },
      "outputs": [
        {
          "name": "stdout",
          "output_type": "stream",
          "text": [
            "+--------+--------------------+\n",
            "|      id|     first_call_time|\n",
            "+--------+--------------------+\n",
            "|00000fab|5/11/2019 8:23:54 PM|\n",
            "|00002bc7|7/28/2019 11:27:5...|\n",
            "|0000332e|2/21/2019 11:34:2...|\n",
            "|000048aa| 8/2/2019 8:01:07 AM|\n",
            "|0000497f|7/11/2019 3:39:47 AM|\n",
            "+--------+--------------------+\n",
            "only showing top 5 rows\n",
            "\n"
          ]
        }
      ],
      "source": [
        "from pyspark.sql.functions import col\n",
        "passenger_df.filter(col(\"first_call_time\").contains(\"2019\")).show(5)"
      ]
    },
    {
      "cell_type": "code",
      "execution_count": null,
      "metadata": {
        "id": "9y3Ii2JGW3Mp"
      },
      "outputs": [],
      "source": [
        "pdf_2019 = passenger_df.withColumn(\n",
        "    \"flag\", \n",
        "     F.when(F.col(\"first_call_time\").contains(\"2019\"), F.lit(\"In 2019\")).otherwise(\n",
        "        F.lit(\"Not In 2019\"))\n",
        " )"
      ]
    },
    {
      "cell_type": "code",
      "execution_count": null,
      "metadata": {
        "id": "9DOsGoHMmMrX"
      },
      "outputs": [],
      "source": [
        "pdf2019rdd = pdf_2019.rdd"
      ]
    },
    {
      "cell_type": "code",
      "execution_count": null,
      "metadata": {
        "id": "KbizLAMQj9SU"
      },
      "outputs": [],
      "source": [
        "pairrdd = pdf2019rdd.map(lambda x: {x.flag:x.id})"
      ]
    },
    {
      "cell_type": "code",
      "execution_count": null,
      "metadata": {
        "colab": {
          "base_uri": "https://localhost:8080/"
        },
        "id": "_MFWwinJjdWc",
        "outputId": "7c127ea8-0054-4c7c-b024-32d9d1728575"
      },
      "outputs": [
        {
          "data": {
            "text/plain": [
              "[{'In 2019': '00000fab'},\n",
              " {'Not In 2019': '0000149d'},\n",
              " {'Not In 2019': '00002b66'},\n",
              " {'In 2019': '00002bc7'},\n",
              " {'In 2019': '0000332e'}]"
            ]
          },
          "execution_count": 17,
          "metadata": {},
          "output_type": "execute_result"
        }
      ],
      "source": [
        "pairrdd.collect()[:5]"
      ]
    },
    {
      "cell_type": "code",
      "execution_count": null,
      "metadata": {
        "colab": {
          "base_uri": "https://localhost:8080/"
        },
        "id": "E_fK7QRznq5c",
        "outputId": "ba81d613-5dd6-451f-8f67-125fc1f0ee11"
      },
      "outputs": [
        {
          "data": {
            "text/plain": [
              "pyspark.rdd.PipelinedRDD"
            ]
          },
          "execution_count": 18,
          "metadata": {},
          "output_type": "execute_result"
        }
      ],
      "source": [
        "type(pairrdd)"
      ]
    },
    {
      "cell_type": "code",
      "execution_count": null,
      "metadata": {
        "id": "jfloGrkQocXA"
      },
      "outputs": [],
      "source": [
        "pdf_2019.write.option(\"header\", True) \\\n",
        "        .partitionBy('flag') \\\n",
        "        .mode(\"overwrite\") \\\n",
        "        .csv(\"2019\")"
      ]
    },
    {
      "cell_type": "code",
      "execution_count": null,
      "metadata": {
        "colab": {
          "base_uri": "https://localhost:8080/"
        },
        "id": "oADX5cu1payW",
        "outputId": "1e277566-d146-42ba-c0ed-9648f4abc7f5"
      },
      "outputs": [
        {
          "name": "stdout",
          "output_type": "stream",
          "text": [
            "'flag=In 2019'\t'flag=Not In 2019'   _SUCCESS\n"
          ]
        }
      ],
      "source": [
        "!ls 2019"
      ]
    },
    {
      "cell_type": "code",
      "execution_count": null,
      "metadata": {
        "colab": {
          "base_uri": "https://localhost:8080/"
        },
        "id": "gBK4C5BLqnjQ",
        "outputId": "f155faf0-a007-4a91-ab4c-de91c4c73b92"
      },
      "outputs": [
        {
          "name": "stdout",
          "output_type": "stream",
          "text": [
            "part-00000-d8de2102-8728-4cb9-8665-9dfd82bcfce6.c000.csv\n"
          ]
        }
      ],
      "source": [
        "!ls 2019/flag=In\\ 2019"
      ]
    },
    {
      "cell_type": "code",
      "execution_count": null,
      "metadata": {
        "colab": {
          "base_uri": "https://localhost:8080/"
        },
        "id": "zc8cKtbtqEoX",
        "outputId": "9c6711b1-3686-49f5-f0ad-2a7b7c38cf97"
      },
      "outputs": [
        {
          "name": "stdout",
          "output_type": "stream",
          "text": [
            "+----+-------+\n",
            "|flag|  count|\n",
            "+----+-------+\n",
            "|   0|1235782|\n",
            "+----+-------+\n",
            "\n"
          ]
        }
      ],
      "source": [
        "from pyspark.sql.functions  import spark_partition_id\n",
        "pdf_2019.withColumn(\"flag\", spark_partition_id()).groupBy(\"flag\").count().show()"
      ]
    },
    {
      "cell_type": "markdown",
      "metadata": {
        "id": "uC_GZMpRrR9-"
      },
      "source": [
        "## 1.3 Query/Analysis (15%)"
      ]
    },
    {
      "cell_type": "code",
      "execution_count": null,
      "metadata": {
        "colab": {
          "base_uri": "https://localhost:8080/"
        },
        "id": "FyVhydP6qhxi",
        "outputId": "b593c0c3-88ee-4285-a054-65dcb5880a69"
      },
      "outputs": [
        {
          "name": "stdout",
          "output_type": "stream",
          "text": [
            "+--------+---------+------------+-------+--------------------+--------------------+----------+-------------+---------+\n",
            "|      id|driver_id|passenger_id|city_id|           call_time|         finish_time|surge_rate|trip_distance|trip_fare|\n",
            "+--------+---------+------------+-------+--------------------+--------------------+----------+-------------+---------+\n",
            "|a84c0db2| cb64172e|    2ea4359d|  43006|9/8/2019 10:01:28 PM|9/8/2019 10:15:54 PM|       0.3|         1.92|     4.36|\n",
            "|a84c2d10| 3034e6fe|    e1bd0c8d|  43006| 7/1/2019 8:56:28 PM| 7/1/2019 9:22:09 PM|         0|         9.36|     6.91|\n",
            "|a84c3e75| 93fb6802|    75e6d450|  43050|8/20/2019 9:30:46 PM|8/20/2019 9:46:48 PM|         0|         4.39|     3.48|\n",
            "|a84c3f6f| 25fc9273|    5ba48e89|  43020| 9/8/2019 2:42:41 AM| 9/8/2019 2:59:56 AM|         0|         2.04|     1.54|\n",
            "|a84c5ce2| 484c4d0c|    fdb2ef59|  43006|6/10/2019 9:29:18 AM|6/10/2019 9:55:36 AM|         0|         7.37|     5.83|\n",
            "|a84c7980| 4ae02c4b|    f9cbc467|  43179|8/26/2019 10:20:3...|8/26/2019 10:33:3...|         0|         2.14|     3.31|\n",
            "|a84ca16d| c4b85240|    8030fcc0|  43050|6/21/2019 8:27:10 PM|6/21/2019 8:37:05 PM|         0|         2.05|     1.28|\n",
            "|a84cc24a| 0fe2603a|    32f96337|  43278| 8/3/2019 9:30:58 AM| 8/3/2019 9:55:58 AM|         0|         6.89|     5.55|\n",
            "|a84cd4a7| fdb18901|    93be5cbe|  43116|5/18/2019 6:39:19 PM|5/18/2019 7:12:48 PM|         0|         9.05|        4|\n",
            "|a84cd524| a9788733|    08ca0600|  43179|7/14/2019 6:13:04 AM|7/14/2019 6:47:53 AM|         0|        11.73|     9.47|\n",
            "|a84ce309| e963f1dc|    3f0ee90c|  43179| 7/1/2019 7:41:33 AM| 7/1/2019 8:00:28 AM|         0|         4.96|     1.92|\n",
            "|a84ceb22| 8f928bfa|    d0bfc738|  43006|6/30/2019 3:09:18 AM|6/30/2019 3:23:40 AM|         0|         4.89|     5.33|\n",
            "|a84d1229| a1ed4df4|    15ea3984|  43050|9/19/2019 9:02:23 PM|9/19/2019 9:18:36 PM|         0|         3.53|     5.09|\n",
            "|a84d12f9| 6e04ec35|    4871a6f6|  43116|8/25/2019 10:19:3...|8/25/2019 10:32:1...|         0|         5.48|     2.34|\n",
            "|a84d2109| effcb648|    2a87a9d3|  43278|5/16/2019 7:29:44 PM|5/16/2019 7:44:08 PM|         0|         3.47|     3.86|\n",
            "|a84d23c2| fd9a3aae|    7f9a1c11|  43116|7/15/2019 8:30:30 AM|7/15/2019 8:56:46 AM|      -0.1|         null|    12.17|\n",
            "|a84d27ba| 3c48ac2b|    b71c48b4|  43116| 5/9/2019 6:08:15 AM| 5/9/2019 6:25:05 AM|       0.2|         4.55|     4.12|\n",
            "|a84d29a0| 69be8872|    f37281fe|  43006|8/11/2019 9:49:49 PM|8/11/2019 10:32:2...|         0|        28.14|     9.76|\n",
            "|a84d31ee| 4f12d410|    b152587c|  43006|7/7/2019 11:53:51 PM|7/8/2019 12:12:26 AM|         0|         9.32|     5.14|\n",
            "|a84d5345| 6ce4136c|    8bfa5340|  43179|9/22/2019 8:40:02 AM|9/22/2019 8:50:16 AM|       0.4|         1.97|     3.84|\n",
            "+--------+---------+------------+-------+--------------------+--------------------+----------+-------------+---------+\n",
            "only showing top 20 rows\n",
            "\n"
          ]
        }
      ],
      "source": [
        "trip_df.show()"
      ]
    },
    {
      "cell_type": "code",
      "execution_count": null,
      "metadata": {
        "colab": {
          "base_uri": "https://localhost:8080/"
        },
        "id": "N4JmCatdrmCz",
        "outputId": "22efac68-126b-495a-dc20-d2076c396a11"
      },
      "outputs": [
        {
          "name": "stdout",
          "output_type": "stream",
          "text": [
            "+-------+---------+------------+-------+---------+-----------+----------+-------------+---------+\n",
            "|     id|driver_id|passenger_id|city_id|call_time|finish_time|surge_rate|trip_distance|trip_fare|\n",
            "+-------+---------+------------+-------+---------+-----------+----------+-------------+---------+\n",
            "|2318357|  2318357|     2318357|2318357|  2318357|    2318357|   2318351|      2295118|  2318357|\n",
            "+-------+---------+------------+-------+---------+-----------+----------+-------------+---------+\n",
            "\n"
          ]
        }
      ],
      "source": [
        "#Count of non-null for all columns\n",
        "from pyspark.sql.functions import col, when, count\n",
        "trip_df.select([count(when(col(c).isNotNull() , c)).alias(c) for c in trip_df.columns]\n",
        "   ).show()"
      ]
    },
    {
      "cell_type": "code",
      "execution_count": null,
      "metadata": {
        "colab": {
          "base_uri": "https://localhost:8080/"
        },
        "id": "SBkORPa0sCcl",
        "outputId": "e35883fa-93b4-48c7-eb6a-42d7a2889904"
      },
      "outputs": [
        {
          "name": "stdout",
          "output_type": "stream",
          "text": [
            "+---+---------+------------+-------+---------+-----------+----------+-------------+---------+\n",
            "| id|driver_id|passenger_id|city_id|call_time|finish_time|surge_rate|trip_distance|trip_fare|\n",
            "+---+---------+------------+-------+---------+-----------+----------+-------------+---------+\n",
            "|  0|        0|           0|      0|        0|          0|         6|        23239|        0|\n",
            "+---+---------+------------+-------+---------+-----------+----------+-------------+---------+\n",
            "\n"
          ]
        }
      ],
      "source": [
        "#Count of null for all columns\n",
        "from pyspark.sql.functions import col, when, count\n",
        "trip_df.select([count(when(col(c).isNull() , c)).alias(c) for c in trip_df.columns]\n",
        "   ).show()"
      ]
    },
    {
      "cell_type": "markdown",
      "metadata": {
        "id": "7OzjSqbntH0U"
      },
      "source": [
        "https://sparkbyexamples.com/pyspark/pyspark-count-of-non-null-nan-values-in-dataframe/"
      ]
    },
    {
      "cell_type": "code",
      "execution_count": null,
      "metadata": {
        "colab": {
          "base_uri": "https://localhost:8080/"
        },
        "id": "Eq-nyA8BsR6P",
        "outputId": "9adf84b6-a608-4d9d-949b-2cdd5f9aab97"
      },
      "outputs": [
        {
          "name": "stdout",
          "output_type": "stream",
          "text": [
            "2295118\n"
          ]
        }
      ],
      "source": [
        "import numpy as np\n",
        "from pyspark.sql.functions import isnan\n",
        "print(trip_df.filter(~trip_df.trip_distance.contains('None') & \\\n",
        "                ~trip_df.trip_distance.contains('NULL') & \\\n",
        "                ~isnan(trip_df.trip_distance) & \\\n",
        "                ~trip_df.trip_distance.isNull()\n",
        "            ).count())"
      ]
    },
    {
      "cell_type": "code",
      "execution_count": null,
      "metadata": {
        "id": "L--wpp8usttH"
      },
      "outputs": [],
      "source": [
        "import numpy as np\n",
        "from pyspark.sql.functions import isnan\n",
        "trip_df_filtered = trip_df.filter(~trip_df.trip_distance.contains('None') & \\\n",
        "                ~trip_df.trip_distance.contains('NULL') & \\\n",
        "                ~isnan(trip_df.trip_distance) & \\\n",
        "                ~trip_df.trip_distance.isNull()\n",
        "            )"
      ]
    },
    {
      "cell_type": "code",
      "execution_count": null,
      "metadata": {
        "colab": {
          "base_uri": "https://localhost:8080/"
        },
        "id": "s3Yzx7BLs8CI",
        "outputId": "53fb824f-fdb5-4540-ffb9-5408e079e495"
      },
      "outputs": [
        {
          "name": "stdout",
          "output_type": "stream",
          "text": [
            "+--------+---------+------------+-------+---------------------+---------------------+----------+-------------+---------+\n",
            "|id      |driver_id|passenger_id|city_id|call_time            |finish_time          |surge_rate|trip_distance|trip_fare|\n",
            "+--------+---------+------------+-------+---------------------+---------------------+----------+-------------+---------+\n",
            "|a84c0db2|cb64172e |2ea4359d    |43006  |9/8/2019 10:01:28 PM |9/8/2019 10:15:54 PM |0.3       |1.92         |4.36     |\n",
            "|a84c2d10|3034e6fe |e1bd0c8d    |43006  |7/1/2019 8:56:28 PM  |7/1/2019 9:22:09 PM  |0         |9.36         |6.91     |\n",
            "|a84c3e75|93fb6802 |75e6d450    |43050  |8/20/2019 9:30:46 PM |8/20/2019 9:46:48 PM |0         |4.39         |3.48     |\n",
            "|a84c3f6f|25fc9273 |5ba48e89    |43020  |9/8/2019 2:42:41 AM  |9/8/2019 2:59:56 AM  |0         |2.04         |1.54     |\n",
            "|a84c5ce2|484c4d0c |fdb2ef59    |43006  |6/10/2019 9:29:18 AM |6/10/2019 9:55:36 AM |0         |7.37         |5.83     |\n",
            "|a84c7980|4ae02c4b |f9cbc467    |43179  |8/26/2019 10:20:32 AM|8/26/2019 10:33:36 AM|0         |2.14         |3.31     |\n",
            "|a84ca16d|c4b85240 |8030fcc0    |43050  |6/21/2019 8:27:10 PM |6/21/2019 8:37:05 PM |0         |2.05         |1.28     |\n",
            "|a84cc24a|0fe2603a |32f96337    |43278  |8/3/2019 9:30:58 AM  |8/3/2019 9:55:58 AM  |0         |6.89         |5.55     |\n",
            "|a84cd4a7|fdb18901 |93be5cbe    |43116  |5/18/2019 6:39:19 PM |5/18/2019 7:12:48 PM |0         |9.05         |4        |\n",
            "|a84cd524|a9788733 |08ca0600    |43179  |7/14/2019 6:13:04 AM |7/14/2019 6:47:53 AM |0         |11.73        |9.47     |\n",
            "|a84ce309|e963f1dc |3f0ee90c    |43179  |7/1/2019 7:41:33 AM  |7/1/2019 8:00:28 AM  |0         |4.96         |1.92     |\n",
            "|a84ceb22|8f928bfa |d0bfc738    |43006  |6/30/2019 3:09:18 AM |6/30/2019 3:23:40 AM |0         |4.89         |5.33     |\n",
            "|a84d1229|a1ed4df4 |15ea3984    |43050  |9/19/2019 9:02:23 PM |9/19/2019 9:18:36 PM |0         |3.53         |5.09     |\n",
            "|a84d12f9|6e04ec35 |4871a6f6    |43116  |8/25/2019 10:19:33 PM|8/25/2019 10:32:19 PM|0         |5.48         |2.34     |\n",
            "|a84d2109|effcb648 |2a87a9d3    |43278  |5/16/2019 7:29:44 PM |5/16/2019 7:44:08 PM |0         |3.47         |3.86     |\n",
            "|a84d27ba|3c48ac2b |b71c48b4    |43116  |5/9/2019 6:08:15 AM  |5/9/2019 6:25:05 AM  |0.2       |4.55         |4.12     |\n",
            "|a84d29a0|69be8872 |f37281fe    |43006  |8/11/2019 9:49:49 PM |8/11/2019 10:32:20 PM|0         |28.14        |9.76     |\n",
            "|a84d31ee|4f12d410 |b152587c    |43006  |7/7/2019 11:53:51 PM |7/8/2019 12:12:26 AM |0         |9.32         |5.14     |\n",
            "|a84d5345|6ce4136c |8bfa5340    |43179  |9/22/2019 8:40:02 AM |9/22/2019 8:50:16 AM |0.4       |1.97         |3.84     |\n",
            "|a84d6dbd|f988ef06 |20049da8    |43050  |6/10/2019 7:35:52 AM |6/10/2019 8:17:08 AM |0.5       |6.93         |8.79     |\n",
            "+--------+---------+------------+-------+---------------------+---------------------+----------+-------------+---------+\n",
            "only showing top 20 rows\n",
            "\n"
          ]
        }
      ],
      "source": [
        "trip_df_filtered.show(truncate=False)"
      ]
    },
    {
      "cell_type": "markdown",
      "metadata": {
        "id": "mLD17dCltmFx"
      },
      "source": [
        "https://sparkbyexamples.com/pyspark/pyspark-groupby-explained-with-example/\n",
        "\n",
        "https://sparkbyexamples.com/pyspark/pyspark-convert-string-type-to-double-type-float-type/"
      ]
    },
    {
      "cell_type": "code",
      "execution_count": null,
      "metadata": {
        "id": "I-xM-rX2twXo"
      },
      "outputs": [],
      "source": [
        "trip_df_filtered = trip_df_filtered.withColumn(\"surge_rate\",trip_df_filtered.surge_rate.cast('double'))\n",
        "trip_df_filtered.groupBy(\"city_id\").avg(\"surge_rate\").show(truncate=False)"
      ]
    },
    {
      "cell_type": "code",
      "execution_count": null,
      "metadata": {
        "id": "fCeSwMDRulrJ"
      },
      "outputs": [],
      "source": [
        "import pyspark.sql.functions as func\n",
        "trip_df_filtered = trip_df_filtered.withColumn(\"trip_distance\",trip_df_filtered.trip_distance.cast('double'))\n",
        "\n",
        "# showing negative trips\n",
        "trip_df_filtered.filter(func.col(\"trip_distance\") <= 0).show()"
      ]
    },
    {
      "cell_type": "code",
      "execution_count": null,
      "metadata": {
        "colab": {
          "base_uri": "https://localhost:8080/"
        },
        "id": "OJ05KB3_vWQb",
        "outputId": "43e36bea-e844-4b95-e9cb-64c774a58f32"
      },
      "outputs": [
        {
          "data": {
            "text/plain": [
              "15257"
            ]
          },
          "execution_count": 31,
          "metadata": {},
          "output_type": "execute_result"
        }
      ],
      "source": [
        "# count of negative trips\n",
        "trip_df_filtered.filter(func.col(\"trip_distance\") <= 0).count()"
      ]
    },
    {
      "cell_type": "code",
      "execution_count": null,
      "metadata": {
        "colab": {
          "base_uri": "https://localhost:8080/"
        },
        "id": "jcuc-M2LvehV",
        "outputId": "ea2c53b7-6743-48ee-ee54-13a88868e027"
      },
      "outputs": [
        {
          "data": {
            "text/plain": [
              "2280249"
            ]
          },
          "execution_count": 32,
          "metadata": {},
          "output_type": "execute_result"
        }
      ],
      "source": [
        "# count of positive trips\n",
        "trip_df_filtered.filter(func.col(\"trip_distance\") >= 0).count()"
      ]
    },
    {
      "cell_type": "code",
      "execution_count": null,
      "metadata": {
        "colab": {
          "base_uri": "https://localhost:8080/"
        },
        "id": "nqVeDqLBvkmq",
        "outputId": "91f9e75b-67f9-4fbb-969d-99c7c71e8e5f"
      },
      "outputs": [
        {
          "data": {
            "text/plain": [
              "2280249"
            ]
          },
          "execution_count": 33,
          "metadata": {},
          "output_type": "execute_result"
        }
      ],
      "source": [
        "trip_df_filtered = trip_df_filtered.filter(func.col(\"trip_distance\") >= 0)\n",
        "trip_df_filtered.count()"
      ]
    },
    {
      "cell_type": "code",
      "execution_count": null,
      "metadata": {
        "colab": {
          "base_uri": "https://localhost:8080/"
        },
        "id": "nKn8wPH3wwCR",
        "outputId": "a9327709-fef0-4d77-842c-ac1bbc917cf7"
      },
      "outputs": [
        {
          "name": "stdout",
          "output_type": "stream",
          "text": [
            "+-----------------+-----------------+-----------------+\n",
            "|         avg_trip|min_trip_distance|max_trip_distance|\n",
            "+-----------------+-----------------+-----------------+\n",
            "|6.329764196804844|              0.0|            296.1|\n",
            "+-----------------+-----------------+-----------------+\n",
            "\n"
          ]
        }
      ],
      "source": [
        "from pyspark.sql import functions as F\n",
        "\n",
        "(trip_df_filtered\n",
        "    .agg(\n",
        "        F.avg(F.col('trip_distance')).alias('avg_trip'),\n",
        "        F.min(F.col('trip_distance')).alias('min_trip_distance'),\n",
        "        F.max(F.col('trip_distance')).alias('max_trip_distance'),\n",
        "    )\n",
        "    .show()\n",
        ")"
      ]
    },
    {
      "cell_type": "markdown",
      "metadata": {
        "id": "3ogQJKKvxLHT"
      },
      "source": [
        "https://sparkbyexamples.com/pyspark/pyspark-where-filter/"
      ]
    },
    {
      "cell_type": "code",
      "execution_count": null,
      "metadata": {
        "colab": {
          "base_uri": "https://localhost:8080/"
        },
        "id": "fqHKGXFOw_X_",
        "outputId": "8635678f-0927-4e26-dc9a-3ab4496e3a21"
      },
      "outputs": [
        {
          "name": "stdout",
          "output_type": "stream",
          "text": [
            "+---------+-------------+\n",
            "|driver_id|trip_distance|\n",
            "+---------+-------------+\n",
            "|9019790c |0.0          |\n",
            "|5ffefeda |0.0          |\n",
            "|e3d08377 |0.0          |\n",
            "|d78ff215 |0.0          |\n",
            "|e69ebba3 |0.0          |\n",
            "|1483947c |0.0          |\n",
            "|75d35e57 |0.0          |\n",
            "|fc30d010 |0.0          |\n",
            "|afba9024 |0.0          |\n",
            "|5ff7632a |0.0          |\n",
            "|a04d8ad6 |0.0          |\n",
            "|c82c8d69 |0.0          |\n",
            "|c49f6816 |0.0          |\n",
            "|60f8ef4a |0.0          |\n",
            "|50f07fc7 |0.0          |\n",
            "|f78d2815 |0.0          |\n",
            "|c805e5eb |0.0          |\n",
            "|c2cfd970 |0.0          |\n",
            "|a4d7a91a |0.0          |\n",
            "|ef2cf645 |0.0          |\n",
            "+---------+-------------+\n",
            "only showing top 20 rows\n",
            "\n"
          ]
        }
      ],
      "source": [
        "# driver_id with min trip (non-negative)\n",
        "\n",
        "columns = [\"driver_id\", \"trip_distance\"]\n",
        "trip_df_filtered.filter(trip_df_filtered.trip_distance == 0.0).select(*columns).show(truncate=False)"
      ]
    },
    {
      "cell_type": "code",
      "execution_count": null,
      "metadata": {
        "colab": {
          "base_uri": "https://localhost:8080/"
        },
        "id": "bCFXT_gYyKOR",
        "outputId": "dd6b73f2-0acb-4a64-c800-86b60332b0f8"
      },
      "outputs": [
        {
          "name": "stdout",
          "output_type": "stream",
          "text": [
            "+--------+---------+------------+-------+---------------------+---------------------+----------+-------------+---------+\n",
            "|id      |driver_id|passenger_id|city_id|call_time            |finish_time          |surge_rate|trip_distance|trip_fare|\n",
            "+--------+---------+------------+-------+---------------------+---------------------+----------+-------------+---------+\n",
            "|b4f7f018|9019790c |7683ae1c    |43006  |7/3/2019 6:54:10 PM  |7/3/2019 7:11:59 PM  |-0.2      |3.73         |3.16     |\n",
            "|4d9129be|9019790c |3cd84a02    |43006  |8/11/2019 12:18:15 AM|8/11/2019 12:56:52 AM|-0.2      |15.39        |27.38    |\n",
            "+--------+---------+------------+-------+---------------------+---------------------+----------+-------------+---------+\n",
            "\n"
          ]
        }
      ],
      "source": [
        "# All other trips by driver with min trip_distance 0, driver_id = 9019790c\n",
        "trip_df_filtered.filter( (trip_df_filtered.trip_distance  != 0.0) & (trip_df_filtered.driver_id  == \"9019790c\") ) \\\n",
        "    .show(truncate=False)  "
      ]
    },
    {
      "cell_type": "code",
      "execution_count": null,
      "metadata": {
        "colab": {
          "base_uri": "https://localhost:8080/"
        },
        "id": "7IB4a3l-wI6D",
        "outputId": "394581bb-b6dd-48f9-8510-0b15adc11e25"
      },
      "outputs": [
        {
          "name": "stdout",
          "output_type": "stream",
          "text": [
            "+---------+-------------+\n",
            "|driver_id|trip_distance|\n",
            "+---------+-------------+\n",
            "|704642b5 |296.1        |\n",
            "+---------+-------------+\n",
            "\n"
          ]
        }
      ],
      "source": [
        "# driver_id with max trip (non-negative)\n",
        "\n",
        "trip_df_filtered.filter(trip_df_filtered.trip_distance == 296.1).select(*columns).show(truncate=False)"
      ]
    },
    {
      "cell_type": "code",
      "execution_count": null,
      "metadata": {
        "colab": {
          "base_uri": "https://localhost:8080/"
        },
        "id": "3SVGY0bpxxvB",
        "outputId": "c7a2c2f7-c687-4e5c-f51d-869982331be6"
      },
      "outputs": [
        {
          "name": "stdout",
          "output_type": "stream",
          "text": [
            "+--------+---------+------------+-------+---------------------+---------------------+----------+-------------+---------+\n",
            "|id      |driver_id|passenger_id|city_id|call_time            |finish_time          |surge_rate|trip_distance|trip_fare|\n",
            "+--------+---------+------------+-------+---------------------+---------------------+----------+-------------+---------+\n",
            "|c7d3b537|704642b5 |7911406f    |43116  |8/3/2019 8:05:49 AM  |8/3/2019 8:25:20 AM  |0.0       |3.21         |1.66     |\n",
            "|1240b566|704642b5 |106e0be6    |43116  |7/5/2019 6:20:55 PM  |7/5/2019 6:50:06 PM  |0.0       |11.09        |4.55     |\n",
            "|5189f92a|704642b5 |a1f12605    |43116  |7/18/2019 11:56:14 PM|7/19/2019 12:05:16 AM|0.0       |2.61         |1.2      |\n",
            "|75f5bbc7|704642b5 |5c12690c    |43116  |7/3/2019 2:58:20 AM  |7/3/2019 3:25:53 AM  |0.0       |11.7         |4.01     |\n",
            "|e22d78b7|704642b5 |7d81049e    |43116  |5/15/2019 10:40:45 PM|5/15/2019 10:54:24 PM|0.0       |4.65         |5.31     |\n",
            "|3d98b2f8|704642b5 |ee6111f1    |43116  |7/20/2019 12:24:03 AM|7/20/2019 1:02:31 AM |0.0       |10.42        |8.7      |\n",
            "|5863225b|704642b5 |a39a07f0    |43116  |5/7/2019 11:19:32 PM |5/7/2019 11:45:40 PM |0.0       |16.7         |15.1     |\n",
            "|6de0028f|704642b5 |19ac7adb    |43116  |7/18/2019 11:25:28 PM|7/18/2019 11:34:36 PM|0.0       |0.43         |1.46     |\n",
            "|88dad051|704642b5 |325d4a63    |43116  |5/10/2019 6:35:03 PM |5/10/2019 7:05:28 PM |0.7       |8.1          |10.24    |\n",
            "+--------+---------+------------+-------+---------------------+---------------------+----------+-------------+---------+\n",
            "\n"
          ]
        }
      ],
      "source": [
        "# All other trips by driver with max trip_distance 296.1, driver_id = 704642b5\n",
        "trip_df_filtered.filter( (trip_df_filtered.trip_distance  != 296.1) & (trip_df_filtered.driver_id  == \"704642b5\") ) \\\n",
        "    .show(truncate=False)  "
      ]
    },
    {
      "cell_type": "code",
      "execution_count": null,
      "metadata": {
        "id": "vszV-JUNyn2S"
      },
      "outputs": [],
      "source": []
    }
  ],
  "metadata": {
    "colab": {
      "collapsed_sections": [
        "AEFNm_gGCOi_",
        "NG0xL40uDXk9",
        "SFLl8J-vS2FM",
        "gE9xO5WRrinC",
        "uC_GZMpRrR9-"
      ],
      "provenance": []
    },
    "gpuClass": "standard",
    "kernelspec": {
      "display_name": "Python 3",
      "name": "python3"
    },
    "language_info": {
      "name": "python"
    }
  },
  "nbformat": 4,
  "nbformat_minor": 0
}
