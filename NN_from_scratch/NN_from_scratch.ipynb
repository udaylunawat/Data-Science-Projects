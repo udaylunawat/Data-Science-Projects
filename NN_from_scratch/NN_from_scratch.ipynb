{
 "cells": [
  {
   "cell_type": "markdown",
   "metadata": {},
   "source": [
    "<a href=\"https://colab.research.google.com/github/udaylunawat/Machine-Learning-Assignments/blob/master/NN_from_scratch/NN_from_scratch.ipynb\"><img align=\"left\" src=\"https://colab.research.google.com/assets/colab-badge.svg\" alt=\"Open in Colab\" title=\"Open and Execute in Google Colaboratory\"></a>"
   ]
  },
  {
   "cell_type": "markdown",
   "metadata": {
    "colab_type": "text",
    "id": "N5QCLaUnrnBV"
   },
   "source": [
    "# Neural Network from scratch"
   ]
  },
  {
   "cell_type": "markdown",
   "metadata": {
    "colab_type": "text",
    "id": "sH5jPVX-rnBd"
   },
   "source": [
    "## 1. Importing libraries"
   ]
  },
  {
   "cell_type": "code",
   "execution_count": 1,
   "metadata": {
    "colab": {},
    "colab_type": "code",
    "id": "y4WT0EJRrnBg",
    "outputId": "90804161-647c-4283-a8c2-27188dd451ce"
   },
   "outputs": [],
   "source": [
    "import random\n",
    "import numpy as np\n",
    "from tqdm.notebook import tqdm\n",
    "from sklearn.metrics import mean_squared_error as mse\n",
    "from matplotlib import pyplot as plt\n",
    "import pickle"
   ]
  },
  {
   "cell_type": "markdown",
   "metadata": {
    "colab_type": "text",
    "id": "GIkq6U0SrnBu"
   },
   "source": [
    "# 2. Computational graph"
   ]
  },
  {
   "cell_type": "markdown",
   "metadata": {
    "colab_type": "text",
    "id": "3XnJH-McrnBx"
   },
   "source": [
    "<img src='https://i.imgur.com/seSGbNS.png'>"
   ]
  },
  {
   "cell_type": "markdown",
   "metadata": {
    "colab_type": "text",
    "id": "YRQKYgJrrnB0"
   },
   "source": [
    "<pre>\n",
    "1. if you observe the graph, we are having input features [f1, f2, f3, f4, f5] and 9 weights [w1, w2, w3, w4, w5, w6,    w7, w8, w9]\n",
    "2. the final output of this graph is a value L which is computed as (Y-Y')^2\n",
    "</pre>"
   ]
  },
  {
   "cell_type": "markdown",
   "metadata": {
    "colab_type": "text",
    "id": "inW-os8IrnB3"
   },
   "source": [
    "### Task 1: Implementing backpropagation and Gradient checking\n",
    "\n",
    "\n",
    "<pre>1. <b>Check this video for better understanding of the computational graphs and back propagation:</b> <a href='https://www.youtube.com/watch?v=i94OvYb6noo#t=1m33s'>https://www.youtube.com/watch?v=i94OvYb6noo</a>\n",
    "</pre>\n",
    "\n",
    "<pre>\n",
    "2. <b>write two functions</b>\n",
    "\n",
    "#you can modify the definition of this function according to your needs\n",
    "<font color='green'>\n",
    "def forward_propagation(X, y, W):\n",
    "        <font color='grey'>\n",
    "        # X: input data point, note that in this assignment you are having 5-d data points\n",
    "        # y: output varible\n",
    "        # W: weight array, its of length 9, W[0] corresponds to w1 in graph, W[1] corresponds to w2 in graph, ..., W[8] corresponds to w9 in graph.\n",
    "        # write code to compute the value of L=(y-y')^2\n",
    "        </font>\n",
    "        return (L, any other variables which you might need to use for back propagation)\n",
    "        <font color='grey'>\n",
    "        # Hint: you can use dict type to store the required intermediate variables \n",
    "        </font>\n",
    "</font>\n",
    "</pre>\n",
    "\n",
    "<pre>\n",
    "# you can modify the definition of this function according to your needs\n",
    "<font color='blue'>\n",
    "def backward_propagation(L, Variables):\n",
    "        <font color='grey'>\n",
    "        # L: the loss we calculated for the current point\n",
    "        # Variables: the outputs of the forward_propagation() function\n",
    "        # write code to compute the gradients of each weight [w1,w2,w3,...,w9]\n",
    "        </font>\n",
    "        return dW\n",
    "        <font color='grey'>\n",
    "        # here dW can be a list, or dict or any other data type wich will have gradients of all the weights\n",
    "        # Hint: you can use dict type to store the required variables \n",
    "        </font>\n",
    "</font>\n",
    "</pre>\n",
    "3. <b> <a href='https://towardsdatascience.com/how-to-debug-a-neural-network-with-gradient-checking-41deec0357a9'>Gradient checking</a></b>:<a href='https://towardsdatascience.com/how-to-debug-a-neural-network-with-gradient-checking-41deec0357a9'>blog link</a> \n",
    "\n",
    "<pre>we know that the derivative of any function is </pre>$$\\lim_{\\epsilon\\to0}\\frac{f(x+\\epsilon)-f(x-\\epsilon)}{2\\epsilon}$$\n",
    "<pre>\n",
    "The definition above can be used as a numerical approximation of the derivative. Taking an epsilon small enough, the calculated approximation will have an error in the range of epsilon squared. \n",
    "\n",
    "In other words, if epsilon is 0.001, the approximation will be off by 0.00001.\n",
    "\n",
    "Therefore, we can use this to approximate the gradient, and in turn make sure that backpropagation is implemented properly. This forms the basis of gradient checking!\n",
    "\n",
    "</pre>\n",
    "\n",
    "<font >\n",
    "lets understand the concept with a simple example:\n",
    "$f(w1,w2,x1,x2)=w_{1}^{2} . x_{1} + w_{2} . x_{2}$ \n",
    "\n",
    "from the above function lets assume $w_{1}=1$, $w_{2}=2$, $x_{1}=3$, $x_{2}=4$ the gradient of $f$ w.r.t $w_{1}$ is\n",
    "\n",
    "\\begin{array} {lcl}\n",
    "\\frac{df}{dw_{1}} = dw_{1} &=&2.w_{1}.x_{1} \\\\& = &2.1.3\\\\& = &6\n",
    "\\end{array}\n",
    "\n",
    "\n",
    "let calculate the aproximate gradient of $w_{1}$ as mentinoned in the above formula and considering $\\epsilon=0.0001$\n",
    "\n",
    "\\begin{array} {lcl}\n",
    "dw_1^{approx} & = & \\frac{f(w1+\\epsilon,w2,x1,x2)-f(w1-\\epsilon,w2,x1,x2)}{2\\epsilon} \\\\ & = & \\frac{((1+0.0001)^{2} . 3 + 2 . 4) - ((1-0.0001)^{2} . 3 + 2 . 4)}{2\\epsilon} \\\\ & = & \\frac{(1.00020001 . 3 + 2 . 4) - (0.99980001. 3 + 2 . 4)}{2*0.0001} \\\\ & = & \\frac{(11.00060003) - (10.99940003)}{0.0002}\\\\ & = & 5.99999999999\n",
    "\\end{array}\n",
    "\n",
    "Then, we apply the following formula for gradient check: <i>gradient_check</i> = \n",
    "$\\frac{\\left\\Vert\\left (dW-dW^{approx}\\rm\\right) \\right\\Vert_2}{\\left\\Vert\\left (dW\\rm\\right) \\right\\Vert_2+\\left\\Vert\\left (dW^{approx}\\rm\\right) \\right\\Vert_2}$\n",
    "\n",
    "The equation above is basically the Euclidean distance normalized by the sum of the norm of the vectors. We use normalization in case that one of the vectors is very small.\n",
    "As a value for epsilon, we usually opt for 1e-7. Therefore, if gradient check return a value less than 1e-7, then it means that backpropagation was implemented correctly. Otherwise, there is potentially a mistake in your implementation. If the value exceeds 1e-3, then you are sure that the code is not correct.\n",
    "\n",
    "in our example: <i>gradient_check</i> $ = \\frac{(6 - 5.999999999994898)}{(6 + 5.999999999994898)} = 4.2514140356330737e^{-13}$\n",
    "\n",
    "you can mathamatically derive the same thing like this\n",
    "\n",
    "\\begin{array} {lcl}\n",
    "dw_1^{approx} & = & \\frac{f(w1+\\epsilon,w2,x1,x2)-f(w1-\\epsilon,w2,x1,x2)}{2\\epsilon} \\\\ & = & \\frac{((w_{1}+\\epsilon)^{2} . x_{1} + w_{2} . x_{2}) - ((w_{1}-\\epsilon)^{2} . x_{1} + w_{2} . x_{2})}{2\\epsilon} \\\\ & = & \\frac{4. \\epsilon.w_{1}. x_{1}}{2\\epsilon} \\\\ & = &  2.w_{1}.x_{1}\n",
    "\\end{array}\n",
    "\n",
    "to do this task you need to write a function \n",
    "<pre>\n",
    "<font color='darkblue'>\n",
    "W = initilize_randomly\n",
    "def gradient_checking(data_point, W):\n",
    "    <font color='grey'>\n",
    "    # compute the L value using forward_propagation()\n",
    "    # compute the gradients of W using backword_propagation()\n",
    "    </font>\n",
    "    approx_gradients = []\n",
    "    for each wi weight value in W:\n",
    "        <font color='grey'>\n",
    "        # add a small value to weight wi, and then find the values of L with the updated weights\n",
    "        # subtract a small value to weight wi, and then find the values of L with the updated weights\n",
    "        # compute the approximation gradients of weight wi\n",
    "        </font>\n",
    "        approx_gradients.append(approximation gradients of weight wi)\n",
    "    <font color='grey'>\n",
    "    # compare the gradient of weights W from backword_propagation() with the aproximation gradients of weights with      gradient_check formula\n",
    "    </font>\n",
    "    return gradient_check\n",
    "</font>\n",
    "NOTE: you can do sanity check by checking all the return values of gradient_checking(), they have to be zero. if not you have bug in your code\n",
    "</pre>"
   ]
  },
  {
   "cell_type": "markdown",
   "metadata": {},
   "source": [
    "# Forward Propagation\n",
    "![FP](https://i.imgur.com/mM1N1bC.png)"
   ]
  },
  {
   "cell_type": "code",
   "execution_count": 2,
   "metadata": {},
   "outputs": [],
   "source": [
    "class NeuralNetwork:\n",
    "    '''\n",
    "    This Neural Network was implemented from scratch to solve the above given task\n",
    "    '''\n",
    "    \n",
    "    def __init__(self):\n",
    "        np.random.seed(10) # for generating the same results\n",
    "    \n",
    "    \n",
    "    def initialize_weights(self, n):\n",
    "        \"\"\"\n",
    "        Initialize weights.\n",
    "\n",
    "        Weight matrices will be initialized to random values from uniform normal\n",
    "        distribution.\n",
    "\n",
    "\n",
    "        Parameters\n",
    "        ----------\n",
    "        n : int\n",
    "             Size of weight vector\n",
    "\n",
    "\n",
    "        Returns\n",
    "        ------- \n",
    "        W : array_like\n",
    "            A (9 x 1) matrix of weights\n",
    "        \"\"\"\n",
    "        \n",
    "        W = np.array([np.random.rand() for i in range(n)])\n",
    "#         W = np.array([random.uniform(-1,1) for i in range(n)])\n",
    "\n",
    "        return W\n",
    "\n",
    "    \n",
    "    \n",
    "    # Class documentation style acquired from\n",
    "    # https://github.com/KirillShmilovich/MLP-Neural-Network-From-Scratch/blob/master/MLP.ipynb\n",
    "    def sigmoid(self, x):\n",
    "        \"\"\"\n",
    "\n",
    "        Compute the sigmoid of `x`, calculated element-wise\n",
    "        sigmoid applied to `x` element-wise\n",
    "\n",
    "\n",
    "        Parameters\n",
    "        ----------\n",
    "        x : float or array_like input\n",
    "\n",
    "\n",
    "        Returns\n",
    "        -------\n",
    "        sigmoid(x) : float or array_like\n",
    "        \"\"\"\n",
    "        return 1/(1+np.exp(-x))\n",
    "    \n",
    "    \n",
    "    \n",
    "    def forward_propagation(self, F, y, W):\n",
    "        \"\"\"\n",
    "        Calculate loss, y_pred and intermediate variable dictionary\n",
    "\n",
    "\n",
    "        Parameters\n",
    "        ----------\n",
    "        F : array_like input for input features\n",
    "        y : array_like input for target labels\n",
    "        W : array_like input for weights\n",
    "\n",
    "\n",
    "        Returns\n",
    "        -------\n",
    "        y_pred : float prediction\n",
    "        Loss : squared loss\n",
    "        var_dict : dictionary for intermediate variables\n",
    "        \"\"\"\n",
    "\n",
    "        q1 = W[0] * F[0]\n",
    "        q2 = W[1] * F[1]\n",
    "        q3 = q1 + q2\n",
    "        q4 = q3 * q3\n",
    "        q5 = W[5] + q4\n",
    "        q6 = np.exp(q5)\n",
    "        q7 = W[6] + q6\n",
    "        q8 = np.tanh(q7)\n",
    "        q9 = W[2] * F[2]\n",
    "        q10 = W[3] * F[3]\n",
    "        q11 = W[4] * F[4]\n",
    "        q12 = np.sin(q9)\n",
    "        q13 = q10 + q11\n",
    "        q14 = q12 * q13\n",
    "        q15 = W[7] + q14\n",
    "        q16 = self.sigmoid(q15)\n",
    "        q17 = W[8] * q16\n",
    "        y_pred = q8 + q17\n",
    "        Loss = (y - y_pred)**2\n",
    "        var_dict = {\n",
    "            'q1':q1,'q2':q2,'q3':q3,'q4':q4,'q5':q5,'q6':q6,'q7':q7,'q8':q8,'q9':q9,'q10':q10,'q11':q11,\n",
    "            'q12':q12,'q13':q13,'q14':q14,'q15':q15,'q16':q16,'q17':q17\n",
    "        }\n",
    "\n",
    "        return y_pred, Loss, var_dict\n",
    "    \n",
    "    \n",
    "    \n",
    "    def backward_propagation(self, X, y, W, vd):\n",
    "        \"\"\"\n",
    "        Calculating derivatives and storing frequently used derivatives using memoization\n",
    "\n",
    "\n",
    "        Parameters\n",
    "        ----------\n",
    "        X : array_like input for input features\n",
    "        y : array_like input for target labels\n",
    "        W : array_like input for weights\n",
    "        vd : dictionry with keys from q1 to q18\n",
    "\n",
    "\n",
    "        Returns\n",
    "        -------\n",
    "        derivatives_list : list with derivatives of w1 to w9\n",
    "        \"\"\"\n",
    "\n",
    "        y_pred = vd['q8'] + vd['q17']\n",
    "        dL_dy = -2 * (y - y_pred)\n",
    "        \n",
    "        dL_q8 = -2 * (y - vd['q8'] - vd['q17'])\n",
    "        dL_q17 = -2 * (y - vd['q8'] - vd['q17'])\n",
    "        dq1 = X[0]\n",
    "        dq2 = X[1]\n",
    "        dq3 = 1\n",
    "        dq4 = 2 * vd['q3']\n",
    "        dq5 = 1\n",
    "        dq6 = vd['q6']\n",
    "        dq7 = 1\n",
    "        dq8 = 1 - np.tanh(vd['q7'])**2\n",
    "        dq9 = X[2]\n",
    "        dq10 = X[3]\n",
    "        dq11 = X[4]\n",
    "        dq12 = np.cos(vd['q9'])\n",
    "        dq13 = 1\n",
    "        dq14_q12 = vd['q13']\n",
    "        dq14_q13 = vd['q12']\n",
    "        dq15 = 1\n",
    "        dq16 = vd['q16']*(1 - vd['q16']) #doubtful\n",
    "        dq17_w9 = vd['q16']\n",
    "        dq17_q16 = W[8]\n",
    "\n",
    "\n",
    "        dw1 = dq8*dq7*dq6*dq5*dq4*dq3*dq1\n",
    "        dw2 = dq8*dq7*dq6*dq5*dq4*dq3*dq2\n",
    "        dw3 = dq17_q16*dq16*dq15*dq14_q12*dq12*dq9\n",
    "        dw4 = dq17_q16*dq16*dq15*dq14_q13*dq13*dq10\n",
    "        dw5 = dq17_q16*dq16*dq15*dq14_q13*dq13*dq11\n",
    "        dw6 = dq8*dq7*dq6*dq5\n",
    "        dw7 = dq8*dq7\n",
    "        dw8 = dq17_q16*dq16*dq15\n",
    "        dw9 = dq17_w9\n",
    "\n",
    "\n",
    "        grad = np.array([dw1, dw2, dw3, dw4, dw5, dw6, dw7, dw8, dw9]) * dL_dy\n",
    "        # Multiplying dL_dy fails gradient check but results in correct vanilla SGD\n",
    "        # When dL_dy is not multiplies gradient check succeeds\n",
    "\n",
    "        return grad\n",
    "    \n",
    "    \n",
    "    #Source -  https://towardsdatascience.com/how-to-debug-a-neural-network-with-gradient-checking-41deec0357a9\n",
    "    def gradient_check(self, X, y, W, e=1e-7):\n",
    "        \"\"\"\n",
    "        This Method consists of approximating the gradient using a numerical approach. \n",
    "        If it is close to the calculated gradients, then backpropagation was implemented correctly!\n",
    "\n",
    "\n",
    "        Parameters\n",
    "        ----------\n",
    "        X : array_like input for input features\n",
    "        y : array_like input for target labels\n",
    "        W : array_like input for weights\n",
    "        e : epsilon, a really small value\n",
    "\n",
    "\n",
    "        Returns\n",
    "        -------\n",
    "        Nothing\n",
    "        \"\"\"\n",
    "        y_pred, Loss, var_dict = self.forward_propagation(X, y, W)\n",
    "        grad = self.backward_propagation(X, y, W, var_dict)\n",
    "\n",
    "        for i, weight in enumerate(W):\n",
    "            w_plus, w_minus = W.copy(), W.copy()\n",
    "            w_plus[i] = w_plus[i] + e\n",
    "            w_minus[i] = w_minus[i] - e\n",
    "            _, L_plus , _ = self.forward_propagation(X, y, w_plus)\n",
    "            _, L_minus, _ = self.forward_propagation(X, y, w_minus)\n",
    "            grad_approx = (L_plus - L_minus)/(2 * e)\n",
    "\n",
    "            numerator = np.linalg.norm(grad[i] - grad_approx)\n",
    "            denominator = np.linalg.norm(grad[i]) + np.linalg.norm(grad_approx)\n",
    "            difference = numerator / denominator \n",
    "\n",
    "            if difference <= 1e-7:\n",
    "                print('weight {0} is correct'.format(i+1))\n",
    "            else:\n",
    "                print('weight {0} is in-correct'.format(i+1), difference)  \n",
    "    \n",
    "    \n",
    "    \n",
    "    # http://cs231n.github.io/neural-networks-3/#sgd\n",
    "    def Vanilla_sgd(self, x, y, W, epoch, learning_rate=0.0001):\n",
    "        \"\"\"\n",
    "        While selecting data points at each step to calculate the derivatives,\n",
    "        SGD randomly picks one data point from the whole data set at each iteration \n",
    "        to reduce the computations enormously.\n",
    "        \n",
    "        It is also common to sample a small number of data points instead of just one point at \n",
    "        each step and that is called “mini-batch” gradient descent. \n",
    "        Mini-batch tries to strike a balance between the goodness of gradient descent and speed of SGD.\n",
    "        \n",
    "        This vanilla_sgd is a single point sgd.\n",
    "\n",
    "\n",
    "        Parameters\n",
    "        ----------\n",
    "        X : array_like input for input features\n",
    "        y : array_like input for target labels\n",
    "        W : array_like input for weights\n",
    "        epoch : no. of epochs\n",
    "        learning_rate : step size at each iteration while moving toward a minimum of a loss function\n",
    "\n",
    "\n",
    "        Returns\n",
    "        -------\n",
    "        W : updated weight vector\n",
    "        losses : list of loss at each epoch\n",
    "        \"\"\"\n",
    "        losses = []\n",
    "        for i in range(epoch):\n",
    "            w = W\n",
    "            epoch_y_pred=[]\n",
    "            for j in range(len(x)):\n",
    "                y_pred, loss, my_dict = self.forward_propagation(x[j], y[j], w)\n",
    "                grad = self.backward_propagation(x[j], y[j], w, my_dict)\n",
    "\n",
    "                #Updating weights with help of gradients\n",
    "                for k in range(len(w)):\n",
    "                    w[k] += - learning_rate * grad[k]\n",
    "\n",
    "                epoch_y_pred.append(y_pred)\n",
    "\n",
    "            losses.append(mse(y, epoch_y_pred))  \n",
    "            \n",
    "        return W, losses\n",
    "    \n",
    "    # http://cs231n.github.io/neural-networks-3/#sgd\n",
    "    # https://deepnotes.io/sgd-momentum-adaptive\n",
    "    def Momentum(self, x, y, W, epoch, learning_rate=0.0001):\n",
    "        \"\"\"\n",
    "        Momentum update is another approach that almost always \n",
    "        enjoys better converge rates on deep networks.\n",
    "\n",
    "\n",
    "        Parameters\n",
    "        ----------\n",
    "        X : array_like input for input features\n",
    "        y : array_like input for target labels\n",
    "        W : array_like input for weights\n",
    "        epoch : no. of epochs\n",
    "        learning_rate : step size at each iteration while moving toward a minimum of a loss function\n",
    "\n",
    "\n",
    "        Returns\n",
    "        -------\n",
    "        W : updated weight vector\n",
    "        losses : list of loss at each epoch\n",
    "        \"\"\"\n",
    "        losses = []\n",
    "        \n",
    "        # Variables for momentum\n",
    "        mu = 0.9 # friction for momentum\n",
    "        v = np.zeros(9)\n",
    "        \n",
    "        for i in range(epoch):\n",
    "            w = W\n",
    "            epoch_y_pred=[]\n",
    "            for j in range(len(x)):\n",
    "                y_pred, loss, my_dict = self.forward_propagation(x[j], y[j], w)\n",
    "                grad = self.backward_propagation(x[j], y[j], w, my_dict)\n",
    "\n",
    "                #Updating weights with help of gradients\n",
    "                for k in range(len(w)):\n",
    "                    # Momentum update\n",
    "                    v[k] = mu * v[k] - learning_rate * grad[k]  # integrate velocity\n",
    "                    w[k] += v[k] # integrate position\n",
    "\n",
    "                epoch_y_pred.append(y_pred)\n",
    "\n",
    "            losses.append(mse(y, epoch_y_pred))  \n",
    "            \n",
    "        return W, losses\n",
    "    \n",
    "    \n",
    "    # http://cs231n.github.io/neural-networks-3/#ada\n",
    "    # https://deepnotes.io/sgd-momentum-adaptive\n",
    "    def Adam(self, x, y, W, epoch, learning_rate=0.0001):\n",
    "        \n",
    "        \"\"\"\n",
    "        Adam is a recently proposed update that looks a bit like \n",
    "        RMSProp with momentum. \n",
    "\n",
    "        In practice Adam is currently recommended as the default algorithm to use, \n",
    "        and often works slightly better than RMSProp. \n",
    "\n",
    "        However, it is often also worth trying SGD+Nesterov Momentum as an alternative. \n",
    "        The full Adam update also includes a bias correction mechanism, \n",
    "        which compensates for the fact that in the first few time steps the vectors m,v are \n",
    "        both initialized and therefore biased at zero, before they fully “warm up”. \n",
    "\n",
    "\n",
    "        Parameters\n",
    "        ----------\n",
    "        X : array_like input for input features\n",
    "        y : array_like input for target labels\n",
    "        W : array_like input for weights\n",
    "        epoch : no. of epochs\n",
    "        learning_rate : step size at each iteration while moving toward a minimum of a loss function\n",
    "\n",
    "\n",
    "        Returns\n",
    "        -------\n",
    "        W : updated weight vector\n",
    "        losses : list of loss at each epoch\n",
    "        \"\"\"\n",
    "        losses = []\n",
    "        \n",
    "        # variables for Adam\n",
    "        eps = 1e-8\n",
    "        beta1 = 0.9\n",
    "        beta2 = 0.999\n",
    "        \n",
    "        v = np.zeros(9)\n",
    "        m = np.zeros(9)\n",
    "        \n",
    "        for i in range(epoch):\n",
    "            w = W\n",
    "            epoch_y_pred=[]\n",
    "            for j in range(len(x)):\n",
    "                y_pred, loss, my_dict = self.forward_propagation(x[j], y[j], w)\n",
    "                grad = self.backward_propagation(x[j], y[j], w, my_dict)\n",
    "\n",
    "                #Updating weights with help of gradients\n",
    "                for k in range(len(w)):\n",
    "                    m[k] = beta1 * m[k] + (1-beta1) * grad[k]\n",
    "                    v[k] = beta2 * v[k] + (1-beta2) * grad[k]**2\n",
    "                    w[k] += - learning_rate * m[k] / (np.sqrt(v[k]) + eps)\n",
    "\n",
    "                epoch_y_pred.append(y_pred)\n",
    "\n",
    "            losses.append(mse(y, epoch_y_pred))  \n",
    "\n",
    "        return W, losses\n"
   ]
  },
  {
   "cell_type": "code",
   "execution_count": 3,
   "metadata": {},
   "outputs": [],
   "source": [
    "# def parameter_update(update, learning_rate, grad):\n",
    "#     for k in range(len(w)):\n",
    "#         if update == \"vanilla\":\n",
    "#             w[k] += - learning_rate * grad[k]\n",
    "\n",
    "#         elif update == \"momentum\":\n",
    "#             # Momentum update\n",
    "#             self.v[k] = mu * self.v[k] - learning_rate * grad[k]  # integrate velocity\n",
    "#             w[k] += self.v[k] # integrate position\n",
    "\n",
    "#     return w, v"
   ]
  },
  {
   "cell_type": "code",
   "execution_count": 4,
   "metadata": {},
   "outputs": [
    {
     "name": "stdout",
     "output_type": "stream",
     "text": [
      "Shape of data: (506, 6)\n",
      "X Shape (506, 5) \n",
      "y shape (506,)\n"
     ]
    }
   ],
   "source": [
    "# if __name__ == '__main__':\n",
    "with open('data.pkl', 'rb') as f:\n",
    "    data = pickle.load(f)\n",
    "\n",
    "print(\"Shape of data:\",data.shape)\n",
    "X = data[:, :5]\n",
    "y = data[:, -1]\n",
    "print(\"X Shape\",X.shape,\"\\ny shape\", y.shape)"
   ]
  },
  {
   "cell_type": "code",
   "execution_count": 5,
   "metadata": {},
   "outputs": [
    {
     "name": "stdout",
     "output_type": "stream",
     "text": [
      "weight 1 is correct\n",
      "weight 2 is correct\n",
      "weight 3 is correct\n",
      "weight 4 is correct\n",
      "weight 5 is correct\n",
      "weight 6 is correct\n",
      "weight 7 is correct\n",
      "weight 8 is correct\n",
      "weight 9 is correct\n"
     ]
    }
   ],
   "source": [
    "# Gradient checking\n",
    "model = NeuralNetwork()\n",
    "W = model.initialize_weights(9)\n",
    "model.gradient_check(X[0], y[0], W)"
   ]
  },
  {
   "cell_type": "markdown",
   "metadata": {},
   "source": [
    "# Weight initialization mistake:-\n",
    "- Generating weights by using random.uniform causes gradient check to fail a lot of times.\n",
    "\n",
    "<code>W = np.array([random.uniform(-1,1) for i in range(n)])</code>\n",
    "\n",
    "\n",
    "- The gradient-checks are inconsistent and sometimes incorrect\n",
    "- They produce correct results on some re-runs\n",
    "- This is because gradient-check depends upon weight initialization\n",
    "- But doing the same using random.rand works well\n",
    "\n",
    "<code>W = np.array([np.random.rand() for i in range(n)])</code>"
   ]
  },
  {
   "cell_type": "markdown",
   "metadata": {},
   "source": [
    "# Gradient check mistake\n",
    "- Gradient check also failed because of a mistake I made.\n",
    "- I used y_preds instead of Loss to calculate grad_approx.\n",
    "- But that still resulted in the Optimizers working properly, the question is how?"
   ]
  },
  {
   "cell_type": "markdown",
   "metadata": {
    "colab_type": "text",
    "id": "mf1fj5ZernB5"
   },
   "source": [
    "### Task 2: Optimizers\n",
    "\n",
    "1. As a part of this task, you will be implementing 3 type of optimizers(methods to update weight)\n",
    "2. check this video and blog: https://www.youtube.com/watch?v=gYpoJMlgyXA,  http://cs231n.github.io/neural-networks-3/\n",
    "3. use the same computational graph that was mentioned above to do this task\n",
    "4. initilze the 9 weights from normal distribution with mean=0 and std=0.01\n",
    "\n",
    "5. \n",
    "\n",
    "<pre>\n",
    "    for each epoch(1-100):\n",
    "        for each data point in your data:\n",
    "            using the functions forward_propagation() and backword_propagation() compute the gradients of weights\n",
    "            update the weigts with help of gradients  ex: w1 = w1-learning_rate*dw1\n",
    "</pre>\n",
    "\n",
    "6.\n",
    "\n",
    "<pre>\n",
    "<b>task 2.1</b>: you will be implementing the above algorithm with <b>Vanilla update</b> of weights\n",
    "<b>task 2.2</b>: you will be implementing the above algorithm with <b>Momentum update</b> of weights\n",
    "<b>task 2.3</b>: you will be implementing the above algorithm with <b>Adam update</b> of weights\n",
    "</pre>\n",
    "\n"
   ]
  },
  {
   "cell_type": "markdown",
   "metadata": {},
   "source": [
    "<img style=\"float: left;\" src=\"http://cs231n.github.io/assets/nn3/opt1.gif\" width=\"500\" height=\"500\">"
   ]
  },
  {
   "cell_type": "markdown",
   "metadata": {},
   "source": [
    "<img style=\"float: left;\" src=\"http://cs231n.github.io/assets/nn3/opt2.gif\" width=\"500\" height=\"500\">"
   ]
  },
  {
   "cell_type": "code",
   "execution_count": 6,
   "metadata": {},
   "outputs": [],
   "source": [
    "epochs = 80\n",
    "W = model.initialize_weights(9)\n",
    "W, losses = model.Vanilla_sgd(X, y, W, epochs)"
   ]
  },
  {
   "cell_type": "code",
   "execution_count": 7,
   "metadata": {},
   "outputs": [
    {
     "data": {
      "image/png": "[encoded data removed]",
      "text/plain": [
       "<Figure size 432x288 with 1 Axes>"
      ]
     },
     "metadata": {
      "needs_background": "light"
     },
     "output_type": "display_data"
    }
   ],
   "source": [
    "plt.plot(range(epochs), losses)\n",
    "plt.scatter(range(epochs), losses, label='MSE')\n",
    "plt.title(\"MSE Plot for Vanilla SGD\")\n",
    "plt.xlabel(\"Epoch\")\n",
    "plt.ylabel(\"Mean Squared Error\")\n",
    "plt.legend()\n",
    "plt.show()"
   ]
  },
  {
   "cell_type": "markdown",
   "metadata": {},
   "source": [
    "- SGD took around 50 epochs to converge"
   ]
  },
  {
   "cell_type": "code",
   "execution_count": 8,
   "metadata": {},
   "outputs": [],
   "source": [
    "epochs = 20\n",
    "W = model.initialize_weights(9)\n",
    "W, losses = model.Momentum(X, y, W, epochs)"
   ]
  },
  {
   "cell_type": "code",
   "execution_count": 9,
   "metadata": {},
   "outputs": [
    {
     "data": {
      "image/png": "[encoded data removed]",
      "text/plain": [
       "<Figure size 432x288 with 1 Axes>"
      ]
     },
     "metadata": {
      "needs_background": "light"
     },
     "output_type": "display_data"
    }
   ],
   "source": [
    "plt.plot(range(epochs), losses)\n",
    "plt.scatter(range(epochs), losses, label='MSE')\n",
    "plt.title(\"MSE Plot for SGD with Momentum\")\n",
    "plt.xlabel(\"Epoch\")\n",
    "plt.ylabel(\"Mean Squared Error\")\n",
    "plt.legend()\n",
    "plt.show()"
   ]
  },
  {
   "cell_type": "markdown",
   "metadata": {},
   "source": [
    "- Here we can clearly see the advantage of momentum is that it makes very small change to SGD but provides a big boost to speed of learning."
   ]
  },
  {
   "cell_type": "code",
   "execution_count": 10,
   "metadata": {},
   "outputs": [],
   "source": [
    "epochs = 20\n",
    "model = NeuralNetwork()\n",
    "W = model.initialize_weights(9)\n",
    "W, losses = model.Adam(X, y, W, epochs)"
   ]
  },
  {
   "cell_type": "code",
   "execution_count": 11,
   "metadata": {},
   "outputs": [
    {
     "data": {
      "image/png": "[encoded data removed]",
      "text/plain": [
       "<Figure size 432x288 with 1 Axes>"
      ]
     },
     "metadata": {
      "needs_background": "light"
     },
     "output_type": "display_data"
    }
   ],
   "source": [
    "plt.plot(range(epochs), losses)\n",
    "plt.scatter(range(epochs), losses, label='MSE')\n",
    "plt.title(\"MSE Plot for SGD with Adam Optimizer\")\n",
    "plt.xlabel(\"Epoch\")\n",
    "plt.ylabel(\"Mean Squared Error\")\n",
    "plt.legend()\n",
    "plt.show()"
   ]
  },
  {
   "cell_type": "markdown",
   "metadata": {},
   "source": [
    "- Adam [(original paper)](https://arxiv.org/abs/1412.6980) is a recently proposed and currently state of the art first order optimization algorithm.\n",
    "- Another thing to note is that Adam includes bias correction mechanism, which compensates for first few iterations when both cache and velocity are biased at zero as they are initialized to zero.\n",
    "- Using large models and datasets, we demonstrate Adam can efficiently solve practical deep learning problems.\n",
    "- [Sebastian Ruder](http://sebastianruder.com/) developed a comprehensive review of modern gradient descent optimization algorithms titled [“An overview of gradient descent optimization algorithms”](https://arxiv.org/abs/1609.04747)published first as a [blog post](http://sebastianruder.com/optimizing-gradient-descent/index.html), then a technical report in 2016."
   ]
  }
 ],
 "metadata": {
  "kernelspec": {
   "display_name": "Python 3",
   "language": "python",
   "name": "python3"
  },
  "language_info": {
   "codemirror_mode": {
    "name": "ipython",
    "version": 3
   },
   "file_extension": ".py",
   "mimetype": "text/x-python",
   "name": "python",
   "nbconvert_exporter": "python",
   "pygments_lexer": "ipython3",
   "version": "3.7.6"
  }
 },
 "nbformat": 4,
 "nbformat_minor": 4
}
