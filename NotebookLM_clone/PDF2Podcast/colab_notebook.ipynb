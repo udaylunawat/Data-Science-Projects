{
 "cells": [
  {
   "cell_type": "markdown",
   "metadata": {},
   "source": [
    "# NotebookLM-Kokoro TTS Project\n",
    "\n",
    "This notebook implements the functionality for generating audio from PDF documents using the Kokoro TTS model. It includes installation steps, GPU support configuration, and audio generation functionality."
   ]
  },
  {
   "cell_type": "code",
   "execution_count": null,
   "metadata": {
    "id": "install_dependencies"
   },
   "outputs": [],
   "source": [
    "# Install necessary packages\n",
    "!pip install -q kokoro>=0.9.2 soundfile torch PyPDF2 numpy openai gradio\n",
    "\n",
    "# Check if GPU is available\n",
    "import torch\n",
    "if torch.cuda.is_available():\n",
    "    print(\"GPU is available.\")\n",
    "else:\n",
    "    print(\"GPU is not available. Using CPU instead.\")"
   ]
  },
  {
   "cell_type": "code",
   "execution_count": null,
   "metadata": {
    "id": "import_modules"
   },
   "outputs": [],
   "source": [
    "# Import necessary modules\n",
    "import os\n",
    "import tempfile\n",
    "import shutil\n",
    "import numpy as np\n",
    "import soundfile as sf\n",
    "import ast\n",
    "from notebook_lm_kokoro import generate_podcast_script, generate_audio_from_script\n",
    "from notebook_lm_kokoro import KPipeline\n",
    "\n",
    "# Set OpenAI API key\n",
    "os.environ['OPENAI_API_KEY'] = 'your_api_key_here'\n",
    "# Uncomment the following line if using OpenRouter\n",
    "# os.environ['OPENROUTER_API_BASE'] = 'https://openrouter.ai/api/v1'"
   ]
  },
  {
   "cell_type": "code",
   "execution_count": null,
   "metadata": {
    "id": "audio_generation"
   },
   "outputs": [],
   "source": [
    "# Function to generate audio from a PDF file\n",
    "def generate_audio_from_pdf(pdf_path, speaker1_voice='af_heart', speaker2_voice='af_nicole'):\n",
    "    # Generate transcript from PDF\n",
    "    transcript, _ = generate_podcast_script(pdf_path)\n",
    "    if transcript is None:\n",
    "        print(\"Error generating transcript.\")\n",
    "        return\n",
    "    \n",
    "    # Define output audio file path\n",
    "    audio_output_path = pdf_path.replace('.pdf', '_audio.wav')\n",
    "    \n",
    "    # Generate audio from the transcript\n",
    "    result = generate_audio_from_script(transcript, audio_output_path)\n",
    "    if result is None:\n",
    "        print(\"Error generating audio.\")\n",
    "    else:\n",
    "        print(f\"Audio generated and saved as: {audio_output_path}\")\n",
    "\n",
    "# Example usage\n",
    "pdf_file_path = '/path/to/your/pdf_file.pdf'  # Change this to your PDF file path\n",
    "generate_audio_from_pdf(pdf_file_path)"
   ]
  }
 ],
 "metadata": {
  "kernelspec": {
   "display_name": "Python 3",
   "language": "python",
   "name": "python3"
  },
  "language_info": {
   "codemirror_mode": {
    "name": "ipython",
    "version": 3
   },
   "file_extension": ".py",
   "mimetype": "text/x-python",
   "name": "python",
   "nbconvert_exporter": "python",
   "pygments_lexer": "ipython3",
   "version": "3.7.10"
  }
 },
 "nbformat": 4,
 "nbformat_minor": 4
}