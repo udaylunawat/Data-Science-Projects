{
 "cells": [
  {
   "cell_type": "markdown",
   "metadata": {
    "colab_type": "text",
    "id": "LkXTlOM142FH"
   },
   "source": [
    "# SGD Algorithm to predict movie ratings"
   ]
  },
  {
   "cell_type": "markdown",
   "metadata": {
    "colab_type": "text",
    "id": "5pveXiAD42FJ"
   },
   "source": [
    "<pre>\n",
    "1. Download the data from <a href='https://drive.google.com/open?id=1-1z7iDB52cB6_JpO7Dqa-eOYSs-mivpq'> here </a>\n",
    "2. the data will be of this formate, each data point is represented as a triplet of user_id, movie_id and rating \n",
    "<table>\n",
    "<tr><th>user_id</th><th>movie_id</th><th>rating</th></tr>\n",
    "<tr><td>77</td><td>236</td><td>3</td></tr>\n",
    "<tr><td>471</td><td>208</td><td>5</td></tr>\n",
    "<tr><td>641</td><td>401</td><td>4</td></tr>\n",
    "<tr><td>31</td><td>298</td><td>4</td></tr>\n",
    "<tr><td>58</td><td>504</td><td>5</td></tr>\n",
    "<tr><td>235</td><td>727</td><td>5</td></tr>\n",
    "</table>\n",
    "<h3>task 1: Predict the rating for a given (user_id, movie_id) pair</h3>\n",
    "</pre>\n",
    "<ul>\n",
    "<li><span class=\"math\">\\(\\mu\\)</span> : scalar mean rating</li>\n",
    "<li><span class=\"math\">\\(b_i\\)</span> : scalar bias term for user <span class=\"math\">\\(i\\)</span></li>\n",
    "<li><span class=\"math\">\\(c_j\\)</span> : scalar bias term for movie <span class=\"math\">\\(j\\)</span></li>\n",
    "<li><span class=\"math\">\\(u_i\\)</span> : K-dimensional vector for user <span class=\"math\">\\(i\\)</span></li>\n",
    "<li><span class=\"math\">\\(v_j\\)</span> : K-dimensional vector for movie <span class=\"math\">\\(j\\)</span></li>\n",
    "</ul>\n",
    "then the predicted rating $\\hat{y}_{ij}$ for user i, movied j pair is calcuated as $\\hat{y}_{ij} = \\mu + b_i + c_j + u_i^T v_j$ here we will be finding the best values of $b_{i}$ and $c_{j}$ using SGD algorithm with the optimization problem for N users and M movies is defined as\n",
    "\n",
    "\n",
    "$$\n",
    "L = \\min_{ b, c, \\{ u_i \\}_{i=1}^N, \\{ v_j \\}_{j=1}^M}\n",
    "\\quad\n",
    "\\alpha \\Big(\n",
    "    \\sum_{j} \\sum_{k} v_{jk}^2 \n",
    "    + \\sum_{i} \\sum_{k} u_{ik}^2 \n",
    "    + \\sum_{i} b_i^2\n",
    "    + \\sum_{j} c_i^2\n",
    "    \\Big)\n",
    "+ \\sum_{i,j \\in \\mathcal{I}^{\\text{train}}}\n",
    "    (y_{ij} - \\mu - b_i - c_j - u_i^T v_j)^2\n",
    "$$\n",
    "\n",
    "### TASK: 1\n",
    "__SGD Algorithm to minimize the loss__\n",
    "1. for each unique user initilize a bias value $B_{i}$ randomly, so if we have $N$ users $B$ will be a $N$ dimensional vector, the $i^{th}$ value of the $B$ will corresponds to the bias term for $i^{th}$ user\n",
    "\n",
    "2. for each unique movie initilize a bias value $C_{j}$ randomly, so if we have $M$ movies $C$ will be a $M$ dimensional vector, the $j^{th}$ value of the $C$ will corresponds to the bias term for $j^{th}$ movie\n",
    "\n",
    "3. Construct adjacency matrix with the given data, assumeing its  <a href='https://en.wikipedia.org/wiki/Bipartite_graph'> weighted un-directed bi-partited graph</a> and the weight of each edge is the rating given by user to the movie\n",
    "<img src='https://i.imgur.com/rmUCGMb.jpg' width=200>\n",
    "you can construct this matrix like $A[i][j]=r_{ij}$ here $i$ is user_id, $j$ is movie_id and $r_{ij}$ is rating given by user $i$ to the movie $j$\n",
    "\n",
    "4. we will Apply SVD decomposition on the Adjaceny matrix <a href='https://stackoverflow.com/a/31528944/4084039'>link1</a>, <a href='https://machinelearningmastery.com/singular-value-decomposition-for-machine-learning/'> link2</a> and get three matrices $U, \\sum, V$ such that $U \\times \\sum \\times V^T = A$, <br> \n",
    "if $A$ is of dimensions $N \\times M$ then <br>\n",
    "U is of $N \\times k$, <br>\n",
    "$\\sum$ is of $k \\times k$ and <br>\n",
    "$V$ is $M \\times k$ dimensions. <br>\n",
    "\n",
    "5. So the matrix $U$ can be represented as matrix representation of users, where each row $u_{i}$ represents a k-dimensional vector for a user\n",
    "\n",
    "6. So the matrix $V$ can be represented as matrix representation of movies, where each row $v_{j}$ represents a k-dimensional vector for a movie\n",
    "\n",
    "7. $\\mu$ represents the mean of all the rating given in the dataset\n",
    "</pre>\n",
    "\n",
    "<br>8.\n",
    "<pre>\n",
    "for each epoch:\n",
    "    for each pair of (user, movie):\n",
    "        b_i =  b_i - learning_rate * dL/db_i\n",
    "        c_j =  c_j - learning_rate * dL/dc_j\n",
    "    predict the ratings with formula</pre>$\\hat{y}_{ij} = \\mu + b_i + c_j + \\text{dot_product}(u_i , v_j) $\n",
    " <pre>\n",
    "    print the mean squared error with predicted ratings\n",
    "    </pre>\n",
    "\n",
    "9. you can choose any learning rate and regularization term in the range $10^{-3}  \\text{ to } 10^2$  <br>\n",
    "\n",
    "10. __bonus__: instead of using SVD decomposition you can learn the vectors $u_i$, $v_j$ with the help of SGD algo similar to $b_i$ and $c_j$ \n",
    "### TASK: 2\n",
    "\n",
    "As we know U is the learned matrix of user vectors, with its i-th row as the vector ui for user i. Each row of U can be seen as a \"feature vector\" for a particular user.\n",
    "\n",
    "The question we'd like to investigate is this: do our computed per-user features that are optimized for predicting movie ratings contain anything to do with gender?\n",
    "\n",
    "The provided data file <a href='https://drive.google.com/open?id=1PHFdJh_4gIPiLH5Q4UErH8GK71hTrzlY'>user_info.csv</a> contains an is_male column indicating which users in the dataset are male. Can you predict this signal given the features U?\n",
    "\n",
    "\n",
    "> __Note 1__ : there is no train test split in the data, the goal of this assignment is to give an intution about how to do matrix factorization with the help of SGD and application of truncated SVD. for better understanding of the collabarative fillerting please check netflix case study. <br><br>\n",
    "> __Note 2__ : Check if scaling of $U$, $V$ matrices improve the metric "
   ]
  },
  {
   "cell_type": "markdown",
   "metadata": {},
   "source": [
    "# https://aaic-forum.slack.com/archives/GFLSLF27P/p1579583159062500\n",
    "<img src=\"https://i.imgur.com/jqpIwr1.jpg\" width=\"400\" />"
   ]
  },
  {
   "cell_type": "code",
   "execution_count": 1,
   "metadata": {
    "colab": {},
    "colab_type": "code",
    "id": "1GB_NZT542FL",
    "outputId": "c33c2d4a-7af2-4c2c-9249-b0167a086a50"
   },
   "outputs": [
    {
     "data": {
      "text/plain": [
       "(89992, 3)"
      ]
     },
     "execution_count": 1,
     "metadata": {},
     "output_type": "execute_result"
    }
   ],
   "source": [
    "import pandas as pd\n",
    "import numpy as np\n",
    "import random\n",
    "import networkx as nx\n",
    "from sklearn.metrics import mean_squared_error\n",
    "from scipy.sparse import coo_matrix, csr_matrix\n",
    "from sklearn.utils.extmath import randomized_svd\n",
    "import matplotlib.pyplot as plt\n",
    "\n",
    "data = pd.read_csv('ratings_train.csv')\n",
    "data.shape"
   ]
  },
  {
   "cell_type": "code",
   "execution_count": 2,
   "metadata": {},
   "outputs": [],
   "source": [
    "sorted_unique_users = np.sort(data.user_id.unique())\n",
    "sorted_unique_movies = np.sort(data.item_id.unique())"
   ]
  },
  {
   "cell_type": "code",
   "execution_count": 3,
   "metadata": {},
   "outputs": [],
   "source": [
    "#Create a sparse Matrix with user as a row, movies as a column and rating as a data and then convert sparse Matrix to dense you will get adjecency matrix\n",
    "z = coo_matrix((data['rating'],(data.user_id, data.item_id)), shape=(943, 1681))\n",
    "matrix = z.todense()"
   ]
  },
  {
   "cell_type": "code",
   "execution_count": 4,
   "metadata": {
    "colab": {},
    "colab_type": "code",
    "id": "t_lHKVD342FP",
    "outputId": "2d8b1b67-4692-4deb-99be-e65f821a017b"
   },
   "outputs": [
    {
     "name": "stdout",
     "output_type": "stream",
     "text": [
      "(943, 5)\n",
      "(5,)\n",
      "(1681, 5)\n"
     ]
    }
   ],
   "source": [
    "k = 5\n",
    "\n",
    "\n",
    "# Initialized the size of matrix as no. of users and movies\n",
    "# matrix = np.random.random((sorted_unique_users.size, sorted_unique_movies.size))\n",
    "U, Sigma, VT = randomized_svd(matrix, n_components=k,n_iter=5, random_state=None)\n",
    "print(U.shape)\n",
    "print(Sigma.shape)\n",
    "print(VT.T.shape)"
   ]
  },
  {
   "cell_type": "code",
   "execution_count": 5,
   "metadata": {
    "collapsed": true,
    "jupyter": {
     "outputs_hidden": true
    }
   },
   "outputs": [
    {
     "name": "stdout",
     "output_type": "stream",
     "text": [
      "Epoch_no \tmse_score\n",
      "0 \t 1.0883927951930348\n",
      "1 \t 0.8595241523017784\n",
      "2 \t 0.8271883058553882\n",
      "3 \t 0.8138901019480631\n",
      "4 \t 0.8070467229139505\n",
      "5 \t 0.8030457004935293\n",
      "6 \t 0.800492757789174\n",
      "7 \t 0.7987537257881843\n",
      "8 \t 0.7975068552218167\n",
      "9 \t 0.7965753426262686\n",
      "10 \t 0.7958557800022351\n",
      "11 \t 0.7952845081366725\n",
      "12 \t 0.7948205966494635\n",
      "13 \t 0.79443671950269\n",
      "14 \t 0.7941140219507135\n",
      "15 \t 0.7938391113771105\n",
      "16 \t 0.7936022282904156\n",
      "17 \t 0.7933960981981261\n",
      "18 \t 0.7932151895986366\n",
      "19 \t 0.7930552215677726\n",
      "20 \t 0.792912828977716\n",
      "21 \t 0.7927853297872347\n",
      "22 \t 0.7926705599660774\n",
      "23 \t 0.7925667542004233\n",
      "24 \t 0.7924724582055307\n",
      "25 \t 0.7923864632634415\n",
      "26 \t 0.7923077566562033\n",
      "27 \t 0.7922354836478349\n",
      "28 \t 0.7921689179797982\n",
      "29 \t 0.792107438727257\n"
     ]
    }
   ],
   "source": [
    "sorted_unique_users = np.sort(data.user_id.unique())\n",
    "sorted_unique_movies = np.sort(data.item_id.unique())\n",
    "N = len(data)\n",
    "\n",
    "epoch = 30\n",
    "learning_rate = random.choice([0.001,0.01,0.1,1,10,100])\n",
    "reg_term = random.choice([0.001,0.01,0.1,1,10,100])\n",
    "\n",
    "B = np.random.rand(sorted_unique_users.size) #Bias value B for users\n",
    "C = np.random.rand(max(sorted_unique_movies)+1) #Bias value B for users\n",
    "mu = data.rating.mean() #mu represents the mean of all the rating given in the dataset\n",
    "y = data['rating'].values\n",
    "y_pred = np.zeros(data.shape[0])\n",
    "mse_list = []\n",
    "\n",
    "print(\"Epoch_no \\tmse_score\")\n",
    "for e in range(epoch):\n",
    "    for index, (user, movie, rating) in enumerate(data.values):\n",
    "        b_i, c_j = B[user], C[movie]\n",
    "        \n",
    "        #Dbi is dL/dbi\n",
    "        Dbi = 2 * reg_term * b_i - 2 * (rating- mu - b_i - c_j - np.dot(U[user], VT.T[movie]))\n",
    "        b_i = b_i - learning_rate * Dbi\n",
    "        \n",
    "        #Dcj is dL/dcj\n",
    "        Dcj = 2 * reg_term * c_j - 2 * (rating - mu - b_i - c_j - np.dot(U[user], VT.T[movie]))\n",
    "        c_j = c_j - learning_rate * Dcj\n",
    "        \n",
    "        #Updating b_i and c_j in B & C arrays\n",
    "        B[user], C[movie] = b_i, c_j\n",
    "        \n",
    "        y_pred[index] = mu + b_i + c_j + np.dot(U[user], VT.T[movie])\n",
    "    mse = mean_squared_error(y, y_pred)\n",
    "    mse_list.append(mse)\n",
    "    print(e, \"\\t\",mse)"
   ]
  },
  {
   "cell_type": "code",
   "execution_count": 6,
   "metadata": {},
   "outputs": [
    {
     "data": {
      "text/plain": [
       "Text(0, 0.5, 'MSE')"
      ]
     },
     "execution_count": 6,
     "metadata": {},
     "output_type": "execute_result"
    },
    {
     "data": {
      "image/png": "[encoded data removed]",
      "text/plain": [
       "<Figure size 432x288 with 1 Axes>"
      ]
     },
     "metadata": {
      "needs_background": "light"
     },
     "output_type": "display_data"
    }
   ],
   "source": [
    "plt.plot(mse_list)\n",
    "plt.title(\"MSE Error\")\n",
    "plt.xlabel(\"Epochs\")\n",
    "plt.ylabel(\"MSE\")"
   ]
  },
  {
   "cell_type": "markdown",
   "metadata": {},
   "source": [
    "#Updated ci to cj\n",
    "\n",
    "$$\n",
    "L = \\min_{ b, c, \\{ u_i \\}_{i=1}^N, \\{ v_j \\}_{j=1}^M}\n",
    "\\quad\n",
    "\\alpha \\Big(\n",
    "    \\sum_{j} \\sum_{k} v_{jk}^2 \n",
    "    + \\sum_{i} \\sum_{k} u_{ik}^2 \n",
    "    + \\sum_{i} b_i^2\n",
    "    + \\sum_{j} c_j^2\n",
    "    \\Big)\n",
    "+ \\sum_{i,j \\in \\mathcal{I}^{\\text{train}}}\n",
    "    (y_{ij} - \\mu - b_i - c_j - u_i^T v_j)^2\n",
    "$$"
   ]
  },
  {
   "cell_type": "code",
   "execution_count": 7,
   "metadata": {},
   "outputs": [],
   "source": [
    "# Questions\n",
    "# How to decide the right K\n",
    "# To calculate v^2 jk over sum of all j and k, is it over all j or particular j\n",
    "# How to calculate db_i and db_j"
   ]
  },
  {
   "cell_type": "markdown",
   "metadata": {},
   "source": [
    "2 * alpha * bi - 2 (yij - mu - bi - ci - ui^T*vj)\n",
    "\n",
    "2 * alpha * cj - 2 (yij - mu - bi - ci - ui^T*vj)"
   ]
  },
  {
   "cell_type": "markdown",
   "metadata": {},
   "source": [
    "# Task 2"
   ]
  },
  {
   "cell_type": "code",
   "execution_count": 8,
   "metadata": {},
   "outputs": [],
   "source": [
    "gender_data = pd.read_csv('user_info.csv')"
   ]
  },
  {
   "cell_type": "code",
   "execution_count": 9,
   "metadata": {},
   "outputs": [],
   "source": [
    "y = gender_data['is_male'].values\n",
    "X = gender_data.drop('is_male', axis =1)"
   ]
  },
  {
   "cell_type": "code",
   "execution_count": 10,
   "metadata": {},
   "outputs": [],
   "source": [
    "new_X = pd.concat([X, pd.DataFrame(U, columns=list('ABCDE'))], axis=1)"
   ]
  },
  {
   "cell_type": "code",
   "execution_count": 11,
   "metadata": {},
   "outputs": [],
   "source": [
    "from sklearn.model_selection import train_test_split\n",
    "X_train, X_test, y_train, y_test = train_test_split(new_X, y, test_size = 0.25)"
   ]
  },
  {
   "cell_type": "code",
   "execution_count": 12,
   "metadata": {},
   "outputs": [
    {
     "data": {
      "text/plain": [
       "DecisionTreeClassifier(class_weight=None, criterion='gini', max_depth=None,\n",
       "            max_features=None, max_leaf_nodes=None,\n",
       "            min_impurity_decrease=0.0, min_impurity_split=None,\n",
       "            min_samples_leaf=1, min_samples_split=2,\n",
       "            min_weight_fraction_leaf=0.0, presort=False, random_state=None,\n",
       "            splitter='best')"
      ]
     },
     "execution_count": 12,
     "metadata": {},
     "output_type": "execute_result"
    }
   ],
   "source": [
    "from sklearn.tree import DecisionTreeClassifier\n",
    "clf = DecisionTreeClassifier()\n",
    "clf.fit(X_train, y_train)"
   ]
  },
  {
   "cell_type": "code",
   "execution_count": 13,
   "metadata": {},
   "outputs": [
    {
     "data": {
      "text/plain": [
       "0.597457627118644"
      ]
     },
     "execution_count": 13,
     "metadata": {},
     "output_type": "execute_result"
    }
   ],
   "source": [
    "clf.score(X_test, y_test)"
   ]
  },
  {
   "cell_type": "code",
   "execution_count": 14,
   "metadata": {},
   "outputs": [
    {
     "data": {
      "text/plain": [
       "0.5378151260504203"
      ]
     },
     "execution_count": 14,
     "metadata": {},
     "output_type": "execute_result"
    }
   ],
   "source": [
    "from sklearn.metrics import roc_auc_score\n",
    "y_pred = clf.predict(np.array(X_test))\n",
    "roc_auc_score(y_test, y_pred)"
   ]
  },
  {
   "cell_type": "markdown",
   "metadata": {},
   "source": [
    "## scaling U and VT"
   ]
  },
  {
   "cell_type": "code",
   "execution_count": 15,
   "metadata": {},
   "outputs": [],
   "source": [
    "from sklearn.preprocessing import StandardScaler\n",
    "scaler = StandardScaler()\n",
    "U_scaled = scaler.fit_transform(U)\n",
    "VT_scaled = scaler.fit_transform(VT)"
   ]
  },
  {
   "cell_type": "code",
   "execution_count": 16,
   "metadata": {},
   "outputs": [
    {
     "name": "stdout",
     "output_type": "stream",
     "text": [
      "Epoch_no \tmse_score\n",
      "0 \t 13.804552821506416\n",
      "1 \t 9.112838312454372\n",
      "2 \t 7.851924334330101\n",
      "3 \t 7.330838886135253\n",
      "4 \t 7.05213920659876\n",
      "5 \t 6.876639145285128\n",
      "6 \t 6.753900368315021\n",
      "7 \t 6.661963461569701\n",
      "8 \t 6.589824974024179\n",
      "9 \t 6.531335075599372\n",
      "10 \t 6.48275367156266\n",
      "11 \t 6.441652347138368\n",
      "12 \t 6.406371433355669\n",
      "13 \t 6.3757294262230255\n",
      "14 \t 6.348856982964678\n",
      "15 \t 6.325096837228682\n",
      "16 \t 6.303940686561787\n",
      "17 \t 6.284987858384184\n",
      "18 \t 6.267917349101854\n",
      "19 \t 6.252468372875496\n",
      "20 \t 6.238426495170696\n",
      "21 \t 6.2256135321599935\n",
      "22 \t 6.21388005112602\n",
      "23 \t 6.203099706260709\n",
      "24 \t 6.193164894847303\n",
      "25 \t 6.183983380057747\n",
      "26 \t 6.175475632697321\n",
      "27 \t 6.167572715469684\n",
      "28 \t 6.160214582063829\n",
      "29 \t 6.15334869726591\n"
     ]
    }
   ],
   "source": [
    "sorted_unique_users = np.sort(data.user_id.unique())\n",
    "sorted_unique_movies = np.sort(data.item_id.unique())\n",
    "N = len(data)\n",
    "\n",
    "epoch = 30\n",
    "learning_rate = random.choice([0.001,0.01,0.1,1,10,100])\n",
    "reg_term = random.choice([0.001,0.01,0.1,1,10,100])\n",
    "\n",
    "B = np.random.rand(sorted_unique_users.size) #Bias value B for users\n",
    "C = np.random.rand(max(sorted_unique_movies)+1) #Bias value B for users\n",
    "mu = data.rating.mean() #mu represents the mean of all the rating given in the dataset\n",
    "y = data['rating'].values\n",
    "y_pred = np.zeros(data.shape[0])\n",
    "mse_list = []\n",
    "\n",
    "print(\"Epoch_no \\tmse_score\")\n",
    "for e in range(epoch):\n",
    "    for index, (user, movie, rating) in enumerate(data.values):\n",
    "        b_i, c_j = B[user], C[movie]\n",
    "        \n",
    "        #Dbi is dL/dbi\n",
    "        Dbi = 2 * reg_term * b_i - 2 * (rating- mu - b_i - c_j - np.dot(U_scaled[user], VT_scaled.T[movie]))\n",
    "        b_i = b_i - learning_rate * Dbi\n",
    "        \n",
    "        #Dcj is dL/dcj\n",
    "        Dcj = 2 * reg_term * c_j - 2 * (rating - mu - b_i - c_j - np.dot(U_scaled[user], VT_scaled.T[movie]))\n",
    "        c_j = c_j - learning_rate * Dcj\n",
    "        \n",
    "        #Updating b_i and c_j in B & C arrays\n",
    "        B[user], C[movie] = b_i, c_j\n",
    "        \n",
    "        y_pred[index] = mu + b_i + c_j + np.dot(U_scaled[user], VT_scaled.T[movie])\n",
    "    mse = mean_squared_error(y, y_pred)\n",
    "    mse_list.append(mse)\n",
    "    print(e, \"\\t\",mse)"
   ]
  },
  {
   "cell_type": "code",
   "execution_count": 17,
   "metadata": {},
   "outputs": [
    {
     "data": {
      "text/plain": [
       "Text(0, 0.5, 'MSE')"
      ]
     },
     "execution_count": 17,
     "metadata": {},
     "output_type": "execute_result"
    },
    {
     "data": {
      "image/png": "[encoded data removed]",
      "text/plain": [
       "<Figure size 432x288 with 1 Axes>"
      ]
     },
     "metadata": {
      "needs_background": "light"
     },
     "output_type": "display_data"
    }
   ],
   "source": [
    "plt.plot(mse_list)\n",
    "plt.title(\"MSE Error\")\n",
    "plt.xlabel(\"Epochs\")\n",
    "plt.ylabel(\"MSE\")"
   ]
  },
  {
   "cell_type": "markdown",
   "metadata": {},
   "source": [
    "Scaling of U & V matrices does not improve the martric"
   ]
  },
  {
   "cell_type": "code",
   "execution_count": null,
   "metadata": {},
   "outputs": [],
   "source": []
  },
  {
   "cell_type": "code",
   "execution_count": null,
   "metadata": {},
   "outputs": [],
   "source": []
  },
  {
   "cell_type": "code",
   "execution_count": null,
   "metadata": {},
   "outputs": [],
   "source": []
  },
  {
   "cell_type": "code",
   "execution_count": null,
   "metadata": {},
   "outputs": [],
   "source": []
  },
  {
   "cell_type": "code",
   "execution_count": null,
   "metadata": {},
   "outputs": [],
   "source": []
  },
  {
   "cell_type": "code",
   "execution_count": null,
   "metadata": {},
   "outputs": [],
   "source": []
  },
  {
   "cell_type": "code",
   "execution_count": null,
   "metadata": {},
   "outputs": [],
   "source": []
  },
  {
   "cell_type": "code",
   "execution_count": null,
   "metadata": {},
   "outputs": [],
   "source": []
  }
 ],
 "metadata": {
  "kernelspec": {
   "display_name": "Python 3",
   "language": "python",
   "name": "python3"
  },
  "language_info": {
   "codemirror_mode": {
    "name": "ipython",
    "version": 3
   },
   "file_extension": ".py",
   "mimetype": "text/x-python",
   "name": "python",
   "nbconvert_exporter": "python",
   "pygments_lexer": "ipython3",
   "version": "3.7.3"
  }
 },
 "nbformat": 4,
 "nbformat_minor": 4
}
